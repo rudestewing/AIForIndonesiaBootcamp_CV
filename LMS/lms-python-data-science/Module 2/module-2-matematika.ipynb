{
 "cells": [
  {
   "cell_type": "code",
   "execution_count": 13,
   "id": "8b9f88b9",
   "metadata": {},
   "outputs": [],
   "source": [
    "x = (1,2,3,4,5)"
   ]
  },
  {
   "cell_type": "code",
   "execution_count": 14,
   "id": "b2c2c038",
   "metadata": {},
   "outputs": [],
   "source": [
    "minValue = min(x)"
   ]
  },
  {
   "cell_type": "code",
   "execution_count": 15,
   "id": "1226b69a",
   "metadata": {},
   "outputs": [
    {
     "data": {
      "text/plain": [
       "1"
      ]
     },
     "execution_count": 15,
     "metadata": {},
     "output_type": "execute_result"
    }
   ],
   "source": [
    "minValue"
   ]
  },
  {
   "cell_type": "code",
   "execution_count": null,
   "id": "f6dbe98d",
   "metadata": {},
   "outputs": [],
   "source": []
  }
 ],
 "metadata": {
  "kernelspec": {
   "display_name": "Python 3 (ipykernel)",
   "language": "python",
   "name": "python3"
  },
  "language_info": {
   "codemirror_mode": {
    "name": "ipython",
    "version": 3
   },
   "file_extension": ".py",
   "mimetype": "text/x-python",
   "name": "python",
   "nbconvert_exporter": "python",
   "pygments_lexer": "ipython3",
   "version": "3.11.5"
  }
 },
 "nbformat": 4,
 "nbformat_minor": 5
}
