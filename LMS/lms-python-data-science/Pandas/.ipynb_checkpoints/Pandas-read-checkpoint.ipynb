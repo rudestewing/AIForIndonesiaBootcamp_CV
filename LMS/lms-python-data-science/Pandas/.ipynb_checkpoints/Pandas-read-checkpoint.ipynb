{
 "cells": [
  {
   "cell_type": "code",
   "execution_count": null,
   "id": "db307165-5ac6-4349-9c15-a822e8c71716",
   "metadata": {},
   "outputs": [],
   "source": [
    "import pandas as pd"
   ]
  },
  {
   "cell_type": "code",
   "execution_count": null,
   "id": "c659a3dc-9de6-4420-afca-0b214fa0969e",
   "metadata": {},
   "outputs": [],
   "source": [
    "dataFrame = pd.read_csv(./data.csv)"
   ]
  },
  {
   "cell_type": "code",
   "execution_count": null,
   "id": "0cd789d0-c5b3-4423-a594-a0aa881cc139",
   "metadata": {},
   "outputs": [],
   "source": [
    "dataFrame"
   ]
  },
  {
   "cell_type": "code",
   "execution_count": null,
   "id": "fb7d2645-8bfa-410c-81c0-5c20ceeedbc9",
   "metadata": {},
   "outputs": [],
   "source": []
  }
 ],
 "metadata": {
  "kernelspec": {
   "display_name": "Python 3 (ipykernel)",
   "language": "python",
   "name": "python3"
  },
  "language_info": {
   "codemirror_mode": {
    "name": "ipython",
    "version": 3
   },
   "file_extension": ".py",
   "mimetype": "text/x-python",
   "name": "python",
   "nbconvert_exporter": "python",
   "pygments_lexer": "ipython3",
   "version": "3.12.1"
  }
 },
 "nbformat": 4,
 "nbformat_minor": 5
}
