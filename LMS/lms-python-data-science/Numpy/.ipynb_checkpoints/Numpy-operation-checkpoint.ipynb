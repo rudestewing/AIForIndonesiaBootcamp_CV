{
 "cells": [
  {
   "cell_type": "code",
   "execution_count": 1,
   "id": "add20f1f",
   "metadata": {},
   "outputs": [],
   "source": [
    "import numpy as np"
   ]
  },
  {
   "cell_type": "code",
   "execution_count": 2,
   "id": "f13175fa",
   "metadata": {},
   "outputs": [],
   "source": [
    "arr1 = np.array([[1,2], [3,4], [5,6], [7,8]])\n",
    "arr2 = np.array([[9,10], [11,12], [13,14], [15,16]])\n"
   ]
  },
  {
   "cell_type": "code",
   "execution_count": 3,
   "id": "a6eb62b0",
   "metadata": {},
   "outputs": [],
   "source": [
    "arr = np.hstack((arr1, arr2))"
   ]
  },
  {
   "cell_type": "code",
   "execution_count": 4,
   "id": "cdee4e85",
   "metadata": {},
   "outputs": [
    {
     "name": "stdout",
     "output_type": "stream",
     "text": [
      "[[ 1  2  9 10]\n",
      " [ 3  4 11 12]\n",
      " [ 5  6 13 14]\n",
      " [ 7  8 15 16]]\n"
     ]
    }
   ],
   "source": [
    "print(arr)"
   ]
  },
  {
   "cell_type": "code",
   "execution_count": null,
   "id": "ebbeb6ba",
   "metadata": {},
   "outputs": [],
   "source": []
  }
 ],
 "metadata": {
  "kernelspec": {
   "display_name": "Python 3 (ipykernel)",
   "language": "python",
   "name": "python3"
  },
  "language_info": {
   "codemirror_mode": {
    "name": "ipython",
    "version": 3
   },
   "file_extension": ".py",
   "mimetype": "text/x-python",
   "name": "python",
   "nbconvert_exporter": "python",
   "pygments_lexer": "ipython3",
   "version": "3.11.5"
  }
 },
 "nbformat": 4,
 "nbformat_minor": 5
}
