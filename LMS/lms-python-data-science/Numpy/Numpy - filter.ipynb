{
 "cells": [
  {
   "cell_type": "code",
   "execution_count": 4,
   "id": "ea3f640e",
   "metadata": {},
   "outputs": [],
   "source": [
    "import numpy as np"
   ]
  },
  {
   "cell_type": "code",
   "execution_count": 5,
   "id": "02cf1e15",
   "metadata": {},
   "outputs": [],
   "source": [
    "arr = np.array([51, 42, 23, 12, 24,12, 42,13, 90])"
   ]
  },
  {
   "cell_type": "code",
   "execution_count": 6,
   "id": "8fc40bb3",
   "metadata": {},
   "outputs": [],
   "source": [
    "filter_arr = arr > 30"
   ]
  },
  {
   "cell_type": "code",
   "execution_count": 7,
   "id": "a9906539",
   "metadata": {},
   "outputs": [
    {
     "name": "stdout",
     "output_type": "stream",
     "text": [
      "[51 42 42 90]\n"
     ]
    }
   ],
   "source": [
    "print(arr[filter_arr])"
   ]
  },
  {
   "cell_type": "code",
   "execution_count": 5,
   "id": "16cbfddd",
   "metadata": {},
   "outputs": [
    {
     "data": {
      "text/plain": [
       "(4, 2)"
      ]
     },
     "execution_count": 5,
     "metadata": {},
     "output_type": "execute_result"
    }
   ],
   "source": [
    "arr = np.array([\n",
    "    ['1', 'one'],\n",
    "    ['2', 'two'],\n",
    "    ['3', 'three'],\n",
    "    ['4', 'four']\n",
    "])\n",
    "\n",
    "arr.shape"
   ]
  },
  {
   "cell_type": "code",
   "execution_count": 8,
   "id": "ad35ee45",
   "metadata": {},
   "outputs": [
    {
     "name": "stdout",
     "output_type": "stream",
     "text": [
      "['two' 'four']\n"
     ]
    }
   ],
   "source": [
    "filter_arr = np.array(['two', 'four'])\n",
    "print(filter_arr)"
   ]
  },
  {
   "cell_type": "code",
   "execution_count": 9,
   "id": "378341ad",
   "metadata": {},
   "outputs": [],
   "source": [
    "arr = arr[np.in1d(arr[:, 1], filter_arr)]"
   ]
  },
  {
   "cell_type": "code",
   "execution_count": 10,
   "id": "49fbce25",
   "metadata": {},
   "outputs": [
    {
     "data": {
      "text/plain": [
       "array([['2', 'two'],\n",
       "       ['4', 'four']], dtype='<U5')"
      ]
     },
     "execution_count": 10,
     "metadata": {},
     "output_type": "execute_result"
    }
   ],
   "source": [
    "arr"
   ]
  },
  {
   "cell_type": "code",
   "execution_count": 35,
   "id": "b5325a94",
   "metadata": {},
   "outputs": [
    {
     "name": "stdout",
     "output_type": "stream",
     "text": [
      "[3, 4]\n"
     ]
    }
   ],
   "source": [
    "arr = [1,2,3,4]\n",
    "print(arr[2:5])"
   ]
  },
  {
   "cell_type": "code",
   "execution_count": null,
   "id": "014f6434",
   "metadata": {},
   "outputs": [],
   "source": []
  }
 ],
 "metadata": {
  "kernelspec": {
   "display_name": "Python 3 (ipykernel)",
   "language": "python",
   "name": "python3"
  },
  "language_info": {
   "codemirror_mode": {
    "name": "ipython",
    "version": 3
   },
   "file_extension": ".py",
   "mimetype": "text/x-python",
   "name": "python",
   "nbconvert_exporter": "python",
   "pygments_lexer": "ipython3",
   "version": "3.12.1"
  }
 },
 "nbformat": 4,
 "nbformat_minor": 5
}
