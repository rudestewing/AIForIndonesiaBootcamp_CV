{
 "cells": [
  {
   "cell_type": "code",
   "execution_count": null,
   "metadata": {
    "colab": {
     "base_uri": "https://localhost:8080/"
    },
    "executionInfo": {
     "elapsed": 7450,
     "status": "ok",
     "timestamp": 1680760567506,
     "user": {
      "displayName": "Ruby Abdullah",
      "userId": "15543415163694823474"
     },
     "user_tz": -420
    },
    "id": "akwCGuhhKe15",
    "outputId": "17f137ee-b9ae-47e7-ab6d-89c119ccb4e7"
   },
   "outputs": [],
   "source": [
    "!pip install gdown"
   ]
  },
  {
   "cell_type": "code",
   "execution_count": 3,
   "metadata": {
    "colab": {
     "base_uri": "https://localhost:8080/"
    },
    "executionInfo": {
     "elapsed": 26816,
     "status": "ok",
     "timestamp": 1680760594319,
     "user": {
      "displayName": "Ruby Abdullah",
      "userId": "15543415163694823474"
     },
     "user_tz": -420
    },
    "id": "D_88aWHMIbZB",
    "outputId": "9ae18894-38b5-47a9-a732-3e4f28fdde9d"
   },
   "outputs": [
    {
     "name": "stdout",
     "output_type": "stream",
     "text": [
      "zsh:1: no matches found: https://drive.google.com/u/0/uc?id=1hbzc_P1FuxMkcabkgn9ZKinBwW683j45\n"
     ]
    }
   ],
   "source": [
    "!gdown https://drive.google.com/u/0/uc?id=1hbzc_P1FuxMkcabkgn9ZKinBwW683j45&export=download"
   ]
  },
  {
   "cell_type": "code",
   "execution_count": 3,
   "metadata": {
    "executionInfo": {
     "elapsed": 10137,
     "status": "ok",
     "timestamp": 1680760604447,
     "user": {
      "displayName": "Ruby Abdullah",
      "userId": "15543415163694823474"
     },
     "user_tz": -420
    },
    "id": "-D1t5J-GIvkE"
   },
   "outputs": [
    {
     "name": "stdout",
     "output_type": "stream",
     "text": [
      "tar: Error opening archive: Failed to open './CUB_200_2011.tgz'\n"
     ]
    }
   ],
   "source": [
    "!tar -xf ./CUB_200_2011.tgz"
   ]
  },
  {
   "cell_type": "code",
   "execution_count": 4,
   "metadata": {
    "colab": {
     "base_uri": "https://localhost:8080/"
    },
    "executionInfo": {
     "elapsed": 9770,
     "status": "ok",
     "timestamp": 1680760614212,
     "user": {
      "displayName": "Ruby Abdullah",
      "userId": "15543415163694823474"
     },
     "user_tz": -420
    },
    "id": "IhyernISI3Em",
    "outputId": "9c96117f-9719-4e20-cf5d-677e483f97ea"
   },
   "outputs": [
    {
     "ename": "ModuleNotFoundError",
     "evalue": "No module named 'torchvision'",
     "output_type": "error",
     "traceback": [
      "\u001b[0;31m---------------------------------------------------------------------------\u001b[0m",
      "\u001b[0;31mModuleNotFoundError\u001b[0m                       Traceback (most recent call last)",
      "Cell \u001b[0;32mIn[4], line 8\u001b[0m\n\u001b[1;32m      6\u001b[0m \u001b[38;5;28;01mfrom\u001b[39;00m \u001b[38;5;21;01mtorch\u001b[39;00m\u001b[38;5;21;01m.\u001b[39;00m\u001b[38;5;21;01mautograd\u001b[39;00m \u001b[38;5;28;01mimport\u001b[39;00m Variable\n\u001b[1;32m      7\u001b[0m \u001b[38;5;28;01mimport\u001b[39;00m \u001b[38;5;21;01mnumpy\u001b[39;00m \u001b[38;5;28;01mas\u001b[39;00m \u001b[38;5;21;01mnp\u001b[39;00m\n\u001b[0;32m----> 8\u001b[0m \u001b[38;5;28;01mimport\u001b[39;00m \u001b[38;5;21;01mtorchvision\u001b[39;00m\n\u001b[1;32m      9\u001b[0m \u001b[38;5;28;01mfrom\u001b[39;00m \u001b[38;5;21;01mtorchvision\u001b[39;00m \u001b[38;5;28;01mimport\u001b[39;00m datasets, models, transforms\n\u001b[1;32m     10\u001b[0m \u001b[38;5;28;01mimport\u001b[39;00m \u001b[38;5;21;01mmatplotlib\u001b[39;00m\u001b[38;5;21;01m.\u001b[39;00m\u001b[38;5;21;01mpyplot\u001b[39;00m \u001b[38;5;28;01mas\u001b[39;00m \u001b[38;5;21;01mplt\u001b[39;00m\n",
      "\u001b[0;31mModuleNotFoundError\u001b[0m: No module named 'torchvision'"
     ]
    }
   ],
   "source": [
    "from __future__ import print_function, division\n",
    "\n",
    "import torch\n",
    "import torch.nn as nn\n",
    "import torch.optim as optim\n",
    "from torch.autograd import Variable\n",
    "import numpy as np\n",
    "import torchvision\n",
    "from torchvision import datasets, models, transforms\n",
    "import matplotlib.pyplot as plt\n",
    "import time\n",
    "import os\n",
    "import seaborn as sns\n",
    "plt.ion()"
   ]
  },
  {
   "cell_type": "markdown",
   "metadata": {
    "id": "C0PYbMcLMGpi"
   },
   "source": [
    "## Train Test Split"
   ]
  },
  {
   "cell_type": "code",
   "execution_count": null,
   "metadata": {
    "executionInfo": {
     "elapsed": 17,
     "status": "ok",
     "timestamp": 1680760614213,
     "user": {
      "displayName": "Ruby Abdullah",
      "userId": "15543415163694823474"
     },
     "user_tz": -420
    },
    "id": "4XJRP8BIMZoN"
   },
   "outputs": [],
   "source": [
    "read_line = open('./CUB_200_2011/train_test_split.txt')"
   ]
  },
  {
   "cell_type": "code",
   "execution_count": null,
   "metadata": {
    "executionInfo": {
     "elapsed": 15,
     "status": "ok",
     "timestamp": 1680760614213,
     "user": {
      "displayName": "Ruby Abdullah",
      "userId": "15543415163694823474"
     },
     "user_tz": -420
    },
    "id": "mRq1X1EDMff7"
   },
   "outputs": [],
   "source": [
    "a = read_line.readlines()"
   ]
  },
  {
   "cell_type": "code",
   "execution_count": null,
   "metadata": {
    "colab": {
     "base_uri": "https://localhost:8080/",
     "height": 35
    },
    "executionInfo": {
     "elapsed": 14,
     "status": "ok",
     "timestamp": 1680760614213,
     "user": {
      "displayName": "Ruby Abdullah",
      "userId": "15543415163694823474"
     },
     "user_tz": -420
    },
    "id": "tu3DHuyHMfX2",
    "outputId": "8fc890b6-7b4b-4d2f-e6ce-841553c7eb9b"
   },
   "outputs": [],
   "source": [
    "a[0].split(' ')[1].split('\\n')[0]"
   ]
  },
  {
   "cell_type": "code",
   "execution_count": null,
   "metadata": {
    "colab": {
     "base_uri": "https://localhost:8080/"
    },
    "executionInfo": {
     "elapsed": 7,
     "status": "ok",
     "timestamp": 1680760614213,
     "user": {
      "displayName": "Ruby Abdullah",
      "userId": "15543415163694823474"
     },
     "user_tz": -420
    },
    "id": "S9V4Ms-IMfJb",
    "outputId": "481ed59d-27ce-4b35-f80d-03c8945fe0cb"
   },
   "outputs": [],
   "source": [
    "classes = open('./CUB_200_2011/classes.txt')\n",
    "c_names = classes.readlines()\n",
    "len(c_names)"
   ]
  },
  {
   "cell_type": "code",
   "execution_count": null,
   "metadata": {
    "executionInfo": {
     "elapsed": 6,
     "status": "ok",
     "timestamp": 1680760614214,
     "user": {
      "displayName": "Ruby Abdullah",
      "userId": "15543415163694823474"
     },
     "user_tz": -420
    },
    "id": "wQH_C6mJMu30"
   },
   "outputs": [],
   "source": [
    "for i in range(len(c_names)):\n",
    "    c_names[i] = c_names[i].split(' ')[1]"
   ]
  },
  {
   "cell_type": "code",
   "execution_count": null,
   "metadata": {
    "colab": {
     "base_uri": "https://localhost:8080/",
     "height": 35
    },
    "executionInfo": {
     "elapsed": 6,
     "status": "ok",
     "timestamp": 1680760614214,
     "user": {
      "displayName": "Ruby Abdullah",
      "userId": "15543415163694823474"
     },
     "user_tz": -420
    },
    "id": "5TLxHKxpMuz5",
    "outputId": "88247c45-31a7-4d41-a64c-6296e3443e4c"
   },
   "outputs": [],
   "source": [
    "c_names[0].split('\\n')[0]"
   ]
  },
  {
   "cell_type": "code",
   "execution_count": null,
   "metadata": {
    "executionInfo": {
     "elapsed": 5,
     "status": "ok",
     "timestamp": 1680760614214,
     "user": {
      "displayName": "Ruby Abdullah",
      "userId": "15543415163694823474"
     },
     "user_tz": -420
    },
    "id": "ics4RO02MuvS"
   },
   "outputs": [],
   "source": [
    "import os\n",
    "for i in range(len(c_names)):\n",
    "    os.makedirs('./test/'+c_names[i].split('\\n')[0])"
   ]
  },
  {
   "cell_type": "code",
   "execution_count": null,
   "metadata": {
    "executionInfo": {
     "elapsed": 749,
     "status": "ok",
     "timestamp": 1680760614958,
     "user": {
      "displayName": "Ruby Abdullah",
      "userId": "15543415163694823474"
     },
     "user_tz": -420
    },
    "id": "bjgUsyPeMun3"
   },
   "outputs": [],
   "source": [
    "train_dataset = datasets.ImageFolder('./CUB_200_2011/images')"
   ]
  },
  {
   "cell_type": "code",
   "execution_count": null,
   "metadata": {
    "executionInfo": {
     "elapsed": 10,
     "status": "ok",
     "timestamp": 1680760614958,
     "user": {
      "displayName": "Ruby Abdullah",
      "userId": "15543415163694823474"
     },
     "user_tz": -420
    },
    "id": "GeoSuqP8NZJI"
   },
   "outputs": [],
   "source": [
    "from skimage import io"
   ]
  },
  {
   "cell_type": "code",
   "execution_count": null,
   "metadata": {
    "colab": {
     "base_uri": "https://localhost:8080/"
    },
    "executionInfo": {
     "elapsed": 9,
     "status": "ok",
     "timestamp": 1680760614959,
     "user": {
      "displayName": "Ruby Abdullah",
      "userId": "15543415163694823474"
     },
     "user_tz": -420
    },
    "id": "HmLfsmT0NY-h",
    "outputId": "37d9c5cd-6488-407c-8786-f64f54cb12fa"
   },
   "outputs": [],
   "source": [
    "print(train_dataset.imgs[0][0].split('/'))"
   ]
  },
  {
   "cell_type": "code",
   "execution_count": null,
   "metadata": {
    "executionInfo": {
     "elapsed": 78686,
     "status": "ok",
     "timestamp": 1680760693639,
     "user": {
      "displayName": "Ruby Abdullah",
      "userId": "15543415163694823474"
     },
     "user_tz": -420
    },
    "id": "aUoN29i4Nge8"
   },
   "outputs": [],
   "source": [
    "for j in range(len(train_dataset.imgs)):\n",
    "    if(a[j].split(' ')[1].split('\\n')[0] == '0'):\n",
    "        path = train_dataset.imgs[j][0]\n",
    "        img = io.imread(path)\n",
    "        folder = train_dataset.imgs[j][0].split('/')[3]\n",
    "        img_name = train_dataset.imgs[j][0].split('/')[4]\n",
    "        io.imsave('./test/'+folder+'/'+img_name,img)\n",
    "        os.remove(path)"
   ]
  },
  {
   "cell_type": "code",
   "execution_count": null,
   "metadata": {
    "executionInfo": {
     "elapsed": 8,
     "status": "ok",
     "timestamp": 1680760693639,
     "user": {
      "displayName": "Ruby Abdullah",
      "userId": "15543415163694823474"
     },
     "user_tz": -420
    },
    "id": "LuDBAzhZNgXX"
   },
   "outputs": [],
   "source": [
    "!mkdir train"
   ]
  },
  {
   "cell_type": "code",
   "execution_count": null,
   "metadata": {
    "executionInfo": {
     "elapsed": 1878,
     "status": "ok",
     "timestamp": 1680760695513,
     "user": {
      "displayName": "Ruby Abdullah",
      "userId": "15543415163694823474"
     },
     "user_tz": -420
    },
    "id": "_yPWJGcmROMl"
   },
   "outputs": [],
   "source": [
    "!cp -r ./CUB_200_2011/images/* ./train/"
   ]
  },
  {
   "cell_type": "markdown",
   "metadata": {
    "id": "qbFmw2pZMKHY"
   },
   "source": [
    "## Learning Part"
   ]
  },
  {
   "cell_type": "code",
   "execution_count": null,
   "metadata": {
    "colab": {
     "base_uri": "https://localhost:8080/"
    },
    "executionInfo": {
     "elapsed": 7,
     "status": "ok",
     "timestamp": 1680760695513,
     "user": {
      "displayName": "Ruby Abdullah",
      "userId": "15543415163694823474"
     },
     "user_tz": -420
    },
    "id": "8-tKsM1RLl8W",
    "outputId": "d3f4a340-9aee-4915-e2df-90a6108353e2"
   },
   "outputs": [],
   "source": [
    "data_transforms = {\n",
    "    'train': transforms.Compose([\n",
    "        transforms.Resize(256),\n",
    "        transforms.RandomRotation(45),\n",
    "        transforms.RandomResizedCrop(224),\n",
    "        transforms.RandomHorizontalFlip(),\n",
    "        transforms.ToTensor(),\n",
    "        transforms.Normalize([0.485, 0.456, 0.406], [0.229, 0.224, 0.225])\n",
    "    ]),\n",
    "    'test': transforms.Compose([\n",
    "        transforms.Resize(256),\n",
    "        transforms.CenterCrop(224),\n",
    "        transforms.ToTensor(),\n",
    "        transforms.Normalize([0.485, 0.456, 0.406], [0.229, 0.224, 0.225])\n",
    "    ]),\n",
    "}\n",
    "\n",
    "data_dir = '.'\n",
    "# loading datasets with PyTorch ImageFolder\n",
    "image_datasets = {x: datasets.ImageFolder(os.path.join(data_dir, x),\n",
    "                                          data_transforms[x])\n",
    "                  for x in ['train', 'test']}\n",
    "# defining data loaders to load data using image_datasets and transforms, here we also specify batch size for the mini batch\n",
    "dataloders = {x: torch.utils.data.DataLoader(image_datasets[x], batch_size=8,\n",
    "                                             shuffle=True, num_workers=4)\n",
    "              for x in ['train', 'test']}\n",
    "dataset_sizes = {x: len(image_datasets[x]) for x in ['train', 'test']}\n",
    "class_names = image_datasets['train'].classes\n",
    "\n",
    "use_gpu = torch.cuda.is_available()"
   ]
  },
  {
   "cell_type": "code",
   "execution_count": null,
   "metadata": {
    "colab": {
     "base_uri": "https://localhost:8080/"
    },
    "executionInfo": {
     "elapsed": 3,
     "status": "ok",
     "timestamp": 1680760695513,
     "user": {
      "displayName": "Ruby Abdullah",
      "userId": "15543415163694823474"
     },
     "user_tz": -420
    },
    "id": "j1DePIPeL-u7",
    "outputId": "fbe20678-e280-44b7-a1f8-4ba3b0806663"
   },
   "outputs": [],
   "source": [
    "print(dataset_sizes)"
   ]
  },
  {
   "cell_type": "code",
   "execution_count": null,
   "metadata": {
    "colab": {
     "base_uri": "https://localhost:8080/",
     "height": 131
    },
    "executionInfo": {
     "elapsed": 1390,
     "status": "ok",
     "timestamp": 1680760696901,
     "user": {
      "displayName": "Ruby Abdullah",
      "userId": "15543415163694823474"
     },
     "user_tz": -420
    },
    "id": "J6MxCCdmSkih",
    "outputId": "28474e23-30c7-4517-b3ef-65754a072a9f"
   },
   "outputs": [],
   "source": [
    "def imshow(inp, title=None):\n",
    "    \"\"\"Imshow for Tensor.\"\"\"\n",
    "    inp = inp.numpy().transpose((1, 2, 0))\n",
    "    mean = np.array([0.485, 0.456, 0.406])\n",
    "    std = np.array([0.229, 0.224, 0.225])\n",
    "    inp = std * inp + mean\n",
    "    inp = np.clip(inp, 0, 1)\n",
    "    plt.imshow(inp)\n",
    "    if title is not None:\n",
    "        plt.title(title)\n",
    "    plt.pause(0.001)  # pause a bit so that plots are updated\n",
    "\n",
    "\n",
    "# Get a batch of training data\n",
    "inputs, classes = next(iter(dataloders['train']))\n",
    "\n",
    "# Make a grid from batch\n",
    "out = torchvision.utils.make_grid(inputs)\n",
    "\n",
    "imshow(out, title=[class_names[x] for x in classes])"
   ]
  },
  {
   "cell_type": "code",
   "execution_count": null,
   "metadata": {
    "executionInfo": {
     "elapsed": 5,
     "status": "ok",
     "timestamp": 1680760696902,
     "user": {
      "displayName": "Ruby Abdullah",
      "userId": "15543415163694823474"
     },
     "user_tz": -420
    },
    "id": "81YAgF0Lq9ED"
   },
   "outputs": [],
   "source": [
    "!mkdir Bird"
   ]
  },
  {
   "cell_type": "code",
   "execution_count": null,
   "metadata": {
    "executionInfo": {
     "elapsed": 4,
     "status": "ok",
     "timestamp": 1680761670657,
     "user": {
      "displayName": "Ruby Abdullah",
      "userId": "15543415163694823474"
     },
     "user_tz": -420
    },
    "id": "67ooLwpPp8Zp"
   },
   "outputs": [],
   "source": [
    "def train_model(model, criterion, optimizer, num_epochs=10):\n",
    "    since = time.time()\n",
    "\n",
    "    best_model_wts = model.state_dict()\n",
    "    best_acc = 0.0\n",
    "\n",
    "    for epoch in range(num_epochs):\n",
    "        print('Epoch {}/{}'.format(epoch, num_epochs - 1))\n",
    "        print('-' * 10)\n",
    "\n",
    "        # Each epoch has a training and validation phase\n",
    "        for phase in ['train', 'test']:\n",
    "            if phase == 'train':\n",
    "                #scheduler.step()\n",
    "                model.train(True)  # Set model to training mode\n",
    "            else:\n",
    "                model.train(False)  # Set model to evaluate mode\n",
    "\n",
    "            running_loss = 0.0\n",
    "            running_corrects = 0\n",
    "\n",
    "            # Iterate over data.\n",
    "            for data in dataloders[phase]:\n",
    "                # get the inputs\n",
    "                inputs, labels = data\n",
    "\n",
    "                # wrap them in Variable\n",
    "                if use_gpu:\n",
    "                    inputs = Variable(inputs.cuda())\n",
    "                    labels = Variable(labels.cuda())\n",
    "                else:\n",
    "                    inputs, labels = Variable(inputs), Variable(labels)\n",
    "\n",
    "                # zero the parameter gradients\n",
    "                optimizer.zero_grad()\n",
    "\n",
    "                # forward\n",
    "                outputs = model(inputs)\n",
    "\n",
    "\n",
    "                # backward + optimize only if in training phase\n",
    "                if phase == 'train':\n",
    "                    _, preds = torch.max(outputs.logits, 1)\n",
    "                    loss = criterion(outputs.logits, labels)\n",
    "                    loss.backward()\n",
    "                    optimizer.step()\n",
    "                else:\n",
    "                    _, preds = torch.max(outputs.data, 1)\n",
    "                    loss = criterion(outputs, labels)\n",
    "\n",
    "                # statistics\n",
    "                running_loss += loss.data\n",
    "                running_corrects += torch.sum(preds == labels.data)\n",
    "\n",
    "            epoch_loss = running_loss / dataset_sizes[phase]\n",
    "            epoch_acc = running_corrects.float() / dataset_sizes[phase]\n",
    "\n",
    "            print('{} Loss: {:.4f} Acc: {:.4f}'.format(\n",
    "                phase, epoch_loss, epoch_acc))\n",
    "\n",
    "            # deep copy the model\n",
    "            if phase == 'test' and epoch_acc > best_acc:\n",
    "                best_acc = epoch_acc\n",
    "                best_model_wts = model.state_dict()\n",
    "                state = {'model':model_ft.state_dict(),'optim':optimizer_ft.state_dict()}\n",
    "                torch.save(state,'./Bird/point_resnet_best.pth')\n",
    "\n",
    "        print()\n",
    "\n",
    "    time_elapsed = time.time() - since\n",
    "    print('Training complete in {:.0f}m {:.0f}s'.format(\n",
    "        time_elapsed // 60, time_elapsed % 60))\n",
    "    print('Best test Acc: {:4f}'.format(best_acc))\n",
    "\n",
    "    # load best model weights\n",
    "    model.load_state_dict(best_model_wts)\n",
    "    return model"
   ]
  },
  {
   "cell_type": "code",
   "execution_count": null,
   "metadata": {
    "executionInfo": {
     "elapsed": 522,
     "status": "ok",
     "timestamp": 1680761678528,
     "user": {
      "displayName": "Ruby Abdullah",
      "userId": "15543415163694823474"
     },
     "user_tz": -420
    },
    "id": "24mog-nIrMCA"
   },
   "outputs": [],
   "source": [
    "def visualize_model(model, num_images=8):\n",
    "    images_so_far = 0\n",
    "    fig = plt.figure()\n",
    "\n",
    "\n",
    "    for i, data in enumerate(dataloders['test']):\n",
    "        inputs, labels = data\n",
    "        #print(labels)\n",
    "        if use_gpu:\n",
    "            inputs, labels = Variable(inputs.cuda()), Variable(labels.cuda())\n",
    "        else:\n",
    "            inputs, labels = Variable(inputs), Variable(labels)\n",
    "        #print(labels)\n",
    "        #_, lab = torch.max(labels.data, 1)\n",
    "        outputs = model(inputs)\n",
    "        #print(outputs)\n",
    "        _, preds = torch.max(outputs.logits, 1)\n",
    "        #print(preds)\n",
    "\n",
    "        for j in range(inputs.size()[0]):\n",
    "            images_so_far += 1\n",
    "            ax = plt.subplot(num_images//2, 2, images_so_far)\n",
    "            ax.axis('off')\n",
    "            ax.set_title('class: {} predicted: {}'.format(class_names[labels.data[j]], class_names[preds[j]]))\n",
    "            imshow(inputs.cpu().data[j])\n",
    "\n",
    "            if images_so_far == num_images:\n",
    "                return"
   ]
  },
  {
   "cell_type": "code",
   "execution_count": null,
   "metadata": {
    "colab": {
     "base_uri": "https://localhost:8080/"
    },
    "executionInfo": {
     "elapsed": 4,
     "status": "ok",
     "timestamp": 1680761679807,
     "user": {
      "displayName": "Ruby Abdullah",
      "userId": "15543415163694823474"
     },
     "user_tz": -420
    },
    "id": "adsifBuPraI2",
    "outputId": "a0eba059-a95d-4203-ca04-0723a305fa9a"
   },
   "outputs": [],
   "source": [
    "model_ft = models.googlenet() # loading a pre-trained(trained on image net) resnet18 model from torchvision models\n",
    "num_ftrs = model_ft.fc.in_features\n",
    "model_ft.fc = nn.Linear(num_ftrs, 200)      # changing the last layer for this dataset by setting last layer neurons to 200 as this dataset has 200 categories\n",
    "\n",
    "if use_gpu:                                 # if gpu is available then use it\n",
    "    model_ft = model_ft.cuda()\n",
    "#model_ft = model_ft.float()\n",
    "criterion = nn.CrossEntropyLoss()           # defining loss function\n",
    "\n",
    "# Observe that all parameters are being optimized\n",
    "optimizer_ft = optim.Adam(model_ft.parameters(), lr=0.0001)"
   ]
  },
  {
   "cell_type": "code",
   "execution_count": null,
   "metadata": {
    "colab": {
     "base_uri": "https://localhost:8080/"
    },
    "executionInfo": {
     "elapsed": 576020,
     "status": "ok",
     "timestamp": 1680766528978,
     "user": {
      "displayName": "Ruby Abdullah",
      "userId": "15543415163694823474"
     },
     "user_tz": -420
    },
    "id": "CgJU2oWAObDR",
    "outputId": "2944677b-ae02-4b6c-c5a0-d5b4b31b101f"
   },
   "outputs": [],
   "source": [
    "model_ft = train_model(model_ft, criterion, optimizer_ft,num_epochs=50)"
   ]
  },
  {
   "cell_type": "code",
   "execution_count": null,
   "metadata": {
    "executionInfo": {
     "elapsed": 5,
     "status": "aborted",
     "timestamp": 1680760710957,
     "user": {
      "displayName": "Ruby Abdullah",
      "userId": "15543415163694823474"
     },
     "user_tz": -420
    },
    "id": "Z3DtdJ9jPIRu"
   },
   "outputs": [],
   "source": []
  }
 ],
 "metadata": {
  "accelerator": "GPU",
  "colab": {
   "provenance": [],
   "toc_visible": true
  },
  "gpuClass": "standard",
  "kernelspec": {
   "display_name": "Python 3 (ipykernel)",
   "language": "python",
   "name": "python3"
  },
  "language_info": {
   "codemirror_mode": {
    "name": "ipython",
    "version": 3
   },
   "file_extension": ".py",
   "mimetype": "text/x-python",
   "name": "python",
   "nbconvert_exporter": "python",
   "pygments_lexer": "ipython3",
   "version": "3.11.7"
  }
 },
 "nbformat": 4,
 "nbformat_minor": 4
}
