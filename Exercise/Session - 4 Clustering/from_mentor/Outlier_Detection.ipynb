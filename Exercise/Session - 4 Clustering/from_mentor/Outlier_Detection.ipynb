{
  "nbformat": 4,
  "nbformat_minor": 0,
  "metadata": {
    "colab": {
      "provenance": [],
      "toc_visible": true
    },
    "kernelspec": {
      "name": "python3",
      "display_name": "Python 3"
    },
    "language_info": {
      "name": "python"
    }
  },
  "cells": [
    {
      "cell_type": "markdown",
      "source": [
        "DATASETS to Upload:\n",
        "POKEMON DATASET"
      ],
      "metadata": {
        "id": "F65djanQOviz"
      }
    },
    {
      "cell_type": "markdown",
      "source": [
        "#**Extreme Value Analysis Using Univariate Method**"
      ],
      "metadata": {
        "id": "FF1_Ey7F6KcW"
      }
    },
    {
      "cell_type": "code",
      "source": [
        "import seaborn as sns\n",
        "\n",
        "diamonds = sns.load_dataset(\"diamonds\")\n",
        "diamonds.head()"
      ],
      "metadata": {
        "id": "XbcqRf7i6UXD"
      },
      "execution_count": null,
      "outputs": []
    },
    {
      "cell_type": "code",
      "source": [
        "diamonds.columns"
      ],
      "metadata": {
        "id": "h5BVeiH8BdrB"
      },
      "execution_count": null,
      "outputs": []
    },
    {
      "cell_type": "code",
      "source": [
        "import numpy as np\n",
        "from sklearn.preprocessing import OrdinalEncoder\n",
        "\n",
        "# Extract feature and target arrays\n",
        "X, y = diamonds.drop(\"carat\", axis=1), diamonds[\"carat\"]\n",
        "# Select categorical column names\n",
        "cats = X.select_dtypes(exclude=np.number).columns.tolist()\n",
        "\n",
        "# Encode categoricals\n",
        "X.loc[:, cats] = OrdinalEncoder().fit_transform(X[cats])"
      ],
      "metadata": {
        "id": "5fqlh2OFBe-Z"
      },
      "execution_count": null,
      "outputs": []
    },
    {
      "cell_type": "code",
      "source": [
        "y.describe()"
      ],
      "metadata": {
        "id": "uNnqgOLkBxDw"
      },
      "execution_count": null,
      "outputs": []
    },
    {
      "cell_type": "code",
      "source": [
        "import matplotlib.pyplot as plt\n",
        "sns.histplot(y)\n",
        "\n",
        "plt.xlabel(\"Carat\");"
      ],
      "metadata": {
        "id": "9f8SKwb8CCXB"
      },
      "execution_count": null,
      "outputs": []
    },
    {
      "cell_type": "code",
      "source": [
        "X.drop(cats, axis=1).describe()"
      ],
      "metadata": {
        "id": "2olYEGs9ETKS"
      },
      "execution_count": null,
      "outputs": []
    },
    {
      "cell_type": "code",
      "source": [
        "sns.histplot(X[\"price\"])\n",
        "\n",
        "plt.title(\"Histogram of Diamond Pricing\")\n",
        "plt.xlabel(\"price\");"
      ],
      "metadata": {
        "id": "lPeQQ5EFFG82"
      },
      "execution_count": null,
      "outputs": []
    },
    {
      "cell_type": "code",
      "source": [
        "sns.boxplot(x=\"cut\", y=\"price\", data=diamonds, whis=2)\n",
        "\n",
        "plt.xlabel(\"\")\n",
        "plt.ylabel(\"Price\");"
      ],
      "metadata": {
        "id": "ybK9qwMUJzxS"
      },
      "execution_count": null,
      "outputs": []
    },
    {
      "cell_type": "code",
      "source": [
        "from scipy.stats import zscore\n",
        "\n",
        "zscore(y).abs()[:5]"
      ],
      "metadata": {
        "id": "FpgiIfRtJ21b"
      },
      "execution_count": null,
      "outputs": []
    },
    {
      "cell_type": "code",
      "source": [
        "from scipy.stats import zscore\n",
        "\n",
        "# Calculate the abs of zscore and filter above 3\n",
        "is_outlier = zscore(y).abs() > 3\n",
        "outliers_y = y[is_outlier]\n",
        "\n",
        "num_outliers = len(outliers_y)\n",
        "print(f\"The number of outliers: {num_outliers}\")\n",
        "print(f\"Percentage of outliers: {num_outliers / len(y):.3f}\")"
      ],
      "metadata": {
        "id": "ZA3kTIo1KCqh"
      },
      "execution_count": null,
      "outputs": []
    },
    {
      "cell_type": "code",
      "source": [
        "# Find the median\n",
        "median_y = y.median()\n",
        "\n",
        "# Find the abs value of differences between the median\n",
        "abs_diffs = (y - median_y).abs()\n",
        "# Take the median of differences\n",
        "mad = abs_diffs.median()\n",
        "\n",
        "mad"
      ],
      "metadata": {
        "id": "Ee4qSvVdKZnH"
      },
      "execution_count": null,
      "outputs": []
    },
    {
      "cell_type": "code",
      "source": [
        "from scipy.stats import median_abs_deviation\n",
        "\n",
        "median_abs_deviation(y)"
      ],
      "metadata": {
        "id": "q7KUtJabKhZ8"
      },
      "execution_count": null,
      "outputs": []
    },
    {
      "cell_type": "code",
      "source": [
        "pip install pyod"
      ],
      "metadata": {
        "id": "l_V8ZwkfKxx-"
      },
      "execution_count": null,
      "outputs": []
    },
    {
      "cell_type": "code",
      "source": [
        "from pyod.models.mad import MAD\n",
        "\n",
        "# Reshape the target to make it 2D\n",
        "y_2d = y.values.reshape(-1, 1)\n",
        "# Fit to the target\n",
        "mad = MAD().fit(y_2d)\n",
        "\n",
        "# Extract the inlier/outlier labels\n",
        "labels = mad.labels_\n",
        "labels"
      ],
      "metadata": {
        "id": "VnX0Wm3KKnm1"
      },
      "execution_count": null,
      "outputs": []
    },
    {
      "cell_type": "code",
      "source": [
        "outliers_y_mad = y[labels == 1]\n",
        "\n",
        "num_outliers = len(outliers_y_mad)\n",
        "print(f\"The number of outliers: {num_outliers}\")\n",
        "print(f\"Percentage of outliers: {num_outliers / len(y):.3f}\")"
      ],
      "metadata": {
        "id": "1dZM1WFlK7ze"
      },
      "execution_count": null,
      "outputs": []
    },
    {
      "cell_type": "code",
      "source": [
        "# Filter for inliers, marked as 0s\n",
        "inliers = y[labels == 0]\n",
        "\n",
        "sns.histplot(inliers)\n",
        "\n",
        "plt.title(\"Histogram of Diamond Carats After Outliers\")\n",
        "plt.xlabel(\"Carat\");"
      ],
      "metadata": {
        "id": "VvA2guXyLHAE"
      },
      "execution_count": null,
      "outputs": []
    },
    {
      "cell_type": "code",
      "source": [
        "def tukey_method(data, threshold=1.5):\n",
        "    q1 = np.percentile(data, 25)\n",
        "    q3 = np.percentile(data, 75)\n",
        "    iqr = q3 - q1\n",
        "    lower_bound = q1 - threshold * iqr\n",
        "    upper_bound = q3 + threshold * iqr\n",
        "    outliers_indices = np.where((data < lower_bound) | (data > upper_bound))[0]\n",
        "    return outliers_indices"
      ],
      "metadata": {
        "id": "KbjJ7nxEWYfK"
      },
      "execution_count": null,
      "outputs": []
    },
    {
      "cell_type": "code",
      "source": [
        "list_to_label = tukey_method(y)\n",
        "len(list_to_label)"
      ],
      "metadata": {
        "id": "ilqE3IsbXY93"
      },
      "execution_count": null,
      "outputs": []
    },
    {
      "cell_type": "code",
      "source": [
        "plt.figure(figsize=(8, 6))\n",
        "plt.boxplot(y, vert=False, labels=['carat'])\n",
        "plt.scatter(y[list_to_label], [1] * len(list_to_label), color='red', label='Outliers')\n",
        "plt.legend()\n",
        "plt.show()"
      ],
      "metadata": {
        "id": "L76wMgh-YGqK"
      },
      "execution_count": null,
      "outputs": []
    },
    {
      "cell_type": "code",
      "source": [
        "print(\"Indexes of Outliers:\", list_to_label)\n",
        "print(\"Values of Outliers:\", y[list_to_label])"
      ],
      "metadata": {
        "id": "HCyBZTYbZ31C"
      },
      "execution_count": null,
      "outputs": []
    },
    {
      "cell_type": "code",
      "source": [
        "import pandas as pd\n",
        "df = pd.DataFrame(diamonds)\n",
        "odf = pd.DataFrame(list_to_label, columns = ['index'])"
      ],
      "metadata": {
        "id": "jFJoN2iEaEKn"
      },
      "execution_count": null,
      "outputs": []
    },
    {
      "cell_type": "code",
      "source": [
        "odf['outliers_status'] = 'yes'\n",
        "odf"
      ],
      "metadata": {
        "id": "vi5KvZIIe9IB"
      },
      "execution_count": null,
      "outputs": []
    },
    {
      "cell_type": "code",
      "source": [
        "df['index'] = df.index\n",
        "df"
      ],
      "metadata": {
        "id": "wj5yrQvPcmNE"
      },
      "execution_count": null,
      "outputs": []
    },
    {
      "cell_type": "code",
      "source": [
        "df = df.join(odf.set_index('index'), on='index')"
      ],
      "metadata": {
        "id": "5fGetu9XdNfK"
      },
      "execution_count": null,
      "outputs": []
    },
    {
      "cell_type": "code",
      "source": [
        "df[df['outliers_status'] == 'yes']"
      ],
      "metadata": {
        "id": "O2me2_0ng2Co"
      },
      "execution_count": null,
      "outputs": []
    },
    {
      "cell_type": "markdown",
      "source": [
        "#**Multivariate Analysis**"
      ],
      "metadata": {
        "id": "jmHQuh8jMarC"
      }
    },
    {
      "cell_type": "code",
      "source": [
        "import pandas as pd\n",
        "import seaborn as sns\n",
        "import numpy as np\n",
        "import matplotlib.pyplot as plt\n",
        "import plotly.express as px\n",
        "\n",
        "pokemon = pd.read_csv('pokemon.csv')\n",
        "pokemon.head()"
      ],
      "metadata": {
        "id": "fDmn8dk3MlFY"
      },
      "execution_count": null,
      "outputs": []
    },
    {
      "cell_type": "code",
      "source": [
        "pokemon.info()"
      ],
      "metadata": {
        "id": "D1oP8Daaxt7C"
      },
      "execution_count": null,
      "outputs": []
    },
    {
      "cell_type": "code",
      "source": [
        "#create the plot\n",
        "ax = sns.boxplot(data = pokemon[[\"attack\", \"defense\"]], orient = \"h\", palette = \"Set2\")\n",
        "#add labels\n",
        "ax.set_xlabel(\"Value\", fontsize = 20, labelpad = 20)\n",
        "ax.set_ylabel(\"Attributes\", fontsize = 20, labelpad = 20)\n",
        "ax.set_title(\"Boxplot of pokemon Attack \\nand Defense attributes\", fontsize = 20,\n",
        "            pad = 20)\n",
        "#edit ticks\n",
        "ax.tick_params(which = \"both\", labelsize = 15)"
      ],
      "metadata": {
        "id": "GjtKEkB7OeRW"
      },
      "execution_count": null,
      "outputs": []
    },
    {
      "cell_type": "code",
      "source": [
        "def IQR_bounds(dataframe, column_name, multiple):\n",
        "    \"\"\"Extract the upper and lower bound for outlier detection using IQR\n",
        "\n",
        "    Input:\n",
        "        dataframe: Dataframe you want to extract the upper and lower bound from\n",
        "        column_name: column name you want to extract upper and lower bound for\n",
        "        multiple: The multiple to use to extract this\n",
        "\n",
        "    Output:\n",
        "        lower_bound = lower bound for column\n",
        "        upper_bound = upper bound for column\"\"\"\n",
        "\n",
        "    #extract the quantiles for the column\n",
        "    lower_quantile = dataframe[column_name].quantile(0.25)\n",
        "    upper_quantile = dataframe[column_name].quantile(0.75)\n",
        "    #cauclat IQR\n",
        "    IQR = upper_quantile - lower_quantile\n",
        "\n",
        "    #extract lower and upper bound\n",
        "    lower_bound = lower_quantile - multiple * IQR\n",
        "    upper_bound = upper_quantile + multiple * IQR\n",
        "\n",
        "    #retrun these values\n",
        "    return lower_bound, upper_bound\n"
      ],
      "metadata": {
        "id": "iiWsnhDtO-iR"
      },
      "execution_count": null,
      "outputs": []
    },
    {
      "cell_type": "code",
      "source": [
        "#set the columns we want\n",
        "columns = [\"attack\", \"defense\"]\n",
        "#create a dictionary to store the bounds\n",
        "column_bounds = {}\n",
        "#iteratre over each column to extract bounds\n",
        "for column in columns:\n",
        "    #extract normal and extreme bounds\n",
        "    lower_bound, upper_bound =  IQR_bounds(pokemon, column, 1.5)\n",
        "    #send them to the dictionary\n",
        "    column_bounds[column] = [lower_bound, upper_bound]\n",
        "#create the normal dataframe\n",
        "pokemon_IQR_AD = pokemon[(pokemon[\"attack\"] < column_bounds[\"attack\"][0]) |\n",
        "                         (pokemon[\"attack\"] > column_bounds[\"attack\"][1]) |\n",
        "                         (pokemon[\"defense\"] < column_bounds[\"defense\"][0]) |\n",
        "                         (pokemon[\"defense\"] > column_bounds[\"defense\"][1])\n",
        "                        ]"
      ],
      "metadata": {
        "id": "6x1nrrh7PZmu"
      },
      "execution_count": null,
      "outputs": []
    },
    {
      "cell_type": "code",
      "source": [
        "pokemon_IQR_AD.shape"
      ],
      "metadata": {
        "id": "1oyj5tY4PeLe"
      },
      "execution_count": null,
      "outputs": []
    },
    {
      "cell_type": "markdown",
      "source": [
        "##***Isolation Forest***"
      ],
      "metadata": {
        "id": "l_swHaAybdIT"
      }
    },
    {
      "cell_type": "code",
      "source": [
        "from sklearn.ensemble import IsolationForest\n",
        "#create the method instance\n",
        "isf = IsolationForest(n_estimators = 100, random_state = 42, contamination = 0.02)\n",
        "#use fit_predict on the data as we are using all the data\n",
        "preds = isf.fit_predict(pokemon[[\"attack\", \"defense\"]])\n",
        "#extract outliers from the data\n",
        "pokemon[\"iso_forest_outliers\"] = preds\n",
        "pokemon[\"iso_forest_outliers\"] = pokemon[\"iso_forest_outliers\"].astype(str)\n",
        "#extract the scores from the data in terms of strength of outlier\n",
        "pokemon[\"iso_forest_scores\"] = isf.decision_function(pokemon[[\"attack\", \"defense\"]])\n",
        "#print how many outliers the data suggests\n",
        "print(pokemon[\"iso_forest_outliers\"].value_counts())"
      ],
      "metadata": {
        "id": "d8rB6tKMQZEo"
      },
      "execution_count": null,
      "outputs": []
    },
    {
      "cell_type": "code",
      "source": [
        "#this plot will be repeated so it is better to create a function\n",
        "def scatter_plot(dataframe, x, y, color, title, hover_name):\n",
        "    \"\"\"Create a plotly express scatter plot with x and y values with a colour\n",
        "\n",
        "    Input:\n",
        "        dataframe: Dataframe containing columns for x, y, colour and hover_name data\n",
        "        x: The column to go on the x axis\n",
        "        y: Column name to go on the y axis\n",
        "        color: Column name to specify colour\n",
        "        title: Title for plot\n",
        "        hover_name: column name for hover\n",
        "\n",
        "    Returns:\n",
        "        Scatter plot figure\n",
        "    \"\"\"\n",
        "    #create the base scatter plot\n",
        "    fig = px.scatter(dataframe, x = x, y=y,\n",
        "                    color = color,\n",
        "                     hover_name = hover_name)\n",
        "    #set the layout conditions\n",
        "    fig.update_layout(title = title,\n",
        "                     title_x = 0.5)\n",
        "    #show the figure\n",
        "    fig.show()\n",
        "\n",
        "#create scatter plot\n",
        "scatter_plot(pokemon, \"attack\", \"defense\", \"iso_forest_outliers\", \"Isolation Forest Outlier Detection\",\"name\")"
      ],
      "metadata": {
        "id": "S0T1-UG4RYM0"
      },
      "execution_count": null,
      "outputs": []
    },
    {
      "cell_type": "code",
      "source": [
        "scatter_plot(pokemon, \"attack\", \"defense\", \"iso_forest_scores\",\n",
        "             \"Isolation Forest Outlier Detection Scores\",\n",
        "            \"name\")"
      ],
      "metadata": {
        "id": "FUEKCH39QhFA"
      },
      "execution_count": null,
      "outputs": []
    },
    {
      "cell_type": "code",
      "source": [
        "sns.histplot(pokemon['iso_forest_scores'])"
      ],
      "metadata": {
        "id": "GjkQtn_Mm-VA"
      },
      "execution_count": null,
      "outputs": []
    },
    {
      "cell_type": "markdown",
      "source": [
        "##***Local Outlier Factor***"
      ],
      "metadata": {
        "id": "IVNaQifGbgHA"
      }
    },
    {
      "cell_type": "code",
      "source": [
        "#import the algorithm\n",
        "from sklearn.neighbors import LocalOutlierFactor\n",
        "#initialise the algorithm\n",
        "lof = LocalOutlierFactor(n_neighbors = 20)\n",
        "#fit it to the training data, since we don't use it for novelty than this is fine\n",
        "y_pred = lof.fit_predict(pokemon[[\"attack\", \"defense\"]])\n",
        "#extract the predictions as strings\n",
        "pokemon[\"lof_outliers\"] = y_pred.astype(str)\n",
        "#print the number of outliers relative to non-outliers\n",
        "print(pokemon[\"lof_outliers\"].value_counts())\n",
        "#extract the outlier scores\n",
        "pokemon[\"lof_scores\"] = lof.negative_outlier_factor_\n"
      ],
      "metadata": {
        "id": "tVkqq64_baLY"
      },
      "execution_count": null,
      "outputs": []
    },
    {
      "cell_type": "code",
      "source": [
        "scatter_plot(pokemon, \"attack\", \"defense\", \"lof_outliers\", \"Local Outlier Factor Detection\",\"name\")"
      ],
      "metadata": {
        "id": "pnCNrXA_btPJ"
      },
      "execution_count": null,
      "outputs": []
    },
    {
      "cell_type": "code",
      "source": [
        "scatter_plot(pokemon, \"attack\", \"defense\", \"lof_scores\",\n",
        "             \"Local Outlier Factor Detection Scores\",\n",
        "            \"name\")"
      ],
      "metadata": {
        "id": "BRBqrVurb-ag"
      },
      "execution_count": null,
      "outputs": []
    },
    {
      "cell_type": "code",
      "source": [],
      "metadata": {
        "id": "xcV2IEfTcOy-"
      },
      "execution_count": null,
      "outputs": []
    },
    {
      "cell_type": "code",
      "source": [
        "pokemon.info()"
      ],
      "metadata": {
        "id": "UQ6WmRzh1B5A"
      },
      "execution_count": null,
      "outputs": []
    },
    {
      "cell_type": "code",
      "source": [
        "pokemon['capture_rate'].unique()"
      ],
      "metadata": {
        "id": "-w4VcDmg2d8n"
      },
      "execution_count": null,
      "outputs": []
    },
    {
      "cell_type": "code",
      "source": [
        "pokemon_num = pokemon[['attack', 'defense', 'capture_rate', 'hp', 'speed', 'height_m', 'weight_kg', 'sp_attack', 'sp_defense', 'iso_forest_outliers', 'iso_forest_scores']]"
      ],
      "metadata": {
        "id": "iaKS2-eTywTk"
      },
      "execution_count": null,
      "outputs": []
    },
    {
      "cell_type": "code",
      "source": [
        "pokemon_num.info()"
      ],
      "metadata": {
        "id": "pOTvobmMzh7t"
      },
      "execution_count": null,
      "outputs": []
    },
    {
      "cell_type": "code",
      "source": [
        "pokemon_num.select_dtypes(include = 'number').fillna(pokemon_num.select_dtypes(include = 'number').mean(), inplace=True)"
      ],
      "metadata": {
        "id": "gLjBABc30kNZ"
      },
      "execution_count": null,
      "outputs": []
    },
    {
      "cell_type": "code",
      "source": [
        "sns.set_theme(style=\"ticks\")\n",
        "sns.pairplot(pokemon_num, hue='iso_forest_outliers')"
      ],
      "metadata": {
        "id": "nDrkc5cNT7X6"
      },
      "execution_count": null,
      "outputs": []
    },
    {
      "cell_type": "code",
      "source": [],
      "metadata": {
        "id": "Y4DiGu8nMTzr"
      },
      "execution_count": null,
      "outputs": []
    },
    {
      "cell_type": "markdown",
      "source": [
        "##***DBScans***"
      ],
      "metadata": {
        "id": "0F9PBDyX-B94"
      }
    },
    {
      "cell_type": "code",
      "source": [
        "from sklearn.cluster import DBSCAN\n",
        "\n",
        "#initiate the algorithm\n",
        "#set the distance to 20, and min_samples as 5\n",
        "outlier_detection = DBSCAN(eps = 20, metric = \"euclidean\", min_samples = 10, n_jobs = -1)\n",
        "\n",
        "#fit_predict the algorithm to the existing data\n",
        "clusters = outlier_detection.fit_predict(pokemon[[\"attack\", \"defense\"]])\n",
        "\n",
        "#extract the labels from the algorithm\n",
        "pokemon[\"dbscan_outliers\"] = clusters\n",
        "\n",
        "#label all others as inliers\n",
        "pokemon[\"dbscan_outliers\"] = pokemon[\"dbscan_outliers\"].apply(lambda x: str(1) if x>-1 else str(-1))\n",
        "\n",
        "#print the vaue counts\n",
        "print(pokemon[\"dbscan_outliers\"].value_counts())"
      ],
      "metadata": {
        "id": "Ov4wz8K4-Fpe"
      },
      "execution_count": null,
      "outputs": []
    },
    {
      "cell_type": "code",
      "source": [
        "colors = outlier_detection.labels_\n",
        "plt.scatter(pokemon[\"attack\"], pokemon[\"defense\"], c = colors)"
      ],
      "metadata": {
        "id": "PhZ61BnysPNe"
      },
      "execution_count": null,
      "outputs": []
    }
  ]
}