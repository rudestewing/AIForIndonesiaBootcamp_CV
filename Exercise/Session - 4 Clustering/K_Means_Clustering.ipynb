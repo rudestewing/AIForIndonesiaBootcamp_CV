{
  "nbformat": 4,
  "nbformat_minor": 0,
  "metadata": {
    "colab": {
      "provenance": []
    },
    "kernelspec": {
      "name": "python3",
      "display_name": "Python 3"
    },
    "language_info": {
      "name": "python"
    }
  },
  "cells": [
    {
      "cell_type": "markdown",
      "source": [
        "#**Simple K-Means Clustering**"
      ],
      "metadata": {
        "id": "EK6thuwqyG2f"
      }
    },
    {
      "cell_type": "code",
      "source": [
        "import pandas as pd\n",
        "import numpy as np\n",
        "import matplotlib.pyplot as plt\n",
        "%matplotlib inline\n",
        "X= -2 * np.random.rand(100,2)\n",
        "X1 = 1 + 2 * np.random.rand(50,2)\n",
        "X[50:100, :] = X1\n",
        "plt.scatter(X[ : , 0], X[ :, 1], s = 50, c = 'b')\n",
        "plt.show()\n",
        "\n"
      ],
      "metadata": {
        "id": "MmOnuYNFvxwf"
      },
      "execution_count": null,
      "outputs": []
    },
    {
      "cell_type": "code",
      "source": [
        "from sklearn.cluster import KMeans\n",
        "Kmean = KMeans(n_clusters=5)\n",
        "Kmean.fit(X)\n",
        "cent = Kmean.cluster_centers_\n",
        "plt.scatter(X[ : , 0], X[ : , 1], s =50, c='b')\n",
        "plt.scatter(cent[0][0], cent[0][1], s=200, c='g', marker='s')\n",
        "plt.scatter(cent[1][0], cent[1][1], s=200, c='r', marker='s')\n",
        "plt.scatter(cent[2][0], cent[2][1], s=200, c='y', marker='s')\n",
        "plt.scatter(cent[3][0], cent[3][1], s=200, c='c', marker='s')\n",
        "plt.scatter(cent[4][0], cent[4][1], s=200, c='black', marker='s')\n",
        "plt.show()\n",
        "\n"
      ],
      "metadata": {
        "id": "gsfdwJkqxfKP"
      },
      "execution_count": null,
      "outputs": []
    },
    {
      "cell_type": "code",
      "source": [
        "Kmean.labels_"
      ],
      "metadata": {
        "id": "atK1sCVUx46P"
      },
      "execution_count": null,
      "outputs": []
    },
    {
      "cell_type": "code",
      "source": [
        "sample_test=np.array([-3.0,-3.0])\n",
        "second_test=sample_test.reshape(1, -1)\n",
        "Kmean.predict(second_test)"
      ],
      "metadata": {
        "id": "FLVMr4yAx3fO"
      },
      "execution_count": null,
      "outputs": []
    },
    {
      "cell_type": "code",
      "source": [
        "C = Kmean.cluster_centers_\n",
        "C"
      ],
      "metadata": {
        "id": "NavSBVlnwTbu"
      },
      "execution_count": null,
      "outputs": []
    },
    {
      "cell_type": "code",
      "source": [
        "C[0][1]"
      ],
      "metadata": {
        "id": "Xw3oSf95wePh"
      },
      "execution_count": null,
      "outputs": []
    },
    {
      "cell_type": "markdown",
      "source": [
        "#**Use Case**"
      ],
      "metadata": {
        "id": "rldnpd1fFzLY"
      }
    },
    {
      "cell_type": "code",
      "execution_count": 2,
      "metadata": {
        "id": "A64ckIUzI3by"
      },
      "outputs": [],
      "source": [
        "import numpy as np # linear algebra\n",
        "import pandas as pd # data processing, CSV file I/O (e.g. pd.read_csv)\n",
        "import matplotlib.pyplot as plt # for data visualization\n",
        "import seaborn as sns # for statistical data visualization\n",
        "%matplotlib inline"
      ]
    },
    {
      "cell_type": "code",
      "source": [
        "df = pd.read_csv('Live.csv')"
      ],
      "metadata": {
        "id": "a_pPgXwiJZTA"
      },
      "execution_count": 3,
      "outputs": []
    },
    {
      "cell_type": "code",
      "source": [
        "df.shape"
      ],
      "metadata": {
        "id": "1TDl3DZbJgn-"
      },
      "execution_count": null,
      "outputs": []
    },
    {
      "cell_type": "code",
      "source": [
        "df.head()"
      ],
      "metadata": {
        "id": "FJafFN9iNRKT"
      },
      "execution_count": null,
      "outputs": []
    },
    {
      "cell_type": "code",
      "source": [
        "df.info()"
      ],
      "metadata": {
        "id": "4PWnmdMEJjl-"
      },
      "execution_count": null,
      "outputs": []
    },
    {
      "cell_type": "code",
      "source": [
        "df.isnull().sum()"
      ],
      "metadata": {
        "id": "lMlucpWsKNEI"
      },
      "execution_count": null,
      "outputs": []
    },
    {
      "cell_type": "code",
      "source": [
        "df.drop(['Column1', 'Column2', 'Column3', 'Column4'], axis=1, inplace=True)"
      ],
      "metadata": {
        "id": "JtT8R5IeKRuj"
      },
      "execution_count": 4,
      "outputs": []
    },
    {
      "cell_type": "code",
      "source": [
        "df.info()"
      ],
      "metadata": {
        "id": "074SGYVbKca8"
      },
      "execution_count": null,
      "outputs": []
    },
    {
      "cell_type": "code",
      "source": [
        "df.describe()"
      ],
      "metadata": {
        "id": "qexa54fBKe3q"
      },
      "execution_count": null,
      "outputs": []
    },
    {
      "cell_type": "code",
      "source": [
        "df['status_id'].unique()"
      ],
      "metadata": {
        "id": "iB9J0njAKf22"
      },
      "execution_count": null,
      "outputs": []
    },
    {
      "cell_type": "code",
      "source": [
        "len(df['status_id'].unique())"
      ],
      "metadata": {
        "id": "sTUNC4hkNh1D"
      },
      "execution_count": null,
      "outputs": []
    },
    {
      "cell_type": "code",
      "source": [
        "df['status_published'].unique()"
      ],
      "metadata": {
        "id": "A0HsAxXcNicv"
      },
      "execution_count": null,
      "outputs": []
    },
    {
      "cell_type": "code",
      "source": [
        "len(df['status_published'].unique())"
      ],
      "metadata": {
        "id": "VRliu9RINkud"
      },
      "execution_count": null,
      "outputs": []
    },
    {
      "cell_type": "code",
      "source": [
        "df['status_type'].unique()"
      ],
      "metadata": {
        "id": "GANboFo6NmMU"
      },
      "execution_count": null,
      "outputs": []
    },
    {
      "cell_type": "code",
      "source": [
        "len(df['status_type'].unique())"
      ],
      "metadata": {
        "id": "Tw4lE7k1NqYj"
      },
      "execution_count": null,
      "outputs": []
    },
    {
      "cell_type": "code",
      "source": [
        "df.drop(['status_id', 'status_published'], axis=1, inplace=True)"
      ],
      "metadata": {
        "id": "8B_aVBk9NtM2"
      },
      "execution_count": 5,
      "outputs": []
    },
    {
      "cell_type": "code",
      "source": [
        "df.info()"
      ],
      "metadata": {
        "id": "RXNqUIl2NuoX"
      },
      "execution_count": null,
      "outputs": []
    },
    {
      "cell_type": "code",
      "source": [
        "df.head()"
      ],
      "metadata": {
        "id": "PEDbM6BeNym0"
      },
      "execution_count": null,
      "outputs": []
    },
    {
      "cell_type": "code",
      "source": [
        "X = df\n",
        "\n",
        "y = df['status_type']"
      ],
      "metadata": {
        "id": "mrGyTRx5P6so"
      },
      "execution_count": 7,
      "outputs": []
    },
    {
      "cell_type": "code",
      "source": [
        "from sklearn.preprocessing import LabelEncoder\n",
        "\n",
        "le = LabelEncoder()\n",
        "\n",
        "X['status_type'] = le.fit_transform(X['status_type'])\n",
        "\n",
        "y = le.transform(y)"
      ],
      "metadata": {
        "id": "ZaqhK-iFNzbd"
      },
      "execution_count": 8,
      "outputs": []
    },
    {
      "cell_type": "code",
      "source": [
        "X.info()"
      ],
      "metadata": {
        "id": "Z6FwCyktN1If"
      },
      "execution_count": null,
      "outputs": []
    },
    {
      "cell_type": "code",
      "source": [
        "X.head()"
      ],
      "metadata": {
        "id": "HQxH1d2tN4ee"
      },
      "execution_count": null,
      "outputs": []
    },
    {
      "cell_type": "code",
      "source": [
        "cols = X.columns"
      ],
      "metadata": {
        "id": "yshBz2SlN_H1"
      },
      "execution_count": 10,
      "outputs": []
    },
    {
      "cell_type": "code",
      "source": [
        "from sklearn.preprocessing import MinMaxScaler\n",
        "\n",
        "ms = MinMaxScaler()\n",
        "\n",
        "X = ms.fit_transform(X)"
      ],
      "metadata": {
        "id": "TgenjWXmOACw"
      },
      "execution_count": 12,
      "outputs": []
    },
    {
      "cell_type": "code",
      "source": [
        "X = pd.DataFrame(X, columns=[cols])"
      ],
      "metadata": {
        "id": "DHX4vxa1OCdz"
      },
      "execution_count": 13,
      "outputs": []
    },
    {
      "cell_type": "code",
      "source": [
        "X.head()"
      ],
      "metadata": {
        "id": "TrAuR1nHOEks"
      },
      "execution_count": null,
      "outputs": []
    },
    {
      "cell_type": "code",
      "source": [
        "from sklearn.cluster import KMeans\n",
        "\n",
        "kmeans = KMeans(n_clusters=2, random_state=0)\n",
        "\n",
        "kmeans.fit(X)"
      ],
      "metadata": {
        "id": "ycGPsQilOGTk"
      },
      "execution_count": null,
      "outputs": []
    },
    {
      "cell_type": "code",
      "source": [
        "kmeans.cluster_centers_"
      ],
      "metadata": {
        "id": "JBWWyENPOIM7"
      },
      "execution_count": null,
      "outputs": []
    },
    {
      "cell_type": "code",
      "source": [
        "kmeans.inertia_"
      ],
      "metadata": {
        "id": "XzpNDJ2qOKAY"
      },
      "execution_count": null,
      "outputs": []
    },
    {
      "cell_type": "code",
      "source": [
        "labels = kmeans.labels_\n",
        "\n",
        "# check how many of the samples were correctly labeled\n",
        "correct_labels = sum(y == labels)\n",
        "\n",
        "print(\"Result: %d out of %d samples were correctly labeled.\" % (correct_labels, y.size))"
      ],
      "metadata": {
        "id": "5shMuxQkONoQ"
      },
      "execution_count": null,
      "outputs": []
    },
    {
      "cell_type": "code",
      "source": [
        "print('Accuracy score: {0:0.2f}'. format(correct_labels/float(y.size)))"
      ],
      "metadata": {
        "id": "uBbxCK_rORjt"
      },
      "execution_count": null,
      "outputs": []
    },
    {
      "cell_type": "code",
      "source": [
        "from sklearn.cluster import KMeans\n",
        "cs = []\n",
        "for i in range(1, 11):\n",
        "    kmeans = KMeans(n_clusters = i, init = 'k-means++', max_iter = 300, n_init = 10, random_state = 0)\n",
        "    kmeans.fit(X)\n",
        "    cs.append(kmeans.inertia_)\n",
        "plt.plot(range(1, 11), cs)\n",
        "plt.title('The Elbow Method')\n",
        "plt.xlabel('Number of clusters')\n",
        "plt.ylabel('CS')\n",
        "plt.show()"
      ],
      "metadata": {
        "id": "0UL9erRaOTTE"
      },
      "execution_count": null,
      "outputs": []
    },
    {
      "cell_type": "code",
      "source": [
        "from sklearn.cluster import KMeans\n",
        "\n",
        "kmeans = KMeans(n_clusters=2,random_state=0)\n",
        "\n",
        "kmeans.fit(X)\n",
        "\n",
        "labels = kmeans.labels_\n",
        "\n",
        "# check how many of the samples were correctly labeled\n",
        "\n",
        "correct_labels = sum(y == labels)\n",
        "\n",
        "print(\"Result: %d out of %d samples were correctly labeled.\" % (correct_labels, y.size))\n",
        "\n",
        "print('Accuracy score: {0:0.2f}'. format(correct_labels/float(y.size)))"
      ],
      "metadata": {
        "id": "VBRr7nc7OYHc"
      },
      "execution_count": null,
      "outputs": []
    },
    {
      "cell_type": "code",
      "source": [
        "kmeans = KMeans(n_clusters=3, random_state=0)\n",
        "\n",
        "kmeans.fit(X)\n",
        "\n",
        "# check how many of the samples were correctly labeled\n",
        "labels = kmeans.labels_\n",
        "\n",
        "correct_labels = sum(y == labels)\n",
        "print(\"Result: %d out of %d samples were correctly labeled.\" % (correct_labels, y.size))\n",
        "print('Accuracy score: {0:0.2f}'. format(correct_labels/float(y.size)))"
      ],
      "metadata": {
        "id": "2Ounb_VPOYim"
      },
      "execution_count": null,
      "outputs": []
    },
    {
      "cell_type": "code",
      "source": [
        "kmeans = KMeans(n_clusters=4, random_state=0)\n",
        "\n",
        "kmeans.fit(X)\n",
        "\n",
        "# check how many of the samples were correctly labeled\n",
        "labels = kmeans.labels_\n",
        "\n",
        "correct_labels = sum(y == labels)\n",
        "print(\"Result: %d out of %d samples were correctly labeled.\" % (correct_labels, y.size))\n",
        "print('Accuracy score: {0:0.2f}'. format(correct_labels/float(y.size)))"
      ],
      "metadata": {
        "id": "64wluVjzOa2T"
      },
      "execution_count": null,
      "outputs": []
    },
    {
      "cell_type": "code",
      "source": [
        "X"
      ],
      "metadata": {
        "id": "CZGTc8rAIdZD"
      },
      "execution_count": null,
      "outputs": []
    },
    {
      "cell_type": "code",
      "source": [
        "predict = pd.DataFrame(labels, columns = ['label'])"
      ],
      "metadata": {
        "id": "yPXCkNwFIT0-"
      },
      "execution_count": 40,
      "outputs": []
    },
    {
      "cell_type": "code",
      "source": [
        "predict['label'].unique()"
      ],
      "metadata": {
        "id": "8zMLRE5aI_EW"
      },
      "execution_count": null,
      "outputs": []
    },
    {
      "cell_type": "code",
      "source": [
        "categories = np.array(labels)\n",
        "colormap = np.array(['r', 'g','b','y'])\n",
        "plt.scatter(df['num_reactions'], df['num_shares'], s =5, c=colormap[labels])"
      ],
      "metadata": {
        "id": "Go3eA1LbOcrO"
      },
      "execution_count": null,
      "outputs": []
    },
    {
      "cell_type": "code",
      "source": [],
      "metadata": {
        "id": "YaItgFGnJ-u3"
      },
      "execution_count": null,
      "outputs": []
    }
  ]
}