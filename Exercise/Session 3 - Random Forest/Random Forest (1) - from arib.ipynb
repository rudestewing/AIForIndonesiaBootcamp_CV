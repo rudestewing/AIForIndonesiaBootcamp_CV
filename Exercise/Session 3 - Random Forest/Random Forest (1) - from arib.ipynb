{
 "cells": [
  {
   "cell_type": "code",
   "execution_count": 3,
   "id": "478ce72d",
   "metadata": {},
   "outputs": [
    {
     "name": "stdout",
     "output_type": "stream",
     "text": [
      "Requirement already satisfied: numpy in /Users/rudisetiawan/.pyenv/versions/3.12.1/lib/python3.12/site-packages (1.26.3)\n",
      "\n",
      "\u001b[1m[\u001b[0m\u001b[34;49mnotice\u001b[0m\u001b[1;39;49m]\u001b[0m\u001b[39;49m A new release of pip is available: \u001b[0m\u001b[31;49m23.2.1\u001b[0m\u001b[39;49m -> \u001b[0m\u001b[32;49m23.3.2\u001b[0m\n",
      "\u001b[1m[\u001b[0m\u001b[34;49mnotice\u001b[0m\u001b[1;39;49m]\u001b[0m\u001b[39;49m To update, run: \u001b[0m\u001b[32;49mpip install --upgrade pip\u001b[0m\n",
      "Note: you may need to restart the kernel to use updated packages.\n",
      "Requirement already satisfied: pandas in /Users/rudisetiawan/.pyenv/versions/3.12.1/lib/python3.12/site-packages (2.2.0)\n",
      "Requirement already satisfied: numpy<2,>=1.26.0 in /Users/rudisetiawan/.pyenv/versions/3.12.1/lib/python3.12/site-packages (from pandas) (1.26.3)\n",
      "Requirement already satisfied: python-dateutil>=2.8.2 in /Users/rudisetiawan/.pyenv/versions/3.12.1/lib/python3.12/site-packages (from pandas) (2.8.2)\n",
      "Requirement already satisfied: pytz>=2020.1 in /Users/rudisetiawan/.pyenv/versions/3.12.1/lib/python3.12/site-packages (from pandas) (2023.3.post1)\n",
      "Requirement already satisfied: tzdata>=2022.7 in /Users/rudisetiawan/.pyenv/versions/3.12.1/lib/python3.12/site-packages (from pandas) (2023.4)\n",
      "Requirement already satisfied: six>=1.5 in /Users/rudisetiawan/.pyenv/versions/3.12.1/lib/python3.12/site-packages (from python-dateutil>=2.8.2->pandas) (1.16.0)\n",
      "\n",
      "\u001b[1m[\u001b[0m\u001b[34;49mnotice\u001b[0m\u001b[1;39;49m]\u001b[0m\u001b[39;49m A new release of pip is available: \u001b[0m\u001b[31;49m23.2.1\u001b[0m\u001b[39;49m -> \u001b[0m\u001b[32;49m23.3.2\u001b[0m\n",
      "\u001b[1m[\u001b[0m\u001b[34;49mnotice\u001b[0m\u001b[1;39;49m]\u001b[0m\u001b[39;49m To update, run: \u001b[0m\u001b[32;49mpip install --upgrade pip\u001b[0m\n",
      "Note: you may need to restart the kernel to use updated packages.\n",
      "Requirement already satisfied: matplotlib in /Users/rudisetiawan/.pyenv/versions/3.12.1/lib/python3.12/site-packages (3.8.2)\n",
      "Requirement already satisfied: contourpy>=1.0.1 in /Users/rudisetiawan/.pyenv/versions/3.12.1/lib/python3.12/site-packages (from matplotlib) (1.2.0)\n",
      "Requirement already satisfied: cycler>=0.10 in /Users/rudisetiawan/.pyenv/versions/3.12.1/lib/python3.12/site-packages (from matplotlib) (0.12.1)\n",
      "Requirement already satisfied: fonttools>=4.22.0 in /Users/rudisetiawan/.pyenv/versions/3.12.1/lib/python3.12/site-packages (from matplotlib) (4.47.2)\n",
      "Requirement already satisfied: kiwisolver>=1.3.1 in /Users/rudisetiawan/.pyenv/versions/3.12.1/lib/python3.12/site-packages (from matplotlib) (1.4.5)\n",
      "Requirement already satisfied: numpy<2,>=1.21 in /Users/rudisetiawan/.pyenv/versions/3.12.1/lib/python3.12/site-packages (from matplotlib) (1.26.3)\n",
      "Requirement already satisfied: packaging>=20.0 in /Users/rudisetiawan/.pyenv/versions/3.12.1/lib/python3.12/site-packages (from matplotlib) (23.2)\n",
      "Requirement already satisfied: pillow>=8 in /Users/rudisetiawan/.pyenv/versions/3.12.1/lib/python3.12/site-packages (from matplotlib) (10.2.0)\n",
      "Requirement already satisfied: pyparsing>=2.3.1 in /Users/rudisetiawan/.pyenv/versions/3.12.1/lib/python3.12/site-packages (from matplotlib) (3.1.1)\n",
      "Requirement already satisfied: python-dateutil>=2.7 in /Users/rudisetiawan/.pyenv/versions/3.12.1/lib/python3.12/site-packages (from matplotlib) (2.8.2)\n",
      "Requirement already satisfied: six>=1.5 in /Users/rudisetiawan/.pyenv/versions/3.12.1/lib/python3.12/site-packages (from python-dateutil>=2.7->matplotlib) (1.16.0)\n",
      "\n",
      "\u001b[1m[\u001b[0m\u001b[34;49mnotice\u001b[0m\u001b[1;39;49m]\u001b[0m\u001b[39;49m A new release of pip is available: \u001b[0m\u001b[31;49m23.2.1\u001b[0m\u001b[39;49m -> \u001b[0m\u001b[32;49m23.3.2\u001b[0m\n",
      "\u001b[1m[\u001b[0m\u001b[34;49mnotice\u001b[0m\u001b[1;39;49m]\u001b[0m\u001b[39;49m To update, run: \u001b[0m\u001b[32;49mpip install --upgrade pip\u001b[0m\n",
      "Note: you may need to restart the kernel to use updated packages.\n",
      "Requirement already satisfied: seaborn in /Users/rudisetiawan/.pyenv/versions/3.12.1/lib/python3.12/site-packages (0.13.2)\n",
      "Requirement already satisfied: numpy!=1.24.0,>=1.20 in /Users/rudisetiawan/.pyenv/versions/3.12.1/lib/python3.12/site-packages (from seaborn) (1.26.3)\n",
      "Requirement already satisfied: pandas>=1.2 in /Users/rudisetiawan/.pyenv/versions/3.12.1/lib/python3.12/site-packages (from seaborn) (2.2.0)\n",
      "Requirement already satisfied: matplotlib!=3.6.1,>=3.4 in /Users/rudisetiawan/.pyenv/versions/3.12.1/lib/python3.12/site-packages (from seaborn) (3.8.2)\n",
      "Requirement already satisfied: contourpy>=1.0.1 in /Users/rudisetiawan/.pyenv/versions/3.12.1/lib/python3.12/site-packages (from matplotlib!=3.6.1,>=3.4->seaborn) (1.2.0)\n",
      "Requirement already satisfied: cycler>=0.10 in /Users/rudisetiawan/.pyenv/versions/3.12.1/lib/python3.12/site-packages (from matplotlib!=3.6.1,>=3.4->seaborn) (0.12.1)\n",
      "Requirement already satisfied: fonttools>=4.22.0 in /Users/rudisetiawan/.pyenv/versions/3.12.1/lib/python3.12/site-packages (from matplotlib!=3.6.1,>=3.4->seaborn) (4.47.2)\n",
      "Requirement already satisfied: kiwisolver>=1.3.1 in /Users/rudisetiawan/.pyenv/versions/3.12.1/lib/python3.12/site-packages (from matplotlib!=3.6.1,>=3.4->seaborn) (1.4.5)\n",
      "Requirement already satisfied: packaging>=20.0 in /Users/rudisetiawan/.pyenv/versions/3.12.1/lib/python3.12/site-packages (from matplotlib!=3.6.1,>=3.4->seaborn) (23.2)\n",
      "Requirement already satisfied: pillow>=8 in /Users/rudisetiawan/.pyenv/versions/3.12.1/lib/python3.12/site-packages (from matplotlib!=3.6.1,>=3.4->seaborn) (10.2.0)\n",
      "Requirement already satisfied: pyparsing>=2.3.1 in /Users/rudisetiawan/.pyenv/versions/3.12.1/lib/python3.12/site-packages (from matplotlib!=3.6.1,>=3.4->seaborn) (3.1.1)\n",
      "Requirement already satisfied: python-dateutil>=2.7 in /Users/rudisetiawan/.pyenv/versions/3.12.1/lib/python3.12/site-packages (from matplotlib!=3.6.1,>=3.4->seaborn) (2.8.2)\n",
      "Requirement already satisfied: pytz>=2020.1 in /Users/rudisetiawan/.pyenv/versions/3.12.1/lib/python3.12/site-packages (from pandas>=1.2->seaborn) (2023.3.post1)\n",
      "Requirement already satisfied: tzdata>=2022.7 in /Users/rudisetiawan/.pyenv/versions/3.12.1/lib/python3.12/site-packages (from pandas>=1.2->seaborn) (2023.4)\n",
      "Requirement already satisfied: six>=1.5 in /Users/rudisetiawan/.pyenv/versions/3.12.1/lib/python3.12/site-packages (from python-dateutil>=2.7->matplotlib!=3.6.1,>=3.4->seaborn) (1.16.0)\n",
      "\n",
      "\u001b[1m[\u001b[0m\u001b[34;49mnotice\u001b[0m\u001b[1;39;49m]\u001b[0m\u001b[39;49m A new release of pip is available: \u001b[0m\u001b[31;49m23.2.1\u001b[0m\u001b[39;49m -> \u001b[0m\u001b[32;49m23.3.2\u001b[0m\n",
      "\u001b[1m[\u001b[0m\u001b[34;49mnotice\u001b[0m\u001b[1;39;49m]\u001b[0m\u001b[39;49m To update, run: \u001b[0m\u001b[32;49mpip install --upgrade pip\u001b[0m\n",
      "Note: you may need to restart the kernel to use updated packages.\n",
      "\u001b[31mERROR: Could not find a version that satisfies the requirement sckit-learn (from versions: none)\u001b[0m\u001b[31m\n",
      "\u001b[0m\u001b[31mERROR: No matching distribution found for sckit-learn\u001b[0m\u001b[31m\n",
      "\u001b[0m\n",
      "\u001b[1m[\u001b[0m\u001b[34;49mnotice\u001b[0m\u001b[1;39;49m]\u001b[0m\u001b[39;49m A new release of pip is available: \u001b[0m\u001b[31;49m23.2.1\u001b[0m\u001b[39;49m -> \u001b[0m\u001b[32;49m23.3.2\u001b[0m\n",
      "\u001b[1m[\u001b[0m\u001b[34;49mnotice\u001b[0m\u001b[1;39;49m]\u001b[0m\u001b[39;49m To update, run: \u001b[0m\u001b[32;49mpip install --upgrade pip\u001b[0m\n",
      "Note: you may need to restart the kernel to use updated packages.\n"
     ]
    }
   ],
   "source": [
    "%pip install numpy\n",
    "%pip install pandas\n",
    "%pip install matplotlib\n",
    "%pip install seaborn\n",
    "%pip install sckit-learn\n"
   ]
  },
  {
   "cell_type": "code",
   "execution_count": 4,
   "id": "ca94012d",
   "metadata": {
    "executionInfo": {
     "elapsed": 2936,
     "status": "ok",
     "timestamp": 1685241299833,
     "user": {
      "displayName": "Zaky Syihan",
      "userId": "05654158214121247060"
     },
     "user_tz": -420
    },
    "id": "ca94012d"
   },
   "outputs": [],
   "source": [
    "import numpy as np\n",
    "import pandas as pd\n",
    "import matplotlib.pyplot as plt\n",
    "import seaborn as sns\n",
    "\n",
    "import sklearn"
   ]
  },
  {
   "cell_type": "code",
   "execution_count": 89,
   "id": "19195aae",
   "metadata": {
    "colab": {
     "base_uri": "https://localhost:8080/"
    },
    "executionInfo": {
     "elapsed": 429,
     "status": "ok",
     "timestamp": 1685241309195,
     "user": {
      "displayName": "Zaky Syihan",
      "userId": "05654158214121247060"
     },
     "user_tz": -420
    },
    "id": "19195aae",
    "outputId": "3f058c9a-db40-4770-e4be-ca55940c27b0"
   },
   "outputs": [],
   "source": [
    "# plt.style.use('seaborn')"
   ]
  },
  {
   "cell_type": "code",
   "execution_count": 5,
   "id": "0b73125b",
   "metadata": {
    "executionInfo": {
     "elapsed": 2,
     "status": "ok",
     "timestamp": 1685241309602,
     "user": {
      "displayName": "Zaky Syihan",
      "userId": "05654158214121247060"
     },
     "user_tz": -420
    },
    "id": "0b73125b"
   },
   "outputs": [],
   "source": [
    "sns.set(rc={'figure.figsize':(15, 8)})"
   ]
  },
  {
   "cell_type": "markdown",
   "id": "758ba42e",
   "metadata": {
    "id": "758ba42e"
   },
   "source": [
    "## Load Datasets"
   ]
  },
  {
   "cell_type": "code",
   "execution_count": 6,
   "id": "02c8e606",
   "metadata": {
    "executionInfo": {
     "elapsed": 1,
     "status": "ok",
     "timestamp": 1685241310039,
     "user": {
      "displayName": "Zaky Syihan",
      "userId": "05654158214121247060"
     },
     "user_tz": -420
    },
    "id": "02c8e606"
   },
   "outputs": [],
   "source": [
    "df_banking = pd.read_csv(\"./banking.csv\")"
   ]
  },
  {
   "cell_type": "code",
   "execution_count": 7,
   "id": "6ee772b8",
   "metadata": {
    "colab": {
     "base_uri": "https://localhost:8080/",
     "height": 300
    },
    "executionInfo": {
     "elapsed": 5,
     "status": "ok",
     "timestamp": 1685241310551,
     "user": {
      "displayName": "Zaky Syihan",
      "userId": "05654158214121247060"
     },
     "user_tz": -420
    },
    "id": "6ee772b8",
    "outputId": "2f7f8870-9516-4789-9365-54018677a491"
   },
   "outputs": [
    {
     "data": {
      "text/html": [
       "<div>\n",
       "<style scoped>\n",
       "    .dataframe tbody tr th:only-of-type {\n",
       "        vertical-align: middle;\n",
       "    }\n",
       "\n",
       "    .dataframe tbody tr th {\n",
       "        vertical-align: top;\n",
       "    }\n",
       "\n",
       "    .dataframe thead th {\n",
       "        text-align: right;\n",
       "    }\n",
       "</style>\n",
       "<table border=\"1\" class=\"dataframe\">\n",
       "  <thead>\n",
       "    <tr style=\"text-align: right;\">\n",
       "      <th></th>\n",
       "      <th>age</th>\n",
       "      <th>job</th>\n",
       "      <th>marital</th>\n",
       "      <th>education</th>\n",
       "      <th>default</th>\n",
       "      <th>housing</th>\n",
       "      <th>loan</th>\n",
       "      <th>contact</th>\n",
       "      <th>month</th>\n",
       "      <th>day_of_week</th>\n",
       "      <th>...</th>\n",
       "      <th>campaign</th>\n",
       "      <th>pdays</th>\n",
       "      <th>previous</th>\n",
       "      <th>poutcome</th>\n",
       "      <th>emp_var_rate</th>\n",
       "      <th>cons_price_idx</th>\n",
       "      <th>cons_conf_idx</th>\n",
       "      <th>euribor3m</th>\n",
       "      <th>nr_employed</th>\n",
       "      <th>y</th>\n",
       "    </tr>\n",
       "  </thead>\n",
       "  <tbody>\n",
       "    <tr>\n",
       "      <th>0</th>\n",
       "      <td>44</td>\n",
       "      <td>blue-collar</td>\n",
       "      <td>married</td>\n",
       "      <td>basic.4y</td>\n",
       "      <td>unknown</td>\n",
       "      <td>yes</td>\n",
       "      <td>no</td>\n",
       "      <td>cellular</td>\n",
       "      <td>aug</td>\n",
       "      <td>thu</td>\n",
       "      <td>...</td>\n",
       "      <td>1</td>\n",
       "      <td>999</td>\n",
       "      <td>0</td>\n",
       "      <td>nonexistent</td>\n",
       "      <td>1.4</td>\n",
       "      <td>93.444</td>\n",
       "      <td>-36.1</td>\n",
       "      <td>4.963</td>\n",
       "      <td>5228.1</td>\n",
       "      <td>0</td>\n",
       "    </tr>\n",
       "    <tr>\n",
       "      <th>1</th>\n",
       "      <td>53</td>\n",
       "      <td>technician</td>\n",
       "      <td>married</td>\n",
       "      <td>unknown</td>\n",
       "      <td>no</td>\n",
       "      <td>no</td>\n",
       "      <td>no</td>\n",
       "      <td>cellular</td>\n",
       "      <td>nov</td>\n",
       "      <td>fri</td>\n",
       "      <td>...</td>\n",
       "      <td>1</td>\n",
       "      <td>999</td>\n",
       "      <td>0</td>\n",
       "      <td>nonexistent</td>\n",
       "      <td>-0.1</td>\n",
       "      <td>93.200</td>\n",
       "      <td>-42.0</td>\n",
       "      <td>4.021</td>\n",
       "      <td>5195.8</td>\n",
       "      <td>0</td>\n",
       "    </tr>\n",
       "    <tr>\n",
       "      <th>2</th>\n",
       "      <td>28</td>\n",
       "      <td>management</td>\n",
       "      <td>single</td>\n",
       "      <td>university.degree</td>\n",
       "      <td>no</td>\n",
       "      <td>yes</td>\n",
       "      <td>no</td>\n",
       "      <td>cellular</td>\n",
       "      <td>jun</td>\n",
       "      <td>thu</td>\n",
       "      <td>...</td>\n",
       "      <td>3</td>\n",
       "      <td>6</td>\n",
       "      <td>2</td>\n",
       "      <td>success</td>\n",
       "      <td>-1.7</td>\n",
       "      <td>94.055</td>\n",
       "      <td>-39.8</td>\n",
       "      <td>0.729</td>\n",
       "      <td>4991.6</td>\n",
       "      <td>1</td>\n",
       "    </tr>\n",
       "    <tr>\n",
       "      <th>3</th>\n",
       "      <td>39</td>\n",
       "      <td>services</td>\n",
       "      <td>married</td>\n",
       "      <td>high.school</td>\n",
       "      <td>no</td>\n",
       "      <td>no</td>\n",
       "      <td>no</td>\n",
       "      <td>cellular</td>\n",
       "      <td>apr</td>\n",
       "      <td>fri</td>\n",
       "      <td>...</td>\n",
       "      <td>2</td>\n",
       "      <td>999</td>\n",
       "      <td>0</td>\n",
       "      <td>nonexistent</td>\n",
       "      <td>-1.8</td>\n",
       "      <td>93.075</td>\n",
       "      <td>-47.1</td>\n",
       "      <td>1.405</td>\n",
       "      <td>5099.1</td>\n",
       "      <td>0</td>\n",
       "    </tr>\n",
       "    <tr>\n",
       "      <th>4</th>\n",
       "      <td>55</td>\n",
       "      <td>retired</td>\n",
       "      <td>married</td>\n",
       "      <td>basic.4y</td>\n",
       "      <td>no</td>\n",
       "      <td>yes</td>\n",
       "      <td>no</td>\n",
       "      <td>cellular</td>\n",
       "      <td>aug</td>\n",
       "      <td>fri</td>\n",
       "      <td>...</td>\n",
       "      <td>1</td>\n",
       "      <td>3</td>\n",
       "      <td>1</td>\n",
       "      <td>success</td>\n",
       "      <td>-2.9</td>\n",
       "      <td>92.201</td>\n",
       "      <td>-31.4</td>\n",
       "      <td>0.869</td>\n",
       "      <td>5076.2</td>\n",
       "      <td>1</td>\n",
       "    </tr>\n",
       "  </tbody>\n",
       "</table>\n",
       "<p>5 rows × 21 columns</p>\n",
       "</div>"
      ],
      "text/plain": [
       "   age          job  marital          education  default housing loan  \\\n",
       "0   44  blue-collar  married           basic.4y  unknown     yes   no   \n",
       "1   53   technician  married            unknown       no      no   no   \n",
       "2   28   management   single  university.degree       no     yes   no   \n",
       "3   39     services  married        high.school       no      no   no   \n",
       "4   55      retired  married           basic.4y       no     yes   no   \n",
       "\n",
       "    contact month day_of_week  ...  campaign  pdays  previous     poutcome  \\\n",
       "0  cellular   aug         thu  ...         1    999         0  nonexistent   \n",
       "1  cellular   nov         fri  ...         1    999         0  nonexistent   \n",
       "2  cellular   jun         thu  ...         3      6         2      success   \n",
       "3  cellular   apr         fri  ...         2    999         0  nonexistent   \n",
       "4  cellular   aug         fri  ...         1      3         1      success   \n",
       "\n",
       "  emp_var_rate  cons_price_idx  cons_conf_idx  euribor3m  nr_employed  y  \n",
       "0          1.4          93.444          -36.1      4.963       5228.1  0  \n",
       "1         -0.1          93.200          -42.0      4.021       5195.8  0  \n",
       "2         -1.7          94.055          -39.8      0.729       4991.6  1  \n",
       "3         -1.8          93.075          -47.1      1.405       5099.1  0  \n",
       "4         -2.9          92.201          -31.4      0.869       5076.2  1  \n",
       "\n",
       "[5 rows x 21 columns]"
      ]
     },
     "execution_count": 7,
     "metadata": {},
     "output_type": "execute_result"
    }
   ],
   "source": [
    "df_banking.head()"
   ]
  },
  {
   "cell_type": "code",
   "execution_count": 8,
   "id": "TMwFD0PhObMB",
   "metadata": {
    "colab": {
     "base_uri": "https://localhost:8080/"
    },
    "executionInfo": {
     "elapsed": 597,
     "status": "ok",
     "timestamp": 1685241582234,
     "user": {
      "displayName": "Zaky Syihan",
      "userId": "05654158214121247060"
     },
     "user_tz": -420
    },
    "id": "TMwFD0PhObMB",
    "outputId": "913f2299-2427-4315-83dd-f0dae7b02dbe"
   },
   "outputs": [
    {
     "name": "stdout",
     "output_type": "stream",
     "text": [
      "<class 'pandas.core.frame.DataFrame'>\n",
      "RangeIndex: 41188 entries, 0 to 41187\n",
      "Data columns (total 21 columns):\n",
      " #   Column          Non-Null Count  Dtype  \n",
      "---  ------          --------------  -----  \n",
      " 0   age             41188 non-null  int64  \n",
      " 1   job             41188 non-null  object \n",
      " 2   marital         41188 non-null  object \n",
      " 3   education       41188 non-null  object \n",
      " 4   default         41188 non-null  object \n",
      " 5   housing         41188 non-null  object \n",
      " 6   loan            41188 non-null  object \n",
      " 7   contact         41188 non-null  object \n",
      " 8   month           41188 non-null  object \n",
      " 9   day_of_week     41188 non-null  object \n",
      " 10  duration        41188 non-null  int64  \n",
      " 11  campaign        41188 non-null  int64  \n",
      " 12  pdays           41188 non-null  int64  \n",
      " 13  previous        41188 non-null  int64  \n",
      " 14  poutcome        41188 non-null  object \n",
      " 15  emp_var_rate    41188 non-null  float64\n",
      " 16  cons_price_idx  41188 non-null  float64\n",
      " 17  cons_conf_idx   41188 non-null  float64\n",
      " 18  euribor3m       41188 non-null  float64\n",
      " 19  nr_employed     41188 non-null  float64\n",
      " 20  y               41188 non-null  int64  \n",
      "dtypes: float64(5), int64(6), object(10)\n",
      "memory usage: 6.6+ MB\n"
     ]
    }
   ],
   "source": [
    "df_banking.info()"
   ]
  },
  {
   "cell_type": "markdown",
   "id": "a47eecc2",
   "metadata": {
    "id": "a47eecc2"
   },
   "source": [
    "## Explore & Visualize Data"
   ]
  },
  {
   "cell_type": "code",
   "execution_count": 9,
   "id": "aeabd9c4",
   "metadata": {
    "colab": {
     "base_uri": "https://localhost:8080/"
    },
    "executionInfo": {
     "elapsed": 366,
     "status": "ok",
     "timestamp": 1685241612164,
     "user": {
      "displayName": "Zaky Syihan",
      "userId": "05654158214121247060"
     },
     "user_tz": -420
    },
    "id": "aeabd9c4",
    "outputId": "48006838-a417-480d-b2d5-ee2825ffd939"
   },
   "outputs": [
    {
     "name": "stdout",
     "output_type": "stream",
     "text": [
      "Total rows: 41188\n",
      "Total features: 21\n"
     ]
    }
   ],
   "source": [
    "print('Total rows:', df_banking.shape[0])\n",
    "print('Total features:', df_banking.shape[1])"
   ]
  },
  {
   "cell_type": "code",
   "execution_count": 10,
   "id": "fca97470",
   "metadata": {
    "colab": {
     "base_uri": "https://localhost:8080/",
     "height": 602
    },
    "executionInfo": {
     "elapsed": 738,
     "status": "ok",
     "timestamp": 1685241616476,
     "user": {
      "displayName": "Zaky Syihan",
      "userId": "05654158214121247060"
     },
     "user_tz": -420
    },
    "id": "fca97470",
    "outputId": "a1651fcf-4be3-4420-dd58-e8ed37a3b962"
   },
   "outputs": [
    {
     "data": {
      "image/png": "[encoded data removed]",
      "text/plain": [
       "<Figure size 1500x800 with 1 Axes>"
      ]
     },
     "metadata": {},
     "output_type": "display_data"
    }
   ],
   "source": [
    "sns.countplot(x='y', data=df_banking)\n",
    "plt.show()"
   ]
  },
  {
   "cell_type": "code",
   "execution_count": 11,
   "id": "8cQ_FhTyPKNQ",
   "metadata": {
    "colab": {
     "base_uri": "https://localhost:8080/"
    },
    "executionInfo": {
     "elapsed": 5,
     "status": "ok",
     "timestamp": 1685241782213,
     "user": {
      "displayName": "Zaky Syihan",
      "userId": "05654158214121247060"
     },
     "user_tz": -420
    },
    "id": "8cQ_FhTyPKNQ",
    "outputId": "67d3b3e0-7a2d-423e-c844-523ba2ab3fdb"
   },
   "outputs": [
    {
     "data": {
      "text/plain": [
       "y\n",
       "0    36548\n",
       "1     4640\n",
       "Name: count, dtype: int64"
      ]
     },
     "execution_count": 11,
     "metadata": {},
     "output_type": "execute_result"
    }
   ],
   "source": [
    "df_banking['y'].value_counts()"
   ]
  },
  {
   "cell_type": "markdown",
   "id": "44651783",
   "metadata": {
    "id": "44651783"
   },
   "source": [
    "#### Check Job Feature"
   ]
  },
  {
   "cell_type": "code",
   "execution_count": 12,
   "id": "32abb32d",
   "metadata": {
    "colab": {
     "base_uri": "https://localhost:8080/"
    },
    "executionInfo": {
     "elapsed": 478,
     "status": "ok",
     "timestamp": 1685241808155,
     "user": {
      "displayName": "Zaky Syihan",
      "userId": "05654158214121247060"
     },
     "user_tz": -420
    },
    "id": "32abb32d",
    "outputId": "4e1cc598-6a55-4af3-a205-d2661e0a5a52",
    "scrolled": true
   },
   "outputs": [
    {
     "data": {
      "text/plain": [
       "array(['admin.', 'blue-collar', 'entrepreneur', 'housemaid', 'management',\n",
       "       'retired', 'self-employed', 'services', 'student', 'technician',\n",
       "       'unemployed', 'unknown'], dtype=object)"
      ]
     },
     "execution_count": 12,
     "metadata": {},
     "output_type": "execute_result"
    }
   ],
   "source": [
    "np.unique(df_banking['job'])"
   ]
  },
  {
   "cell_type": "code",
   "execution_count": 14,
   "id": "8a6a0c30",
   "metadata": {
    "colab": {
     "base_uri": "https://localhost:8080/",
     "height": 573
    },
    "executionInfo": {
     "elapsed": 7,
     "status": "ok",
     "timestamp": 1685241850899,
     "user": {
      "displayName": "Zaky Syihan",
      "userId": "05654158214121247060"
     },
     "user_tz": -420
    },
    "id": "8a6a0c30",
    "outputId": "cc96d8d1-2f51-4e84-bbac-d53a1b5c035a"
   },
   "outputs": [
    {
     "ename": "TypeError",
     "evalue": "agg function failed [how->mean,dtype->object]",
     "output_type": "error",
     "traceback": [
      "\u001b[0;31m---------------------------------------------------------------------------\u001b[0m",
      "\u001b[0;31mTypeError\u001b[0m                                 Traceback (most recent call last)",
      "File \u001b[0;32m~/.pyenv/versions/3.12.1/lib/python3.12/site-packages/pandas/core/groupby/groupby.py:1942\u001b[0m, in \u001b[0;36mGroupBy._agg_py_fallback\u001b[0;34m(self, how, values, ndim, alt)\u001b[0m\n\u001b[1;32m   1941\u001b[0m \u001b[38;5;28;01mtry\u001b[39;00m:\n\u001b[0;32m-> 1942\u001b[0m     res_values \u001b[38;5;241m=\u001b[39m \u001b[38;5;28;43mself\u001b[39;49m\u001b[38;5;241;43m.\u001b[39;49m\u001b[43m_grouper\u001b[49m\u001b[38;5;241;43m.\u001b[39;49m\u001b[43magg_series\u001b[49m\u001b[43m(\u001b[49m\u001b[43mser\u001b[49m\u001b[43m,\u001b[49m\u001b[43m \u001b[49m\u001b[43malt\u001b[49m\u001b[43m,\u001b[49m\u001b[43m \u001b[49m\u001b[43mpreserve_dtype\u001b[49m\u001b[38;5;241;43m=\u001b[39;49m\u001b[38;5;28;43;01mTrue\u001b[39;49;00m\u001b[43m)\u001b[49m\n\u001b[1;32m   1943\u001b[0m \u001b[38;5;28;01mexcept\u001b[39;00m \u001b[38;5;167;01mException\u001b[39;00m \u001b[38;5;28;01mas\u001b[39;00m err:\n",
      "File \u001b[0;32m~/.pyenv/versions/3.12.1/lib/python3.12/site-packages/pandas/core/groupby/ops.py:863\u001b[0m, in \u001b[0;36mBaseGrouper.agg_series\u001b[0;34m(self, obj, func, preserve_dtype)\u001b[0m\n\u001b[1;32m    861\u001b[0m     preserve_dtype \u001b[38;5;241m=\u001b[39m \u001b[38;5;28;01mTrue\u001b[39;00m\n\u001b[0;32m--> 863\u001b[0m result \u001b[38;5;241m=\u001b[39m \u001b[38;5;28;43mself\u001b[39;49m\u001b[38;5;241;43m.\u001b[39;49m\u001b[43m_aggregate_series_pure_python\u001b[49m\u001b[43m(\u001b[49m\u001b[43mobj\u001b[49m\u001b[43m,\u001b[49m\u001b[43m \u001b[49m\u001b[43mfunc\u001b[49m\u001b[43m)\u001b[49m\n\u001b[1;32m    865\u001b[0m npvalues \u001b[38;5;241m=\u001b[39m lib\u001b[38;5;241m.\u001b[39mmaybe_convert_objects(result, try_float\u001b[38;5;241m=\u001b[39m\u001b[38;5;28;01mFalse\u001b[39;00m)\n",
      "File \u001b[0;32m~/.pyenv/versions/3.12.1/lib/python3.12/site-packages/pandas/core/groupby/ops.py:884\u001b[0m, in \u001b[0;36mBaseGrouper._aggregate_series_pure_python\u001b[0;34m(self, obj, func)\u001b[0m\n\u001b[1;32m    883\u001b[0m \u001b[38;5;28;01mfor\u001b[39;00m i, group \u001b[38;5;129;01min\u001b[39;00m \u001b[38;5;28menumerate\u001b[39m(splitter):\n\u001b[0;32m--> 884\u001b[0m     res \u001b[38;5;241m=\u001b[39m \u001b[43mfunc\u001b[49m\u001b[43m(\u001b[49m\u001b[43mgroup\u001b[49m\u001b[43m)\u001b[49m\n\u001b[1;32m    885\u001b[0m     res \u001b[38;5;241m=\u001b[39m extract_result(res)\n",
      "File \u001b[0;32m~/.pyenv/versions/3.12.1/lib/python3.12/site-packages/pandas/core/groupby/groupby.py:2454\u001b[0m, in \u001b[0;36mGroupBy.mean.<locals>.<lambda>\u001b[0;34m(x)\u001b[0m\n\u001b[1;32m   2451\u001b[0m \u001b[38;5;28;01melse\u001b[39;00m:\n\u001b[1;32m   2452\u001b[0m     result \u001b[38;5;241m=\u001b[39m \u001b[38;5;28mself\u001b[39m\u001b[38;5;241m.\u001b[39m_cython_agg_general(\n\u001b[1;32m   2453\u001b[0m         \u001b[38;5;124m\"\u001b[39m\u001b[38;5;124mmean\u001b[39m\u001b[38;5;124m\"\u001b[39m,\n\u001b[0;32m-> 2454\u001b[0m         alt\u001b[38;5;241m=\u001b[39m\u001b[38;5;28;01mlambda\u001b[39;00m x: \u001b[43mSeries\u001b[49m\u001b[43m(\u001b[49m\u001b[43mx\u001b[49m\u001b[43m,\u001b[49m\u001b[43m \u001b[49m\u001b[43mcopy\u001b[49m\u001b[38;5;241;43m=\u001b[39;49m\u001b[38;5;28;43;01mFalse\u001b[39;49;00m\u001b[43m)\u001b[49m\u001b[38;5;241;43m.\u001b[39;49m\u001b[43mmean\u001b[49m\u001b[43m(\u001b[49m\u001b[43mnumeric_only\u001b[49m\u001b[38;5;241;43m=\u001b[39;49m\u001b[43mnumeric_only\u001b[49m\u001b[43m)\u001b[49m,\n\u001b[1;32m   2455\u001b[0m         numeric_only\u001b[38;5;241m=\u001b[39mnumeric_only,\n\u001b[1;32m   2456\u001b[0m     )\n\u001b[1;32m   2457\u001b[0m     \u001b[38;5;28;01mreturn\u001b[39;00m result\u001b[38;5;241m.\u001b[39m__finalize__(\u001b[38;5;28mself\u001b[39m\u001b[38;5;241m.\u001b[39mobj, method\u001b[38;5;241m=\u001b[39m\u001b[38;5;124m\"\u001b[39m\u001b[38;5;124mgroupby\u001b[39m\u001b[38;5;124m\"\u001b[39m)\n",
      "File \u001b[0;32m~/.pyenv/versions/3.12.1/lib/python3.12/site-packages/pandas/core/series.py:6529\u001b[0m, in \u001b[0;36mSeries.mean\u001b[0;34m(self, axis, skipna, numeric_only, **kwargs)\u001b[0m\n\u001b[1;32m   6521\u001b[0m \u001b[38;5;129m@doc\u001b[39m(make_doc(\u001b[38;5;124m\"\u001b[39m\u001b[38;5;124mmean\u001b[39m\u001b[38;5;124m\"\u001b[39m, ndim\u001b[38;5;241m=\u001b[39m\u001b[38;5;241m1\u001b[39m))\n\u001b[1;32m   6522\u001b[0m \u001b[38;5;28;01mdef\u001b[39;00m \u001b[38;5;21mmean\u001b[39m(\n\u001b[1;32m   6523\u001b[0m     \u001b[38;5;28mself\u001b[39m,\n\u001b[0;32m   (...)\u001b[0m\n\u001b[1;32m   6527\u001b[0m     \u001b[38;5;241m*\u001b[39m\u001b[38;5;241m*\u001b[39mkwargs,\n\u001b[1;32m   6528\u001b[0m ):\n\u001b[0;32m-> 6529\u001b[0m     \u001b[38;5;28;01mreturn\u001b[39;00m \u001b[43mNDFrame\u001b[49m\u001b[38;5;241;43m.\u001b[39;49m\u001b[43mmean\u001b[49m\u001b[43m(\u001b[49m\u001b[38;5;28;43mself\u001b[39;49m\u001b[43m,\u001b[49m\u001b[43m \u001b[49m\u001b[43maxis\u001b[49m\u001b[43m,\u001b[49m\u001b[43m \u001b[49m\u001b[43mskipna\u001b[49m\u001b[43m,\u001b[49m\u001b[43m \u001b[49m\u001b[43mnumeric_only\u001b[49m\u001b[43m,\u001b[49m\u001b[43m \u001b[49m\u001b[38;5;241;43m*\u001b[39;49m\u001b[38;5;241;43m*\u001b[39;49m\u001b[43mkwargs\u001b[49m\u001b[43m)\u001b[49m\n",
      "File \u001b[0;32m~/.pyenv/versions/3.12.1/lib/python3.12/site-packages/pandas/core/generic.py:12413\u001b[0m, in \u001b[0;36mNDFrame.mean\u001b[0;34m(self, axis, skipna, numeric_only, **kwargs)\u001b[0m\n\u001b[1;32m  12406\u001b[0m \u001b[38;5;28;01mdef\u001b[39;00m \u001b[38;5;21mmean\u001b[39m(\n\u001b[1;32m  12407\u001b[0m     \u001b[38;5;28mself\u001b[39m,\n\u001b[1;32m  12408\u001b[0m     axis: Axis \u001b[38;5;241m|\u001b[39m \u001b[38;5;28;01mNone\u001b[39;00m \u001b[38;5;241m=\u001b[39m \u001b[38;5;241m0\u001b[39m,\n\u001b[0;32m   (...)\u001b[0m\n\u001b[1;32m  12411\u001b[0m     \u001b[38;5;241m*\u001b[39m\u001b[38;5;241m*\u001b[39mkwargs,\n\u001b[1;32m  12412\u001b[0m ) \u001b[38;5;241m-\u001b[39m\u001b[38;5;241m>\u001b[39m Series \u001b[38;5;241m|\u001b[39m \u001b[38;5;28mfloat\u001b[39m:\n\u001b[0;32m> 12413\u001b[0m     \u001b[38;5;28;01mreturn\u001b[39;00m \u001b[38;5;28;43mself\u001b[39;49m\u001b[38;5;241;43m.\u001b[39;49m\u001b[43m_stat_function\u001b[49m\u001b[43m(\u001b[49m\n\u001b[1;32m  12414\u001b[0m \u001b[43m        \u001b[49m\u001b[38;5;124;43m\"\u001b[39;49m\u001b[38;5;124;43mmean\u001b[39;49m\u001b[38;5;124;43m\"\u001b[39;49m\u001b[43m,\u001b[49m\u001b[43m \u001b[49m\u001b[43mnanops\u001b[49m\u001b[38;5;241;43m.\u001b[39;49m\u001b[43mnanmean\u001b[49m\u001b[43m,\u001b[49m\u001b[43m \u001b[49m\u001b[43maxis\u001b[49m\u001b[43m,\u001b[49m\u001b[43m \u001b[49m\u001b[43mskipna\u001b[49m\u001b[43m,\u001b[49m\u001b[43m \u001b[49m\u001b[43mnumeric_only\u001b[49m\u001b[43m,\u001b[49m\u001b[43m \u001b[49m\u001b[38;5;241;43m*\u001b[39;49m\u001b[38;5;241;43m*\u001b[39;49m\u001b[43mkwargs\u001b[49m\n\u001b[1;32m  12415\u001b[0m \u001b[43m    \u001b[49m\u001b[43m)\u001b[49m\n",
      "File \u001b[0;32m~/.pyenv/versions/3.12.1/lib/python3.12/site-packages/pandas/core/generic.py:12370\u001b[0m, in \u001b[0;36mNDFrame._stat_function\u001b[0;34m(self, name, func, axis, skipna, numeric_only, **kwargs)\u001b[0m\n\u001b[1;32m  12368\u001b[0m validate_bool_kwarg(skipna, \u001b[38;5;124m\"\u001b[39m\u001b[38;5;124mskipna\u001b[39m\u001b[38;5;124m\"\u001b[39m, none_allowed\u001b[38;5;241m=\u001b[39m\u001b[38;5;28;01mFalse\u001b[39;00m)\n\u001b[0;32m> 12370\u001b[0m \u001b[38;5;28;01mreturn\u001b[39;00m \u001b[38;5;28;43mself\u001b[39;49m\u001b[38;5;241;43m.\u001b[39;49m\u001b[43m_reduce\u001b[49m\u001b[43m(\u001b[49m\n\u001b[1;32m  12371\u001b[0m \u001b[43m    \u001b[49m\u001b[43mfunc\u001b[49m\u001b[43m,\u001b[49m\u001b[43m \u001b[49m\u001b[43mname\u001b[49m\u001b[38;5;241;43m=\u001b[39;49m\u001b[43mname\u001b[49m\u001b[43m,\u001b[49m\u001b[43m \u001b[49m\u001b[43maxis\u001b[49m\u001b[38;5;241;43m=\u001b[39;49m\u001b[43maxis\u001b[49m\u001b[43m,\u001b[49m\u001b[43m \u001b[49m\u001b[43mskipna\u001b[49m\u001b[38;5;241;43m=\u001b[39;49m\u001b[43mskipna\u001b[49m\u001b[43m,\u001b[49m\u001b[43m \u001b[49m\u001b[43mnumeric_only\u001b[49m\u001b[38;5;241;43m=\u001b[39;49m\u001b[43mnumeric_only\u001b[49m\n\u001b[1;32m  12372\u001b[0m \u001b[43m\u001b[49m\u001b[43m)\u001b[49m\n",
      "File \u001b[0;32m~/.pyenv/versions/3.12.1/lib/python3.12/site-packages/pandas/core/series.py:6437\u001b[0m, in \u001b[0;36mSeries._reduce\u001b[0;34m(self, op, name, axis, skipna, numeric_only, filter_type, **kwds)\u001b[0m\n\u001b[1;32m   6433\u001b[0m     \u001b[38;5;28;01mraise\u001b[39;00m \u001b[38;5;167;01mTypeError\u001b[39;00m(\n\u001b[1;32m   6434\u001b[0m         \u001b[38;5;124mf\u001b[39m\u001b[38;5;124m\"\u001b[39m\u001b[38;5;124mSeries.\u001b[39m\u001b[38;5;132;01m{\u001b[39;00mname\u001b[38;5;132;01m}\u001b[39;00m\u001b[38;5;124m does not allow \u001b[39m\u001b[38;5;132;01m{\u001b[39;00mkwd_name\u001b[38;5;132;01m}\u001b[39;00m\u001b[38;5;124m=\u001b[39m\u001b[38;5;132;01m{\u001b[39;00mnumeric_only\u001b[38;5;132;01m}\u001b[39;00m\u001b[38;5;124m \u001b[39m\u001b[38;5;124m\"\u001b[39m\n\u001b[1;32m   6435\u001b[0m         \u001b[38;5;124m\"\u001b[39m\u001b[38;5;124mwith non-numeric dtypes.\u001b[39m\u001b[38;5;124m\"\u001b[39m\n\u001b[1;32m   6436\u001b[0m     )\n\u001b[0;32m-> 6437\u001b[0m \u001b[38;5;28;01mreturn\u001b[39;00m \u001b[43mop\u001b[49m\u001b[43m(\u001b[49m\u001b[43mdelegate\u001b[49m\u001b[43m,\u001b[49m\u001b[43m \u001b[49m\u001b[43mskipna\u001b[49m\u001b[38;5;241;43m=\u001b[39;49m\u001b[43mskipna\u001b[49m\u001b[43m,\u001b[49m\u001b[43m \u001b[49m\u001b[38;5;241;43m*\u001b[39;49m\u001b[38;5;241;43m*\u001b[39;49m\u001b[43mkwds\u001b[49m\u001b[43m)\u001b[49m\n",
      "File \u001b[0;32m~/.pyenv/versions/3.12.1/lib/python3.12/site-packages/pandas/core/nanops.py:147\u001b[0m, in \u001b[0;36mbottleneck_switch.__call__.<locals>.f\u001b[0;34m(values, axis, skipna, **kwds)\u001b[0m\n\u001b[1;32m    146\u001b[0m \u001b[38;5;28;01melse\u001b[39;00m:\n\u001b[0;32m--> 147\u001b[0m     result \u001b[38;5;241m=\u001b[39m \u001b[43malt\u001b[49m\u001b[43m(\u001b[49m\u001b[43mvalues\u001b[49m\u001b[43m,\u001b[49m\u001b[43m \u001b[49m\u001b[43maxis\u001b[49m\u001b[38;5;241;43m=\u001b[39;49m\u001b[43maxis\u001b[49m\u001b[43m,\u001b[49m\u001b[43m \u001b[49m\u001b[43mskipna\u001b[49m\u001b[38;5;241;43m=\u001b[39;49m\u001b[43mskipna\u001b[49m\u001b[43m,\u001b[49m\u001b[43m \u001b[49m\u001b[38;5;241;43m*\u001b[39;49m\u001b[38;5;241;43m*\u001b[39;49m\u001b[43mkwds\u001b[49m\u001b[43m)\u001b[49m\n\u001b[1;32m    149\u001b[0m \u001b[38;5;28;01mreturn\u001b[39;00m result\n",
      "File \u001b[0;32m~/.pyenv/versions/3.12.1/lib/python3.12/site-packages/pandas/core/nanops.py:404\u001b[0m, in \u001b[0;36m_datetimelike_compat.<locals>.new_func\u001b[0;34m(values, axis, skipna, mask, **kwargs)\u001b[0m\n\u001b[1;32m    402\u001b[0m     mask \u001b[38;5;241m=\u001b[39m isna(values)\n\u001b[0;32m--> 404\u001b[0m result \u001b[38;5;241m=\u001b[39m \u001b[43mfunc\u001b[49m\u001b[43m(\u001b[49m\u001b[43mvalues\u001b[49m\u001b[43m,\u001b[49m\u001b[43m \u001b[49m\u001b[43maxis\u001b[49m\u001b[38;5;241;43m=\u001b[39;49m\u001b[43maxis\u001b[49m\u001b[43m,\u001b[49m\u001b[43m \u001b[49m\u001b[43mskipna\u001b[49m\u001b[38;5;241;43m=\u001b[39;49m\u001b[43mskipna\u001b[49m\u001b[43m,\u001b[49m\u001b[43m \u001b[49m\u001b[43mmask\u001b[49m\u001b[38;5;241;43m=\u001b[39;49m\u001b[43mmask\u001b[49m\u001b[43m,\u001b[49m\u001b[43m \u001b[49m\u001b[38;5;241;43m*\u001b[39;49m\u001b[38;5;241;43m*\u001b[39;49m\u001b[43mkwargs\u001b[49m\u001b[43m)\u001b[49m\n\u001b[1;32m    406\u001b[0m \u001b[38;5;28;01mif\u001b[39;00m datetimelike:\n",
      "File \u001b[0;32m~/.pyenv/versions/3.12.1/lib/python3.12/site-packages/pandas/core/nanops.py:720\u001b[0m, in \u001b[0;36mnanmean\u001b[0;34m(values, axis, skipna, mask)\u001b[0m\n\u001b[1;32m    719\u001b[0m the_sum \u001b[38;5;241m=\u001b[39m values\u001b[38;5;241m.\u001b[39msum(axis, dtype\u001b[38;5;241m=\u001b[39mdtype_sum)\n\u001b[0;32m--> 720\u001b[0m the_sum \u001b[38;5;241m=\u001b[39m \u001b[43m_ensure_numeric\u001b[49m\u001b[43m(\u001b[49m\u001b[43mthe_sum\u001b[49m\u001b[43m)\u001b[49m\n\u001b[1;32m    722\u001b[0m \u001b[38;5;28;01mif\u001b[39;00m axis \u001b[38;5;129;01mis\u001b[39;00m \u001b[38;5;129;01mnot\u001b[39;00m \u001b[38;5;28;01mNone\u001b[39;00m \u001b[38;5;129;01mand\u001b[39;00m \u001b[38;5;28mgetattr\u001b[39m(the_sum, \u001b[38;5;124m\"\u001b[39m\u001b[38;5;124mndim\u001b[39m\u001b[38;5;124m\"\u001b[39m, \u001b[38;5;28;01mFalse\u001b[39;00m):\n",
      "File \u001b[0;32m~/.pyenv/versions/3.12.1/lib/python3.12/site-packages/pandas/core/nanops.py:1701\u001b[0m, in \u001b[0;36m_ensure_numeric\u001b[0;34m(x)\u001b[0m\n\u001b[1;32m   1699\u001b[0m \u001b[38;5;28;01mif\u001b[39;00m \u001b[38;5;28misinstance\u001b[39m(x, \u001b[38;5;28mstr\u001b[39m):\n\u001b[1;32m   1700\u001b[0m     \u001b[38;5;66;03m# GH#44008, GH#36703 avoid casting e.g. strings to numeric\u001b[39;00m\n\u001b[0;32m-> 1701\u001b[0m     \u001b[38;5;28;01mraise\u001b[39;00m \u001b[38;5;167;01mTypeError\u001b[39;00m(\u001b[38;5;124mf\u001b[39m\u001b[38;5;124m\"\u001b[39m\u001b[38;5;124mCould not convert string \u001b[39m\u001b[38;5;124m'\u001b[39m\u001b[38;5;132;01m{\u001b[39;00mx\u001b[38;5;132;01m}\u001b[39;00m\u001b[38;5;124m'\u001b[39m\u001b[38;5;124m to numeric\u001b[39m\u001b[38;5;124m\"\u001b[39m)\n\u001b[1;32m   1702\u001b[0m \u001b[38;5;28;01mtry\u001b[39;00m:\n",
      "\u001b[0;31mTypeError\u001b[0m: Could not convert string 'marriedmarriedsinglemarriedmarriedmarriedsinglemarriedmarriedmarriedsinglemarriedmarriedmarriedmarriedsinglesingledivorcedmarrieddivorcedmarriedmarrieddivorcedsinglesingledivorcedmarriedmarriedsinglemarriedmarriedmarriedmarrieddivorcedmarriedsinglesinglemarrieddivorcedsinglemarrieddivorcedmarriedmarriedmarrieddivorcedsingledivorcedsinglemarriedsinglesinglemarriedmarrieddivorcedsinglemarriedmarrieddivorceddivorcedsingledivorcedsinglemarriedmarriedsinglemarriedsinglemarriedsinglemarriedmarriedsingledivorcedmarriedmarriedsinglemarriedmarriedmarriedsingledivorcedmarriedmarriedsinglesinglemarriedmarriedmarriedsinglemarriedsinglemarrieddivorcedsinglemarriedsinglesinglesinglesingledivorcedmarrieddivorcedsinglesinglemarriedsinglemarriedmarriedsinglesinglemarriedmarrieddivorcedmarriedsinglesinglesingledivorceddivorcedmarriedmarriedsinglesinglesinglesinglesinglemarriedmarriedsinglemarriedmarrieddivorcedmarriedmarriedsinglesingledivorcedmarrieddivorcedsingledivorcedmarriedmarriedsinglemarriedmarriedmarriedsinglemarriedsinglemarriedmarriedmarriedmarriedsinglesinglemarriedsinglemarrieddivorcedsinglemarriedsinglemarrieddivorcedmarriedmarriedmarriedmarriedmarriedmarrieddivorcedsinglemarriedsingledivorcedsingledivorcedsinglesinglesinglemarrieddivorcedsinglemarriedmarriedsinglemarriedmarriedsingledivorceddivorcedsinglesinglemarriedmarriedmarriedmarriedmarriedmarriedmarrieddivorcedsinglesinglemarriedsinglesinglemarriedsinglesingledivorcedsinglemarriedmarriedsinglesingledivorcedsinglesinglemarriedsinglesingledivorcedmarriedmarriedmarrieddivorcedmarriedmarriedmarriedsinglemarriedsinglesinglemarriedsinglemarriedsinglesinglemarriedmarriedsinglemarriedsinglesinglesinglesinglemarriedmarriedmarriedsinglesinglesinglesinglemarriedmarriedmarriedsinglemarriedmarriedmarriedsinglemarriedsinglemarriedmarriedmarriedsinglemarriedmarriedsinglemarriedsinglesinglesinglesinglesinglesinglemarriedmarrieddivorcedmarriedsinglemarriedmarriedmarriedmarriedmarriedmarriedsingledivorcedmarriedmarriedmarriedsingledivorcedmarriedsinglemarriedmarriedmarrieddivorcedmarriedmarrieddivorcedsinglemarriedsinglesinglesinglemarriedmarriedmarriedsingledivorcedmarriedsingledivorcedmarriedmarriedsinglesinglesinglemarriedmarriedmarriedmarriedsinglesinglesinglesinglemarriedsinglemarriedmarriedsinglesinglemarriedmarriedsinglemarriedmarriedsinglemarriedmarriedsinglemarriedmarriedmarriedsinglemarriedmarriedsingledivorcedmarriedsinglemarriedmarriedsinglemarriedmarriedmarriedsingledivorceddivorcedmarriedsinglesinglemarriedsinglesinglemarriedmarrieddivorcedmarriedmarriedmarriedsinglemarriedsinglesinglesingledivorcedmarrieddivorcedsinglesinglesinglemarriedsinglemarriedmarriedmarrieddivorcedmarriedsinglesinglemarriedmarriedsinglemarriedsinglesinglesinglemarriedmarriedsingledivorcedmarriedmarriedmarriedsinglesinglesinglemarriedsinglemarrieddivorcedsinglesinglesinglesinglemarriedmarrieddivorceddivorcedsinglemarriedmarrieddivorcedsinglemarriedsinglemarrieddivorcedsinglesinglemarriedsinglemarriedmarriedsinglemarriedmarriedmarriedsinglemarrieddivorcedsinglemarriedsingledivorcedmarriedmarriedmarrieddivorcedmarriedmarriedmarrieddivorcedmarriedsinglemarriedmarriedmarriedsinglesinglemarriedmarriedmarriedmarriedsinglesinglesinglesinglemarriedmarriedsinglemarrieddivorcedmarriedmarriedsinglemarriedmarriedmarriedmarriedsinglemarriedmarriedsinglemarriedsingledivorcedmarriedsinglesinglemarriedmarriedsinglesinglesinglesinglesinglemarriedmarriedmarriedsinglesinglesinglesinglemarriedmarriedmarriedsinglemarriedmarriedmarriedmarrieddivorcedmarriedsingledivorcedsinglemarriedsinglemarriedmarriedmarriedsinglemarriedmarriedmarriedmarriedmarriedsinglemarriedsinglesinglesinglesinglemarriedsinglemarriedsinglemarriedsinglemarrieddivorcedmarriedsinglemarriedmarriedsinglesinglesinglemarrieddivorcedmarriedsinglemarriedmarriedmarriedsinglemarriedsinglesinglesinglemarriedmarriedsinglemarriedmarriedsinglemarriedsinglemarriedsinglesingledivorcedmarriedsinglemarriedsinglesinglemarriedsinglemarriedmarriedsinglesinglemarriedsinglesinglesinglemarriedmarriedmarriedsinglemarriedmarriedmarriedmarriedmarrieddivorcedmarriedsinglemarriedmarriedsinglesinglemarriedsinglesinglemarrieddivorcedmarriedmarriedsinglemarriedmarriedmarriedsingledivorcedmarriedsinglesinglesinglemarriedmarriedmarriedmarriedmarriedsinglesinglesinglesinglemarriedsinglesinglemarriedmarriedsingledivorcedmarriedsinglemarriedsinglesinglemarriedmarriedsingledivorcedmarriedmarrieddivorcedmarriedsinglesinglemarriedmarriedmarriedmarriedmarriedsinglesinglemarriedmarriedmarriedmarriedmarriedmarriedmarriedmarriedmarriedsinglesinglesinglesinglesinglemarrieddivorcedmarriedmarrieddivorcedsinglemarrieddivorcedmarriedmarriedsinglesinglemarriedmarriedsinglesinglemarriedsingledivorcedsinglemarriedmarriedsinglemarriedmarriedmarriedmarriedsinglemarriedmarriedmarriedmarriedmarriedmarriedsinglemarriedmarriedmarriedsinglesinglemarriedmarrieddivorcedmarriedsinglesinglesinglemarriedsinglemarriedsinglesinglesinglemarriedsinglemarriedmarriedmarriedsinglesinglemarrieddivorcedsinglemarriedsingledivorcedmarriedsinglesinglemarriedsinglemarriedmarriedmarriedmarriedsinglemarriedmarriedsinglemarriedmarriedsinglesinglesinglemarriedsingledivorcedmarriedsinglemarriedsinglemarriedsinglemarriedsingledivorcedmarriedmarriedsinglemarriedsinglemarriedmarrieddivorcedsingledivorcedmarriedsingledivorcedsinglemarriedmarriedmarriedsinglemarriedmarriedmarriedsinglemarriedsinglesinglesinglemarriedmarrieddivorcedmarriedmarriedmarriedmarriedmarriedsinglesinglemarriedmarrieddivorcedmarriedmarriedsinglemarriedsinglesinglemarriedsinglemarriedsinglemarriedmarriedsinglemarriedsinglemarrieddivorcedmarriedmarriedmarrieddivorceddivorcedsinglemarriedsinglemarriedmarrieddivorcedmarriedmarriedmarriedmarriedmarriedsinglemarriedmarriedsinglemarrieddivorceddivorcedmarriedsinglesinglemarriedmarriedmarriedmarrieddivorcedsingledivorcedsingledivorcedmarriedmarriedmarrieddivorcedsinglemarriedsingledivorcedmarrieddivorcedsinglesinglemarriedsinglesingledivorcedmarriedmarriedsingledivorceddivorcedmarriedmarriedsinglemarriedmarriedmarriedmarriedmarriedsinglemarriedsinglemarriedsinglesinglemarrieddivorceddivorcedsinglemarriedmarriedsinglemarriedsinglesingledivorcedsinglesinglesinglemarriedsinglemarriedsinglemarrieddivorcedmarriedmarriedmarriedmarrieddivorceddivorcedmarriedsinglemarriedmarriedmarriedsingledivorcedsinglemarriedsinglesingledivorcedsinglemarriedsinglesingledivorceddivorcedsingledivorceddivorcedsinglesinglemarriedsinglesinglesinglesinglemarriedsinglemarriedmarriedsinglemarriedmarriedsinglesinglemarriedmarriedmarriedmarrieddivorcedsinglemarriedmarriedmarriedmarriedmarriedsinglesinglesinglemarriedsinglemarriedmarriedsinglemarriedsinglemarriedmarriedmarriedsinglesinglesinglesinglemarriedmarriedsinglesinglemarrieddivorcedmarriedmarrieddivorcedsinglemarriedmarriedsinglesinglesinglemarriedsinglemarriedmarriedsinglemarriedmarriedmarriedmarriedsingledivorceddivorcedmarriedmarriedmarriedsinglesinglesinglemarrieddivorcedsingledivorcedmarriedmarriedmarriedsinglesinglesinglesinglesinglemarriedsinglemarriedmarriedmarriedmarrieddivorcedmarriedsinglesinglemarriedmarriedsinglemarriedmarriedsinglemarriedmarriedmarrieddivorcedsinglesinglemarriedsinglemarriedmarriedmarriedsinglesinglesinglemarriedmarriedmarriedmarriedmarriedmarriedmarriedmarriedmarriedmarriedmarriedmarriedmarriedmarriedsinglemarriedsinglemarriedmarriedmarriedsinglemarriedmarrieddivorcedmarrieddivorcedmarrieddivorcedmarriedmarrieddivorcedsinglemarriedmarriedsinglesinglemarriedmarriedsingledivorceddivorcedmarriedmarriedmarrieddivorcedsinglesinglesinglemarriedmarriedsinglesinglemarriedmarriedmarriedsinglemarriedsinglemarriedmarriedmarriedmarriedmarriedsinglesinglesinglesinglemarriedsinglemarriedsinglemarriedmarriedmarriedmarriedsinglemarriedmarriedmarrieddivorcedsingledivorcedsinglemarriedsinglesinglesinglemarriedsinglesinglemarriedmarriedsinglemarriedmarriedsinglemarriedmarriedmarriedmarrieddivorcedsinglesinglemarriedsinglesinglemarriedmarriedmarriedsinglesinglemarrieddivorcedmarriedsinglemarriedmarriedsinglesinglemarriedsinglemarriedsinglemarrieddivorcedmarriedsinglemarriedmarriedmarriedsinglemarriedsinglemarriedsinglemarriedmarrieddivorcedmarriedmarriedsinglemarriedsinglemarriedsinglemarriedsinglesinglemarrieddivorceddivorcedmarriedmarriedmarriedmarriedsinglemarrieddivorceddivorcedmarriedmarrieddivorcedsinglemarriedsinglemarriedmarriedsinglemarriedmarrieddivorcedsinglemarrieddivorcedmarriedmarriedsingledivorcedmarriedmarriedmarriedsinglesinglesinglemarriedsinglesinglemarriedmarriedsinglemarriedsinglemarriedmarriedmarriedsinglemarriedmarriedmarriedmarriedmarriedmarriedmarriedmarriedsinglemarriedmarriedsinglesinglesinglesinglesinglesinglemarriedsinglemarriedsinglemarriedmarriedmarriedsinglesinglemarriedsinglesinglesinglesingledivorcedsinglemarriedmarriedsinglemarriedmarriedsinglesingledivorcedmarriedmarriedmarriedmarriedsingledivorcedsinglemarriedmarriedsinglemarriedmarrieddivorcedsinglemarriedmarriedsinglemarriedmarriedmarriedmarriedmarriedmarrieddivorcedsinglesinglesinglesinglesinglemarriedmarriedmarrieddivorcedmarriedmarriedsinglesinglesinglemarriedmarriedsinglesinglesinglesinglemarriedsinglesinglemarriedmarriedsinglemarriedsinglesinglesinglesingledivorcedsinglemarriedsinglemarriedsinglemarriedsinglemarriedsingledivorcedsingledivorcedsinglemarriedmarriedmarrieddivorceddivorcedmarriedmarriedsinglemarriedmarriedmarriedmarrieddivorcedmarriedmarriedmarriedmarriedsinglemarrieddivorcedmarriedsinglemarriedmarriedmarriedsinglesingledivorcedmarriedsingledivorcedsinglemarriedsingledivorcedsinglemarrieddivorcedmarriedsinglemarriedsinglesingledivorcedmarriedmarriedsinglesinglesinglemarriedmarrieddivorcedsinglemarriedsingledivorcedmarriedmarriedmarriedmarriedmarriedmarriedmarriedsinglesinglemarriedmarriedmarrieddivorcedmarriedmarriedsinglemarriedsingledivorcedsinglesinglesinglemarriedmarriedmarriedmarriedsinglesinglemarriedmarriedsingledivorcedsinglesinglesinglesinglemarriedmarriedmarriedsinglesinglemarriedmarriedsinglemarriedsinglemarriedsinglemarriedmarriedmarriedmarriedmarriedmarriedmarriedmarriedsinglemarriedmarrieddivorcedsinglesinglemarriedsinglemarriedmarriedmarriedmarriedmarriedmarriedsinglemarrieddivorcedmarrieddivorcedmarriedmarriedmarriedsinglemarrieddivorceddivorcedsinglemarriedmarriedsinglemarriedsinglemarriedsinglesinglemarriedsinglemarriedsinglemarriedmarriedsinglemarriedmarriedmarrieddivorcedmarriedmarriedmarriedmarriedsinglesinglemarrieddivorcedmarriedsinglemarriedsinglesinglesinglesinglemarriedsinglemarrieddivorcedsinglesinglesinglemarriedmarriedmarriedmarriedsingledivorcedmarriedmarriedsinglemarriedmarriedmarriedmarriedmarrieddivorcedmarriedmarriedsinglesinglemarrieddivorcedmarriedmarriedmarriedmarriedmarriedsinglesinglemarriedsinglemarriedsinglesinglesingledivorcedsinglemarriedsinglemarrieddivorceddivorceddivorcedsinglesinglesinglesinglemarriedmarriedsinglemarriedmarriedmarrieddivorcedsinglesinglesingledivorcedmarriedsinglemarriedmarriedmarriedsinglemarriedmarriedsinglemarrieddivorcedmarriedsinglemarrieddivorcedmarriedsinglesinglesinglemarriedmarriedmarriedmarriedmarriedsinglesinglesinglemarriedsingledivorcedsingledivorcedsinglemarriedsinglemarriedmarriedmarriedsinglemarriedmarrieddivorcedmarriedmarriedmarriedmarriedmarrieddivorcedmarriedsinglesinglemarriedsinglesinglemarriedmarriedsinglesinglemarriedmarriedsinglesinglemarriedsinglesinglesinglesinglemarrieddivorcedmarriedmarrieddivorcedmarriedmarriedmarrieddivorcedmarriedmarriedmarriedsingledivorcedmarriedsinglemarriedmarriedsinglesingledivorcedsinglemarrieddivorcedsinglemarriedmarriedsinglesinglemarriedmarriedmarriedsinglesinglesinglesinglesinglemarriedmarriedmarriedmarriedmarriedsinglesinglemarriedmarriedmarrieddivorcedsingledivorcedmarriedmarriedmarriedsinglemarrieddivorcedmarriedsinglesingledivorcedmarriedmarriedmarriedsinglesinglesinglemarriedsinglesinglesinglemarriedsinglesinglemarriedsingledivorcedsinglesinglesinglemarriedmarriedsinglemarriedsinglesinglesinglesinglemarrieddivorcedsinglemarriedsinglemarriedmarriedsinglesinglemarriedmarriedmarriedsinglesinglemarriedmarrieddivorcedmarrieddivorcedsinglesingledivorcedmarrieddivorcedmarriedmarriedsinglemarriedmarriedmarriedsinglemarriedmarriedsinglesinglemarriedsinglesinglesinglesinglesinglemarriedsinglemarriedsinglemarriedsinglesingledivorcedmarriedmarriedmarriedmarriedsinglemarriedmarriedmarriedmarriedsinglemarrieddivorcedsinglesinglemarriedmarriedsinglesinglesinglemarriedmarriedsinglesingledivorcedsingledivorcedmarriedmarriedsinglemarrieddivorcedsinglesinglesinglesinglesinglesinglesinglemarriedmarriedsinglemarriedmarriedmarriedsinglemarrieddivorcedmarriedsinglemarriedmarriedsinglesinglemarriedmarriedmarriedmarriedsinglesinglesinglemarriedsinglemarriedsingledivorcedsinglemarriedmarriedmarriedsinglesinglesinglemarriedmarriedmarriedmarriedsinglesinglemarriedmarriedmarriedsinglesingledivorcedmarriedmarriedmarriedsinglemarrieddivorcedmarriedmarriedmarriedsingledivorcedsinglemarriedmarrieddivorcedsinglemarriedmarriedmarriedmarriedsinglemarriedmarriedmarrieddivorcedsinglemarriedmarriedmarriedmarriedmarriedsinglemarrieddivorcedmarriedsinglemarriedmarriedsinglesinglesinglemarriedmarriedsinglesinglesinglemarrieddivorcedsinglesinglesinglesinglesinglesinglesinglemarriedmarriedsinglemarriedsinglemarriedsingledivorcedmarrieddivorcedmarriedmarriedsinglemarriedsinglesingledivorcedmarriedsinglesinglemarriedmarrieddivorcedmarriedmarriedmarriedmarrieddivorcedmarriedmarriedsinglesinglesinglemarriedsingledivorcedsinglemarriedmarriedmarriedmarriedmarriedmarriedmarriedsinglesinglemarriedsinglemarriedmarriedmarriedmarriedmarriedsinglemarriedmarriedsinglemarriedmarriedmarriedmarriedsinglemarriedmarrieddivorcedsinglemarriedmarriedsinglesinglemarriedmarriedsinglemarriedmarriedsinglesinglemarriedsinglemarriedsinglemarriedmarriedsinglemarriedsingledivorcedsinglemarrieddivorcedmarriedsinglesinglesinglesinglemarriedmarriedmarriedmarrieddivorceddivorcedmarrieddivorcedmarriedsinglesinglemarriedsingledivorcedsingledivorcedmarriedsinglemarriedmarriedmarriedmarriedmarriedsinglesinglemarriedsinglesinglemarriedmarrieddivorcedsinglemarrieddivorcedmarriedsinglemarriedmarriedmarriedmarrieddivorcedsingledivorcedmarriedsinglesinglemarriedmarriedsinglemarrieddivorcedsinglemarriedmarriedsinglemarriedsingledivorcedmarriedmarriedmarriedmarriedmarriedmarriedsinglemarriedsinglesinglesinglesinglesinglemarrieddivorcedmarrieddivorcedsinglemarrieddivorcedmarriedsinglesinglemarrieddivorcedmarriedsinglemarrieddivorcedsinglesinglesinglemarrieddivorcedmarriedmarriedsinglemarriedmarriedsinglemarriedmarriedsinglemarriedmarriedmarriedsinglesinglesinglesinglesinglemarriedmarrieddivorcedmarriedmarriedmarriedsinglesinglemarriedsinglemarrieddivorcedmarriedunknownmarriedsinglesinglemarriedmarriedsinglemarriedsinglesinglemarriedmarriedmarriedmarriedmarriedmarriedsinglemarriedmarriedsinglemarriedsingledivorceddivorcedsinglesinglesinglesinglesinglemarriedsinglemarriedsingledivorcedmarriedmarriedmarriedmarrieddivorcedsinglemarriedmarriedmarriedsinglemarriedsinglemarrieddivorcedmarriedsingleunknownmarriedsinglemarriedsinglemarriedsinglemarriedmarriedmarriedsinglemarriedmarriedmarrieddivorcedmarriedmarriedsinglesingledivorcedmarriedmarriedmarriedmarriedmarrieddivorcedsinglesinglesinglesinglesinglesinglemarriedsinglesinglesinglesinglesinglemarriedsinglemarriedmarriedmarriedsingledivorcedsinglesinglemarriedsingledivorcedsinglesinglemarriedmarriedsingledivorcedmarriedsinglemarriedmarriedsinglemarriedmarrieddivorcedsinglemarriedsingledivorceddivorcedsinglesinglemarriedsinglesinglemarriedmarriedmarriedsinglemarriedmarriedsinglemarriedmarriedmarriedmarrieddivorcedsinglemarriedmarriedmarriedsinglemarrieddivorcedmarriedsinglemarriedmarriedmarriedmarriedsinglemarriedsinglesingledivorcedmarriedmarriedmarriedsinglemarriedsinglesinglemarriedmarriedmarriedmarriedsinglemarriedmarriedmarriedsinglemarriedsinglemarriedmarriedsinglesinglemarriedsingledivorcedmarriedsinglemarriedsinglesinglesinglemarriedsinglemarriedsinglemarriedmarrieddivorcedmarriedsinglemarrieddivorcedmarriedmarriedsinglemarriedsinglesinglesinglemarrieddivorcedsinglesinglemarriedmarriedsinglemarriedmarriedsinglemarriedsinglemarriedsinglesinglesingledivorcedmarriedmarriedmarrieddivorcedmarriedsinglemarriedmarriedmarriedsinglemarriedmarriedsinglesinglesingledivorceddivorcedmarriedmarriedmarriedsinglemarrieddivorcedsinglemarriedmarriedsinglesinglesinglemarriedmarriedmarrieddivorcedsinglemarriedsinglemarriedsinglesinglesinglemarriedmarrieddivorcedmarriedmarriedmarriedsinglesinglemarriedmarriedmarrieddivorceddivorceddivorcedmarrieddivorcedsinglemarriedmarriedmarriedsinglemarrieddivorcedsinglesinglesinglesinglesingledivorcedunknowndivorcedmarrieddivorceddivorcedsinglemarriedmarrieddivorcedsinglemarrieddivorceddivorcedmarriedsinglemarriedsinglesinglesinglesingledivorcedsinglemarriedmarriedmarriedmarriedsinglesinglesinglemarriedmarriedsingledivorcedsinglemarriedsingledivorcedsinglesinglesinglemarriedsinglemarriedmarriedmarriedmarriedmarriedmarriedsinglemarriedsinglesinglemarriedsinglemarriedsinglesinglemarriedmarriedmarriedmarriedsingledivorcedmarrieddivorcedmarriedsinglesingledivorcedmarriedmarrieddivorcedmarriedmarriedmarriedsinglemarriedsinglemarrieddivorcedmarrieddivorcedsinglesinglemarrieddivorcedmarrieddivorcedsinglesinglesinglesinglesinglemarrieddivorcedmarriedsinglesinglesinglemarriedmarriedmarriedmarriedmarriedmarriedmarriedmarriedsingledivorcedmarriedmarriedsingledivorcedmarriedmarriedsinglemarriedsinglemarrieddivorcedmarriedmarriedmarriedmarriedmarriedsinglemarriedsinglesinglesinglemarriedsingledivorcedsinglemarriedsinglemarriedmarrieddivorceddivorcedmarriedsinglemarriedmarriedmarriedmarrieddivorcedsinglemarriedsinglesinglemarriedmarriedmarriedmarriedsinglemarriedmarrieddivorcedmarriedsinglesinglemarriedsinglesinglemarriedsinglemarriedsinglesinglemarriedmarriedsinglemarriedsinglemarrieddivorcedsinglemarriedmarriedmarriedmarrieddivorcedmarriedsinglesinglesingledivorcedsinglesinglesinglemarriedsinglemarrieddivorcedmarriedsinglemarriedsinglesinglemarriedmarriedsinglemarrieddivorcedmarriedsinglesinglesinglemarriedmarriedmarriedsinglemarrieddivorcedsinglesinglemarriedmarriedmarriedmarrieddivorcedsinglesinglesinglesinglemarriedmarriedmarriedmarriedsinglesinglemarriedsinglesinglemarriedmarriedsinglemarriedmarriedmarriedmarriedmarriedmarriedsinglesinglesinglemarriedsinglemarriedmarriedmarrieddivorcedmarrieddivorcedmarriedmarriedmarriedmarriedsinglemarriedmarriedsinglemarriedsinglemarriedmarriedsinglemarriedmarrieddivorcedsinglemarriedmarriedmarriedmarrieddivorcedmarriedsinglemarrieddivorcedmarriedsinglemarriedsingledivorcedmarriedmarrieddivorceddivorcedmarrieddivorcedsinglesinglesinglemarriedmarriedmarriedsinglemarriedmarriedmarriedsinglemarriedmarriedsinglesinglemarriedsingledivorcedsingledivorceddivorcedsinglemarriedsinglesinglesinglemarrieddivorceddivorcedmarriedmarriedmarriedsinglemarriedmarriedsinglemarriedmarriedmarriedsinglemarriedmarriedsinglesinglemarriedsinglemarriedmarriedmarriedmarrieddivorcedsinglemarriedmarriedsinglemarriedmarriedmarriedmarriedmarriedsinglesinglesinglemarriedsinglemarriedmarriedsinglemarriedsingledivorcedsinglemarriedmarriedmarriedmarriedmarriedsinglesinglesinglesinglesinglemarriedsinglesinglesingledivorcedmarriedsinglemarriedmarriedmarriedsinglesinglemarrieddivorcedmarriedsinglemarriedsinglemarriedsinglemarrieddivorceddivorcedmarriedsinglesinglemarriedmarriedsinglesingledivorcedmarriedsinglemarriedmarriedmarrieddivorcedsinglesinglesingledivorcedmarriedsinglesinglesinglemarriedsinglemarriedsinglemarriedmarrieddivorcedsinglesinglesinglesinglesingledivorcedsinglesinglesinglemarriedsinglesingledivorcedsinglemarriedsingledivorcedsingledivorcedmarriedsinglemarriedsinglemarriedsinglemarrieddivorcedsinglesinglemarriedmarriedsingledivorcedsinglesingledivorcedmarriedsinglemarriedsinglemarriedsinglemarriedmarriedmarriedmarrieddivorcedsinglemarriedsinglesinglesingledivorcedmarriedsinglemarriedmarriedmarriedmarriedmarriedsinglemarriedsinglemarriedsingledivorcedmarriedmarriedmarriedsingledivorcedmarriedsinglemarriedmarriedmarriedsinglemarriedmarriedsinglesingledivorcedmarriedsingledivorcedsinglesinglesinglesinglemarriedsinglemarriedsinglemarriedmarriedsinglesinglesingledivorcedunknowndivorcedsinglesingledivorcedsinglesinglesinglemarriedsingledivorcedmarriedsinglesinglemarriedsinglemarriedsinglemarrieddivorcedmarriedmarriedmarriedmarriedmarriedmarriedmarriedsinglemarriedmarriedmarriedmarriedsinglesingledivorcedsinglesinglesinglemarriedsinglemarriedmarriedsinglesingledivorcedmarriedmarriedsinglemarriedmarriedmarriedsinglemarriedmarriedsingledivorcedmarrieddivorcedsinglemarrieddivorcedmarriedsinglesinglemarriedmarriedmarriedmarriedsinglemarriedmarriedmarriedmarriedsinglemarrieddivorcedsinglesinglesinglesinglesinglesinglesinglesinglesinglemarriedsinglemarriedmarriedmarriedsingledivorcedsinglemarriedsinglemarriedsingledivorceddivorcedsinglemarriedmarrieddivorcedsingledivorcedmarriedmarriedsinglemarriedmarriedmarriedsingledivorcedmarriedmarriedmarriedmarriedmarriedsinglemarriedmarrieddivorcedmarriedmarriedmarriedmarriedmarriedmarriedsingledivorcedmarriedmarriedmarrieddivorcedsinglemarriedmarriedmarriedsinglemarrieddivorcedmarriedmarriedsinglesinglesinglesinglemarrieddivorcedmarriedsinglesinglemarrieddivorcedmarrieddivorcedsinglemarriedmarriedmarriedmarriedmarriedsinglemarriedsinglesingledivorcedmarriedsinglemarriedsinglesinglesinglemarriedmarrieddivorcedmarrieddivorcedmarriedmarriedsinglemarriedmarriedsingledivorcedmarriedmarriedmarriedmarriedsingleunknownmarriedmarriedsinglemarriedsinglemarrieddivorceddivorceddivorcedsinglemarriedmarriedmarriedmarriedsinglesinglemarriedsinglemarriedsinglemarriedsinglemarriedmarriedsinglemarriedmarriedmarriedsinglesinglesinglemarriedsinglesinglesinglesinglesinglemarriedmarriedmarriedmarriedmarrieddivorcedsinglemarriedmarriedsinglesinglesinglesingledivorcedmarriedsinglemarriedmarriedmarrieddivorcedmarriedsinglemarrieddivorcedmarriedmarriedmarrieddivorcedmarriedmarriedmarriedmarriedsinglesinglemarriedmarriedsinglesinglesinglemarriedmarriedmarriedsinglemarrieddivorcedmarriedsinglemarriedsinglesinglesinglemarriedmarriedmarriedsinglemarriedmarriedsinglemarriedmarriedmarriedmarriedsinglemarriedsinglesinglemarriedmarriedmarriedmarrieddivorcedsinglemarriedsinglemarriedmarriedmarriedmarrieddivorcedsingledivorcedmarriedmarriedsinglemarriedsinglemarriedmarriedmarriedmarriedsinglesinglemarriedsingledivorcedmarrieddivorceddivorcedmarriedmarriedsinglemarriedmarriedmarriedsinglemarriedsinglemarriedmarriedmarriedmarriedmarriedmarriedsinglesinglesinglemarriedmarriedmarriedmarriedsinglemarriedsinglesinglesinglesinglesinglemarriedsinglemarriedmarriedmarriedmarriedmarriedmarrieddivorcedsinglemarriedsinglesinglemarrieddivorcedmarriedmarriedsinglesinglemarriedsinglemarrieddivorcedmarriedmarriedmarriedmarrieddivorcedsinglesinglemarriedsinglemarriedmarriedmarriedmarriedmarriedmarriedsinglesinglesingledivorcedmarrieddivorcedmarriedmarriedsingledivorcedmarriedmarriedmarriedmarriedmarriedsinglesinglemarriedmarriedmarrieddivorcedmarriedmarriedmarriedsinglemarriedsinglemarriedsinglesinglemarrieddivorcedmarriedmarriedmarriedmarriedmarriedmarrieddivorcedsingledivorcedsinglemarriedsingledivorcedmarriedsinglemarriedsinglesinglemarriedsinglemarrieddivorcedsinglemarriedsingledivorcedmarriedsinglesinglemarriedmarriedmarriedsingledivorcedsinglesingledivorceddivorcedsingledivorcedsinglesinglemarriedmarriedmarriedsinglesinglemarriedsinglemarriedmarriedmarriedsinglemarrieddivorcedsinglemarrieddivorcedmarriedmarriedmarriedmarrieddivorcedsinglesinglemarriedsinglesinglemarrieddivorcedmarrieddivorcedmarriedmarriedsinglemarriedmarriedmarriedmarriedsingledivorceddivorcedmarriedsinglemarriedmarriedsinglemarriedmarriedmarriedsinglesinglesinglemarriedmarriedmarriedmarriedsingledivorcedmarriedmarriedsinglesinglesinglesinglesinglemarriedmarriedmarriedmarriedsinglemarriedmarrieddivorcedsinglemarriedmarriedmarriedmarriedmarriedmarriedmarriedmarriedsinglesingledivorcedmarriedmarriedsinglemarrieddivorcedsinglemarriedmarriedsingledivorceddivorcedsinglesinglesinglesinglemarriedmarriedmarriedsinglemarriedmarrieddivorcedmarriedsinglemarriedmarriedmarriedmarriedmarriedsinglemarrieddivorcedmarriedmarrieddivorcedsinglesinglemarriedsinglesinglesinglesinglemarriedsinglesingledivorcedmarriedmarriedmarriedmarriedsinglemarriedsinglemarriedmarrieddivorcedsinglesinglemarriedmarriedmarrieddivorcedsinglesinglesinglesinglesingledivorcedsinglemarriedmarriedmarriedmarriedmarriedmarriedsinglesinglesinglemarriedmarriedsinglesinglemarriedsinglesinglemarriedmarrieddivorcedmarriedmarriedmarriedsingledivorceddivorcedmarriedsinglesinglemarriedmarriedmarriedmarriedsinglesinglesinglemarriedmarriedmarriedsinglesinglesinglemarriedmarriedmarriedmarriedsinglemarriedmarriedsingledivorceddivorceddivorcedmarriedmarrieddivorcedsinglemarriedmarriedsinglesinglemarriedmarriedsinglemarriedmarriedmarriedmarriedmarrieddivorcedmarriedsinglesinglesinglemarriedsinglesinglemarrieddivorceddivorceddivorcedsinglesinglesinglemarriedsinglesinglemarriedmarrieddivorcedmarriedsingledivorcedmarriedsinglesinglemarriedmarriedmarriedsinglemarriedsinglesinglesingledivorcedsingledivorcedmarriedsinglesinglemarriedsinglemarriedsinglemarriedmarriedsinglemarriedsinglesinglemarrieddivorcedsinglemarriedmarriedsinglesinglesinglesinglesinglemarriedmarriedmarriedmarriedmarriedsinglesinglesinglesinglemarriedsinglemarriedsingledivorcedmarriedmarriedmarriedmarriedmarriedmarriedsinglesinglemarriedmarriedsinglemarriedsinglemarrieddivorcedsinglemarriedsingledivorcedmarrieddivorcedsinglemarriedmarriedmarriedsinglesinglemarriedsinglemarriedmarriedmarriedmarriedsinglemarrieddivorcedmarriedsinglemarriedmarriedmarriedmarriedsinglesinglemarriedmarriedmarriedmarriedsinglemarriedsinglesinglemarriedsinglemarriedmarriedmarriedsinglesinglesinglemarriedmarriedmarriedsinglemarriedsinglesinglesinglesinglesinglesinglesinglemarrieddivorcedsinglemarrieddivorcedmarriedsingledivorcedmarriedsinglesinglesinglemarriedmarriedmarriedmarriedsinglemarriedmarriedmarriedsinglemarriedmarriedsinglesinglemarriedsinglemarriedsinglemarriedsinglemarriedsinglemarriedsinglemarriedmarriedmarriedsinglesinglemarriedmarriedsinglesinglesinglesinglemarriedmarrieddivorceddivorcedmarriedmarrieddivorcedsinglemarrieddivorcedmarriedmarriedmarriedsinglesingledivorceddivorcedmarriedsinglesinglesinglemarrieddivorceddivorcedsinglesinglesinglemarriedmarriedmarriedsinglemarriedsingledivorcedmarriedsingledivorcedsinglemarriedmarriedmarriedmarrieddivorceddivorcedmarriedsinglesinglesinglemarriedmarriedmarrieddivorcedmarriedsinglesinglemarriedsinglemarriedmarriedsinglemarriedmarriedmarriedmarriedsingledivorcedmarriedsinglemarrieddivorcedsinglesinglesinglesinglesingledivorceddivorcedmarriedsinglemarrieddivorcedmarriedmarriedmarriedmarriedmarriedmarriedmarriedmarriedmarriedmarrieddivorcedsingledivorcedmarriedmarriedmarriedmarriedsinglemarriedmarrieddivorcedsinglesinglesinglemarriedmarriedsinglesinglemarrieddivorcedsinglemarriedsinglemarriedsinglesinglesinglemarriedsinglesinglemarriedmarriedsinglemarriedmarriedmarriedsinglemarriedmarriedmarriedmarriedmarriedmarriedsinglemarriedmarriedmarriedmarriedsinglesinglesinglesinglemarriedmarriedsinglesinglemarriedsinglemarriedsinglesinglesinglesinglemarriedmarriedsingledivorcedsinglemarriedmarriedsingledivorcedmarriedmarriedmarriedmarriedsinglemarriedmarriedsinglesinglemarriedmarriedmarriedmarriedmarriedmarriedmarriedmarriedsinglemarriedsinglesinglesinglesinglemarriedmarriedsinglemarriedsinglesinglemarriedsinglemarriedmarriedsingledivorcedsinglemarriedmarriedmarriedmarriedmarriedsinglesinglesinglesinglesinglemarriedmarriedsinglesinglemarriedsinglemarrieddivorcedsinglesinglesinglesinglesinglemarriedmarriedmarriedsingledivorcedmarriedmarriedsinglesinglesinglemarriedmarriedmarriedsinglesinglemarriedmarriedmarriedmarriedmarriedmarriedsinglesinglemarriedsinglesinglesinglemarriedsinglemarriedmarriedmarriedmarriedsinglesinglemarriedsinglemarriedsinglemarriedmarriedmarriedsinglesinglemarriedmarriedmarriedsinglemarriedmarriedsinglesinglemarrieddivorceddivorcedmarriedsingledivorcedsinglesinglemarriedsinglesinglemarriedsinglemarrieddivorcedmarriedsinglesinglesinglesinglesinglesinglesinglesinglemarriedmarriedmarriedmarriedsinglesingledivorcedmarriedmarriedmarrieddivorcedmarriedmarriedmarriedmarrieddivorcedmarriedsinglemarriedmarriedsinglesinglesinglemarriedsinglemarriedmarriedsinglemarrieddivorcedsinglemarriedmarriedsinglesinglesinglesinglesinglemarriedmarriedsinglemarriedmarriedmarriedmarriedmarriedmarriedsinglesinglemarrieddivorcedmarriedmarriedmarriedmarriedsinglemarriedmarriedsinglesinglesinglesinglesinglesinglesinglesinglesinglemarriedmarrieddivorcedmarriedsinglesinglesinglemarriedmarrieddivorcedsinglemarriedsinglemarriedsinglesinglemarriedsinglemarriedsinglesingledivorcedmarriedmarriedmarriedmarrieddivorcedmarriedmarriedsinglemarriedsinglesinglemarriedsinglesinglemarriedsinglesinglesinglemarriedmarriedsinglesinglesinglemarriedmarrieddivorcedsinglemarriedmarriedmarriedmarriedmarriedmarriedmarriedsinglesinglesinglemarriedmarriedsinglesinglemarriedmarriedsinglesinglemarriedsingledivorcedsinglemarriedsinglemarriedsinglesinglemarrieddivorcedsinglemarriedmarriedsinglemarriedmarriedmarriedmarriedmarrieddivorcedsinglemarriedmarriedsinglesingledivorcedmarriedmarriedmarriedmarriedsinglemarriedmarriedsinglemarriedmarrieddivorcedmarriedmarriedsinglesinglemarriedsingledivorcedsinglemarriedsinglesinglesinglemarriedsinglemarriedmarriedsinglemarriedmarrieddivorcedsinglemarriedmarriedsinglemarriedsinglesinglemarriedmarrieddivorcedmarriedmarriedmarriedmarriedsinglesinglemarriedsinglesinglemarriedsinglemarriedmarriedmarrieddivorcedmarriedmarriedmarriedmarriedsinglesinglemarriedmarriedmarrieddivorcedmarriedsinglemarriedsinglemarriedmarriedmarriedmarriedsingledivorceddivorcedmarrieddivorcedmarriedsingledivorceddivorcedmarriedsinglesinglesinglesinglemarriedsinglemarriedmarriedmarrieddivorcedsinglesinglesingledivorcedsinglesinglesinglesinglemarriedmarriedmarriedsinglesinglesingledivorcedmarriedmarriedsingledivorcedsinglesinglesinglemarriedmarriedsinglesingledivorcedmarriedmarriedmarriedsinglemarrieddivorcedsinglesingledivorcedsinglemarriedsinglesinglemarriedmarriedmarriedmarriedmarriedmarriedsinglesinglemarriedmarriedsinglemarriedsinglemarriedsinglemarriedmarriedmarriedmarriedmarriedsingledivorcedmarriedmarriedsinglemarriedsinglemarriedsingledivorcedmarriedsingledivorcedmarriedmarriedsinglemarriedmarriedsinglemarrieddivorcedsinglemarriedmarriedsinglemarrieddivorcedsinglesinglesinglesinglemarriedsinglesingledivorcedsingledivorcedsinglemarriedmarriedsinglesinglesinglemarriedmarriedsinglesinglemarriedmarriedsinglemarrieddivorcedmarriedmarriedmarriedmarrieddivorcedsinglesinglemarriedmarriedsinglemarriedmarriedsingledivorceddivorcedmarriedsinglemarriedsinglemarriedmarriedsinglemarriedsinglemarriedsinglemarriedmarriedmarriedmarriedsinglemarrieddivorcedsinglemarriedsinglemarriedmarriedsinglemarrieddivorcedsinglemarriedsinglemarrieddivorcedsinglemarriedsinglesinglesinglesinglemarriedmarriedmarriedmarriedsinglesinglesingledivorcedmarriedsinglemarriedmarriedsinglesinglemarriedmarriedmarriedmarriedsinglemarriedsinglemarriedsinglesinglesinglemarriedsinglemarriedmarriedmarriedmarriedmarriedmarriedsinglemarriedsinglemarriedsinglemarriedmarriedsinglesinglemarrieddivorcedmarriedmarriedsinglesinglemarriedmarriedsinglesingledivorcedsinglesinglesinglesingledivorcedsinglemarrieddivorcedsinglemarriedmarrieddivorcedsingledivorcedmarriedmarriedsinglesinglemarriedmarriedmarriedmarriedmarriedmarriedmarriedmarriedsingledivorcedsinglesinglemarrieddivorcedsinglesinglesinglesinglemarrieddivorcedsinglemarriedmarriedsinglemarriedmarriedsinglesinglemarriedsinglesinglemarriedmarrieddivorcedmarrieddivorcedsinglemarriedmarriedmarriedmarriedmarriedsingledivorcedmarriedmarriedmarrieddivorcedsinglemarriedsinglesinglemarrieddivorcedmarrieddivorcedsinglesinglemarriedsinglesinglemarriedmarriedmarriedsinglesinglemarriedmarriedmarriedmarriedsinglemarriedsinglemarriedsinglemarriedsinglemarriedsinglemarriedsinglemarriedsingledivorcedsinglesinglemarriedsinglemarrieddivorcedsinglemarriedmarriedsinglemarriedmarriedsinglesinglesinglesinglesinglemarriedmarriedsinglesinglemarriedsinglemarriedsinglemarriedsinglemarriedsinglesingledivorcedsinglemarriedsingledivorcedmarriedmarriedmarriedmarriedmarriedmarriedmarriedmarrieddivorcedsinglesinglemarriedsinglesinglemarrieddivorcedmarriedsingledivorcedmarriedsinglesinglesinglemarriedmarrieddivorcedmarriedmarriedsinglesinglemarriedmarriedmarrieddivorcedsinglemarriedmarriedmarriedmarrieddivorcedmarriedmarrieddivorcedsinglesinglemarriedsinglemarriedmarriedmarriedsinglesingledivorcedmarriedmarriedmarriedmarriedmarriedsinglemarriedsinglemarriedmarriedmarriedmarriedsinglemarriedmarriedmarriedmarriedsinglesinglesinglemarriedmarriedsinglemarriedmarriedsinglemarriedsinglemarriedmarriedmarriedmarriedmarrieddivorcedmarriedmarriedmarriedmarriedsingledivorcedmarriedmarriedsinglesinglesinglemarriedsingledivorcedsinglesingledivorcedmarriedmarriedsinglemarriedmarriedsinglemarriedmarriedsingledivorceddivorcedmarrieddivorcedsinglesinglesinglemarriedmarriedsinglemarriedsinglemarrieddivorcedmarriedmarriedsinglemarrieddivorcedmarriedmarriedsinglesingledivorcedmarrieddivorcedsinglesingledivorcedmarriedmarriedsinglemarriedsinglemarriedsinglemarrieddivorcedsingledivorcedsingledivorcedsinglesinglemarriedmarriedmarriedmarriedsinglemarriedmarriedmarriedmarriedmarriedmarriedmarriedsinglemarriedsingledivorcedsinglemarriedsinglemarrieddivorcedsinglesinglemarrieddivorcedmarriedmarriedsingledivorcedmarriedmarriedsinglesinglesinglesinglemarriedsinglemarriedmarriedmarriedsinglemarriedmarriedmarriedmarriedmarrieddivorcedmarriedmarriedmarriedmarriedsinglemarrieddivorcedsinglesingledivorcedsinglesinglemarrieddivorcedmarriedmarriedmarriedsinglemarrieddivorcedmarriedsinglemarriedmarriedmarriedsinglemarriedmarriedmarriedsinglemarriedmarriedmarriedmarriedmarriedsinglemarriedmarriedmarriedsinglesinglemarrieddivorcedmarriedmarriedsinglemarriedsinglesinglesinglemarriedsinglemarriedsinglesinglesinglesinglemarriedsinglemarrieddivorcedsinglesinglesingledivorcedsinglemarriedmarriedmarriedmarriedsingledivorceddivorcedmarriedsingledivorcedmarriedmarriedmarriedmarriedsinglemarriedmarriedsinglemarrieddivorcedmarriedsinglemarriedsingledivorcedsinglemarriedsinglesinglemarriedsingledivorcedmarriedsinglemarriedmarriedsinglemarriedsingledivorcedmarriedmarriedsinglemarriedsinglesingledivorcedsingledivorcedmarriedsingledivorcedsinglemarriedmarriedmarriedsinglesinglesinglemarriedsingledivorcedmarriedmarriedsinglemarriedsinglesinglemarriedsinglemarriedmarriedmarriedmarriedsinglesinglemarriedsinglesinglesinglemarriedmarrieddivorcedmarriedmarrieddivorcedmarriedsinglemarriedsinglemarriedsinglemarrieddivorcedsinglemarrieddivorcedsinglemarriedsinglemarriedmarriedmarriedsinglemarriedsinglesinglesinglesinglemarriedsinglemarriedmarrieddivorceddivorcedmarriedmarriedmarrieddivorcedsingledivorcedmarriedsinglemarriedmarriedsingledivorcedsingledivorcedmarrieddivorcedsinglemarriedmarriedsinglemarriedsingledivorcedsinglesinglemarriedsinglemarriedsinglesinglesinglesingledivorcedmarriedsinglemarriedsinglemarriedunknownmarriedmarriedsingledivorcedmarriedmarriedmarriedmarriedsinglesinglesinglemarrieddivorcedsinglesingledivorcedsinglemarriedmarriedmarrieddivorcedmarriedmarriedsinglesingledivorcedmarriedsinglemarrieddivorcedmarriedsinglemarriedmarriedmarriedmarriedsingledivorcedsinglemarrieddivorcedmarriedsingledivorcedmarriedmarriedsinglemarriedmarriedmarriedsinglemarriedsingledivorcedsinglemarriedmarriedsinglesinglesingledivorcedmarriedsinglemarriedmarriedmarriedmarriedmarriedmarriedsinglemarrieddivorceddivorcedmarriedsinglemarrieddivorcedmarriedmarriedsinglemarriedsinglemarrieddivorcedmarrieddivorcedmarriedsingledivorcedmarrieddivorcedmarriedsinglemarriedmarrieddivorcedmarriedmarriedmarriedsingledivorcedsingledivorceddivorcedmarriedsinglesinglemarriedmarriedsinglesinglesinglemarriedsinglemarrieddivorcedsinglemarriedsinglemarriedmarriedmarrieddivorcedmarriedsingledivorceddivorcedsinglemarriedmarriedsingledivorceddivorcedmarriedsinglesinglesinglemarriedmarriedmarriedsingledivorcedmarriedmarriedmarrieddivorcedsinglemarriedmarriedsinglemarriedmarriedmarriedmarriedmarriedmarriedmarriedmarriedmarriedmarrieddivorcedsinglesingledivorcedsinglemarriedmarrieddivorcedsinglesinglesinglesinglemarriedsinglemarriedmarriedsinglemarriedsinglemarriedsinglemarriedmarriedsinglesinglemarriedmarriedmarriedmarriedmarriedsinglemarriedsingledivorcedmarriedunknownsinglemarriedmarriedsingledivorcedsingledivorcedsinglemarriedmarrieddivorcedmarriedsingledivorcedmarriedsinglesinglemarriedsingledivorcedmarriedsinglemarriedsinglesinglemarriedsinglesinglesinglemarriedmarriedmarriedsinglemarriedmarriedsinglemarrieddivorcedsinglemarriedmarriedmarriedmarriedmarriedsinglemarriedmarriedsinglesinglesinglemarriedmarriedmarriedsingledivorcedmarriedsinglemarriedmarriedmarriedsinglemarriedmarriedsingledivorcedmarriedmarriedmarriedmarriedmarriedmarriedmarriedmarriedmarrieddivorcedsinglesinglemarriedsingledivorcedmarrieddivorcedsinglesinglemarriedmarriedmarriedmarriedsinglemarriedsinglemarriedmarriedmarriedmarriedsingledivorcedmarriedmarriedmarrieddivorcedsinglesingledivorcedmarriedmarriedmarriedmarriedsinglemarrieddivorcedsinglemarriedsinglemarriedmarriedmarrieddivorcedmarriedsinglesinglesinglesinglemarriedmarriedmarriedmarriedmarriedsinglesingledivorcedmarriedsinglemarriedmarriedmarriedmarriedmarrieddivorceddivorcedmarriedsinglesinglesingledivorcedsinglemarriedmarriedmarriedsingledivorcedmarriedmarriedsinglesinglemarriedmarriedsinglesinglemarriedsinglemarriedmarriedmarriedmarriedmarriedmarriedsingledivorcedmarriedsinglesinglesingledivorcedsinglesinglesinglesinglemarriedsingledivorcedsingledivorcedmarriedmarriedmarriedmarriedmarriedmarriedsinglemarriedmarriedmarrieddivorcedsinglesinglemarriedmarriedmarriedmarriedmarriedsinglesinglesinglemarriedmarriedmarriedsinglemarriedmarriedmarriedmarriedsinglesinglemarriedsinglesingledivorcedsinglemarriedmarriedsinglemarriedmarriedsinglesinglemarriedsinglesinglesinglemarriedmarriedmarriedmarriedmarrieddivorcedsinglemarriedmarriedmarrieddivorcedsinglemarrieddivorcedmarriedmarriedsinglemarriedmarriedsinglesinglemarriedmarrieddivorcedmarriedsinglemarriedsinglemarriedmarriedmarriedmarriedmarriedmarriedmarriedmarriedsinglesinglemarriedsinglemarriedsinglemarrieddivorcedmarriedmarriedmarriedsinglemarriedmarriedmarriedmarriedsinglesinglemarrieddivorcedmarriedmarriedsinglesinglemarriedsinglesinglemarriedmarriedsinglemarrieddivorcedsinglemarriedsinglesinglemarriedmarriedsinglesingledivorceddivorcedmarriedmarriedsinglemarriedsinglesinglemarriedmarriedsingledivorcedmarrieddivorcedsinglemarrieddivorcedmarriedsinglemarriedsinglemarriedmarriedmarriedsinglemarriedmarriedmarriedmarrieddivorcedsinglemarriedsinglesinglesinglemarriedmarrieddivorcedmarriedmarriedmarrieddivorcedmarriedsinglemarriedmarriedmarriedmarriedsinglemarriedsinglemarriedsinglemarriedmarriedsinglemarriedmarrieddivorceddivorcedsingledivorcedsinglesinglemarriedsinglemarriedmarriedmarriedmarrieddivorcedsinglemarrieddivorcedmarriedmarriedmarriedmarriedmarriedmarriedmarriedmarriedmarriedsinglesinglemarriedsinglemarrieddivorcedsinglesinglemarriedmarriedsinglemarriedsinglesinglesinglesinglemarriedmarriedsingledivorcedmarriedsinglesinglemarrieddivorcedmarriedmarrieddivorcedmarrieddivorcedsinglesinglesinglemarrieddivorcedsinglesinglemarrieddivorcedmarriedsinglemarriedsinglemarriedsinglesinglemarriedmarriedsinglesinglemarrieddivorcedsingledivorcedmarriedsingledivorcedmarriedsinglemarrieddivorceddivorcedsinglesinglemarriedmarriedsinglemarriedmarriedmarriedsinglemarriedmarriedsinglesinglesinglemarriedsinglemarrieddivorceddivorcedmarriedsinglesinglesinglemarriedsinglesinglesinglemarriedsinglemarriedmarrieddivorcedmarriedsinglesingledivorcedmarrieddivorcedsinglesinglemarriedmarriedsinglemarriedsinglesinglesinglemarriedsinglesinglemarriedmarriedmarriedmarrieddivorcedmarriedmarriedmarriedmarriedsinglesinglesinglesinglesinglesinglemarriedmarriedmarriedsinglemarriedmarrieddivorceddivorcedmarriedmarriedmarriedsinglesingledivorcedmarriedmarriedsinglemarriedmarriedsinglesinglemarriedmarriedsinglemarriedmarriedsinglemarriedmarriedsinglesinglemarriedsinglesinglesinglesinglemarrieddivorcedsinglemarriedmarriedsinglemarriedmarriedsinglesinglesinglesinglemarriedmarriedmarriedmarriedmarriedmarriedmarriedmarriedsingledivorceddivorcedmarriedsinglemarriedmarriedmarriedmarriedmarriedsinglemarriedsinglesinglesinglemarrieddivorcedsinglemarriedmarriedsinglesinglesinglemarrieddivorcedmarriedmarriedmarriedmarriedmarriedmarriedmarriedmarriedmarrieddivorceddivorcedmarriedsinglemarriedmarriedmarriedsinglesingledivorcedmarriedmarrieddivorcedmarriedmarriedmarriedmarriedsinglemarriedsinglemarriedmarriedmarriedsinglemarriedsinglemarriedmarriedmarriedsinglemarriedmarriedsingledivorcedsinglemarriedsinglesinglesinglesinglesinglesingledivorcedsinglemarriedmarriedsinglemarriedsinglemarriedsinglesingledivorcedsinglemarrieddivorceddivorcedmarrieddivorceddivorcedsinglemarriedmarriedmarriedmarriedsinglemarriedsinglesinglesinglemarriedmarriedmarriedsinglesinglemarriedmarriedsinglemarriedmarriedsingleunknownmarriedsinglemarriedmarriedsinglesinglesinglesinglemarriedmarriedmarriedsinglemarriedmarriedmarriedmarrieddivorcedmarriedmarrieddivorceddivorcedmarriedmarriedsinglesinglemarriedsinglemarriedsinglesinglemarriedsinglemarriedsinglemarriedmarriedmarrieddivorceddivorcedsinglemarrieddivorcedmarriedmarriedmarriedsinglemarrieddivorcedsinglesingledivorcedmarrieddivorcedmarriedmarriedsinglemarriedmarrieddivorcedsingledivorcedmarriedmarriedsinglemarriedmarriedmarriedsingledivorcedsinglemarrieddivorcedsinglemarriedmarriedmarriedmarriedmarriedmarrieddivorcedsinglesinglemarriedmarriedsinglesinglesinglemarriedmarriedmarriedmarriedmarriedmarriedmarriedmarriedmarrieddivorcedsinglesinglemarriedsinglemarriedsinglemarriedmarriedmarriedsinglesinglemarriedsinglemarriedmarriedsinglemarriedmarriedmarriedmarriedmarriedmarriedsinglemarriedsinglemarrieddivorcedmarriedmarriedmarrieddivorcedsinglemarriedmarriedmarriedsinglesinglesinglesingledivorcedsinglemarriedsinglesinglesinglesinglemarriedsinglemarriedmarriedsingledivorcedmarriedmarriedmarriedmarriedsinglemarriedmarriedmarriedmarriedmarriedsinglesinglesinglemarriedmarriedsinglemarriedmarriedmarriedsinglemarrieddivorcedmarrieddivorcedmarrieddivorcedmarriedsinglesinglemarriedmarriedsinglemarriedmarriedmarrieddivorcedmarriedsinglemarriedmarriedmarriedmarriedmarriedmarrieddivorcedsinglemarriedmarriedmarriedmarrieddivorcedmarriedmarriedmarriedsinglesingledivorcedsinglesinglesingledivorcedmarrieddivorcedmarriedmarriedmarriedsingledivorceddivorcedmarriedmarriedmarriedmarrieddivorcedsinglemarriedsinglesinglemarriedmarriedsinglemarriedmarriedmarriedsinglemarriedsinglemarriedmarriedmarriedmarriedmarriedsinglesinglesingledivorcedmarriedsinglemarriedmarriedsinglemarriedsinglesinglemarrieddivorceddivorcedsinglemarriedmarriedsinglemarriedsinglemarriedmarriedsinglemarriedmarriedmarriedmarrieddivorcedsinglemarriedmarriedsinglesinglesinglemarriedmarrieddivorcedmarriedmarriedmarriedmarriedsingledivorcedmarriedsinglesinglesinglesinglemarriedmarriedmarriedmarriedmarriedmarriedsingledivorcedsinglesinglemarriedmarriedsinglesinglesinglesinglemarrieddivorcedmarriedsinglemarriedmarriedsinglemarrieddivorcedsinglemarriedsinglemarriedmarriedsinglemarrieddivorcedsinglemarriedsinglemarrieddivorcedmarriedsinglemarriedsinglemarriedsingledivorcedsinglemarriedmarriedsinglemarriedsinglemarrieddivorceddivorcedmarriedmarriedsinglemarriedsinglesinglesinglemarrieddivorcedmarriedsinglemarriedsinglesinglemarriedsinglemarrieddivorcedsinglemarriedsinglemarriedsinglesinglemarrieddivorcedmarrieddivorcedmarriedmarrieddivorceddivorceddivorcedsinglemarriedsinglesinglemarrieddivorcedmarriedmarriedsinglemarriedmarriedsinglemarriedsinglemarriedmarriedmarriedsinglemarriedmarriedmarriedmarriedmarriedmarrieddivorcedmarriedmarriedmarriedsinglesinglesinglemarriedmarriedsinglemarriedsingledivorcedmarriedmarriedsinglemarriedmarriedmarriedsinglemarriedmarriedmarriedmarriedsinglemarriedmarriedsinglemarriedsinglesinglesinglesinglemarriedmarriedmarriedmarriedmarriedmarriedmarriedmarriedmarriedmarriedmarriedsinglemarriedsingledivorceddivorceddivorceddivorcedsinglesinglemarriedmarriedsinglesinglemarriedsinglemarriedmarrieddivorcedmarriedmarriedmarrieddivorcedsinglesingledivorceddivorcedsinglemarriedsinglesinglesinglemarriedmarriedsinglemarriedmarriedsingledivorcedsinglemarriedsinglemarriedmarriedsinglesinglesinglemarriedmarrieddivorcedmarriedsingledivorceddivorcedsinglemarriedsinglesingledivorceddivorcedmarriedsinglesinglesinglesinglemarrieddivorcedsinglemarriedsinglemarriedsinglemarriedmarriedsinglemarriedmarriedmarriedsinglesinglesinglesinglesinglemarriedmarriedsinglemarriedmarriedsinglemarriedmarriedsinglemarrieddivorcedsinglemarriedsinglemarriedsinglesinglesinglesinglesinglesinglemarriedmarriedsinglemarriedsinglemarriedsinglesinglemarriedmarriedmarriedmarriedmarriedsinglesinglesinglesinglesinglemarriedmarriedmarrieddivorcedmarriedsingledivorcedsinglesinglesinglesinglemarriedsinglemarriedmarriedmarriedmarriedsingledivorcedmarriedsinglesinglesinglemarriedmarrieddivorcedmarriedsinglesinglemarriedsinglemarriedsinglesinglesinglesingledivorcedsingledivorcedmarriedsinglemarriedsinglemarrieddivorceddivorcedmarriedmarrieddivorcedmarriedmarriedsinglesinglesinglemarrieddivorcedsinglesinglemarriedsinglemarriedsingledivorcedmarriedmarriedsinglesinglemarriedmarriedsinglemarriedsinglemarrieddivorcedmarriedmarrieddivorcedmarrieddivorcedsinglemarriedsingledivorcedsinglemarriedsinglesinglemarriedsinglemarriedmarriedsinglesingledivorceddivorcedmarriedmarriedsinglemarriedmarriedmarriedmarriedsinglemarriedmarriedmarriedmarriedmarriedsinglesinglesinglemarriedsingledivorcedmarriedmarriedmarriedsingledivorcedmarriedsinglesinglemarriedmarrieddivorcedmarriedsinglemarriedmarriedsinglemarriedmarriedsinglemarriedsinglemarriedsinglesinglemarriedsinglemarriedmarriedmarriedsinglesinglemarriedmarriedmarriedmarriedmarriedmarriedsinglemarriedmarriedmarriedmarriedsinglemarriedmarriedmarriedmarriedmarriedsinglesingledivorcedsinglemarriedmarriedmarriedmarriedmarriedmarriedmarriedsinglemarriedmarrieddivorcedsinglemarriedmarriedsingledivorcedmarriedmarriedmarriedmarriedmarriedsinglesingledivorcedmarriedsingledivorcedsingledivorcedmarriedsinglesinglesingledivorcedmarriedsinglemarriedsinglemarriedmarriedmarrieddivorcedsinglesinglesinglemarriedsinglesinglemarrieddivorcedmarriedmarriedmarriedsingledivorcedsinglesingledivorcedmarriedmarriedsinglemarrieddivorcedsinglemarriedmarriedsinglesinglemarriedmarriedmarriedmarriedsinglemarriedmarriedsinglesinglemarriedmarriedsinglesinglemarriedsinglemarriedmarriedmarriedmarriedsinglesingledivorcedsinglesinglesinglesinglesinglesinglesinglemarriedsinglemarriedsinglemarriedsingledivorceddivorcedmarriedmarriedmarriedmarriedmarriedsinglesinglesinglemarrieddivorcedsinglemarriedmarrieddivorcedsinglesinglemarriedmarriedmarriedsinglemarriedmarriedsinglesinglemarriedsingledivorcedmarriedmarrieddivorcedmarrieddivorceddivorcedmarriedmarriedsinglemarriedmarriedsinglemarriedmarriedsinglemarriedmarriedsinglesingledivorcedsinglemarriedsinglemarriedmarriedmarriedmarriedsinglemarriedsinglesinglesinglemarrieddivorcedmarriedsinglesinglesinglesinglemarriedsinglemarriedmarriedsinglemarriedsinglemarriedmarriedsinglemarriedsinglemarrieddivorcedsinglemarrieddivorceddivorcedsinglesinglemarriedsinglesinglemarriedsinglemarriedsinglesinglemarriedsinglemarriedmarriedsinglemarriedmarriedsinglemarriedmarriedmarriedsingledivorcedsinglemarrieddivorcedsinglesinglemarriedsinglesinglemarriedsinglemarriedsinglemarriedmarriedmarriedsinglesingledivorceddivorcedsinglemarriedmarriedsinglesinglemarriedmarrieddivorceddivorcedmarriedmarriedmarriedsinglemarriedmarriedsinglesinglesinglemarriedmarriedsinglesinglemarriedsinglemarriedsinglemarriedsingledivorcedmarriedsinglesinglesinglemarrieddivorcedsinglesingledivorcedsinglesinglemarriedsinglemarriedsinglemarriedmarriedmarriedmarriedsingledivorcedmarriedsinglesinglesinglesinglemarriedsinglemarriedsinglesinglemarriedsinglemarriedmarriedmarriedmarriedmarriedmarriedsinglesinglesinglesingledivorcedsinglemarriedsinglesinglesinglemarriedmarriedmarriedsinglesinglesingledivorceddivorcedsinglemarriedsinglesinglemarrieddivorcedsingledivorcedsinglemarrieddivorcedmarriedsinglesinglesinglesinglesinglesinglemarriedmarriedmarriedmarriedsinglemarriedmarriedsinglesingledivorcedmarriedmarriedsinglemarriedmarriedmarriedmarriedmarriedmarriedmarriedmarrieddivorcedmarriedmarriedmarriedmarriedmarriedsinglemarrieddivorcedsinglemarriedsinglesinglemarriedsinglesinglesingledivorcedsinglemarriedmarriedmarriedsinglemarriedmarriedsinglemarriedmarriedmarriedmarriedmarriedmarriedsingledivorcedmarriedsinglemarriedmarriedmarriedmarriedmarriedmarriedmarriedmarrieddivorcedmarriedmarriedsinglemarriedsinglemarriedmarriedmarriedsinglesinglemarriedmarriedmarriedmarriedsingledivorcedmarriedmarriedmarriedmarriedsinglesinglemarriedmarriedmarriedmarriedsinglemarriedmarriedmarriedmarrieddivorcedmarriedmarriedmarriedsinglesingledivorcedmarrieddivorcedsingledivorcedmarrieddivorcedmarriedmarriedsinglemarriedmarriedmarriedsinglesingledivorcedsinglemarriedmarriedsinglemarriedmarriedmarrieddivorcedsinglemarriedmarriedmarriedmarriedmarriedsinglesinglemarriedmarriedsinglemarriedmarriedmarriedmarrieddivorcedmarriedsinglesinglemarriedmarriedmarriedmarriedmarrieddivorcedmarriedsingledivorcedmarriedsinglesinglesinglemarriedmarriedmarriedsinglemarrieddivorcedmarriedsinglesinglesinglemarrieddivorceddivorcedsingledivorcedmarriedsinglesinglesingledivorceddivorcedsinglesinglemarriedsinglesingledivorcedsinglesinglesinglemarriedmarriedsinglemarriedmarriedmarriedsinglemarriedsinglemarriedsinglemarriedsinglesinglesinglesinglesingledivorcedsinglemarriedsinglemarriedmarriedmarriedmarriedsinglemarrieddivorcedsinglesinglesinglesinglesinglesinglesinglesinglesinglesinglesinglemarrieddivorcedmarriedsinglemarriedmarriedsinglemarrieddivorcedmarriedsinglesinglemarriedmarriedmarriedmarrieddivorcedsingledivorcedsinglemarrieddivorcedsinglemarriedmarriedsinglemarriedsinglesinglesinglesingledivorcedsinglemarriedmarriedmarriedmarriedmarriedmarriedmarriedmarrieddivorcedmarrieddivorcedmarriedsingledivorceddivorcedmarriedmarrieddivorcedmarriedmarriedsinglesinglemarriedmarriedsinglesinglesinglemarriedmarriedmarriedmarriedmarriedsinglesinglemarriedmarriedmarriedmarriedmarriedmarriedsinglemarriedsingledivorcedmarriedsinglesingleunknownmarriedmarriedmarriedsinglesinglemarriedmarriedmarrieddivorcedmarriedmarrieddivorcedmarriedsinglemarriedsinglemarriedsinglemarriedsinglesinglemarriedsinglesinglemarriedsingledivorcedsinglemarrieddivorcedmarriedmarriedmarriedsinglemarriedsingledivorcedmarriedmarriedmarriedsinglemarriedmarriedsinglemarriedmarrieddivorceddivorcedsingledivorcedsinglemarrieddivorcedmarriedmarriedmarrieddivorcedmarrieddivorcedsinglesinglesinglemarriedmarriedmarriedmarriedmarriedmarriedmarriedmarriedmarriedmarriedsinglesinglemarriedmarrieddivorceddivorcedsinglesinglemarriedmarriedsingledivorcedmarriedsinglemarriedmarriedsinglesinglemarriedmarriedmarriedmarriedsingledivorcedmarriedsinglesinglemarriedmarriedmarriedmarriedsinglemarriedsinglemarriedmarriedunknownmarrieddivorcedsinglesinglesingledivorcedmarriedsinglemarriedmarriedsinglesinglesinglesinglemarriedsinglemarriedsinglemarriedsinglemarriedmarriedsingledivorceddivorcedmarriedmarriedmarriedsinglemarriedmarriedsinglemarriedmarriedmarriedsinglemarriedsinglesinglesinglesinglesinglesinglemarriedmarriedsinglemarriedmarriedmarriedmarriedmarriedmarriedmarriedmarriedsinglemarriedsinglemarriedmarriedmarriedmarriedmarriedsinglesinglemarriedmarriedsinglemarriedmarrieddivorcedsinglemarriedsinglesinglesinglesinglesinglemarriedsinglemarriedmarriedmarriedsinglemarriedmarriedmarriedmarrieddivorcedmarriedsinglemarriedmarriedmarriedmarrieddivorcedunknownsinglemarriedmarriedmarriedmarriedsinglemarriedmarriedmarriedmarriedmarriedmarriedmarrieddivorcedmarriedsinglemarrieddivorcedmarriedsinglesinglemarriedsinglemarrieddivorcedmarriedmarriedsinglesinglemarriedsinglesinglemarriedsinglesinglesinglemarriedmarriedmarrieddivorcedmarriedsinglemarriedsinglesinglemarriedsinglemarriedmarrieddivorcedsinglemarriedmarriedsingledivorcedmarriedmarriedmarriedsinglemarriedsinglemarriedsinglemarriedmarrieddivorcedmarriedsingledivorcedsinglesingledivorceddivorcedmarriedmarriedmarriedmarrieddivorcedmarriedmarriedsinglemarriedsinglemarriedsinglesinglesinglemarriedsinglemarriedsinglemarriedsinglesinglemarriedmarriedmarriedmarriedsinglemarriedmarrieddivorcedsinglemarriedmarrieddivorcedmarriedmarrieddivorceddivorcedmarriedsingledivorceddivorcedmarriedsingledivorcedmarrieddivorcedsinglesinglesingledivorceddivorcedsinglesinglemarriedmarriedmarriedsinglemarriedmarrieddivorcedmarrieddivorcedsinglesinglesinglesinglemarriedsinglesinglesinglemarriedmarriedsinglesinglesingledivorcedmarriedmarriedmarrieddivorcedsinglemarriedsinglemarriedsinglesinglesinglesinglesinglesinglemarriedsinglemarriedsinglesinglesingledivorcedsinglemarriedmarriedsinglesinglemarrieddivorcedsinglesinglesinglemarriedsinglemarriedsinglemarriedmarriedsinglemarriedsinglesinglemarriedsinglemarrieddivorcedmarriedmarriedmarriedsinglesinglemarrieddivorceddivorcedsingledivorcedmarriedmarriedsinglemarrieddivorcedsinglemarrieddivorcedmarriedmarrieddivorcedmarriedmarriedmarriedsinglemarrieddivorcedmarriedmarriedmarriedsingledivorcedsinglemarriedmarriedsinglemarriedsinglesinglesinglemarriedsinglesinglemarrieddivorcedsinglemarriedsinglemarriedmarriedmarriedmarriedmarriedmarriedmarriedsinglemarriedsinglesinglemarriedmarriedsinglemarriedsinglemarriedmarriedsinglemarriedsinglesingledivorceddivorcedmarriedmarriedsinglesinglesinglemarriedmarriedmarriedsinglemarriedmarriedsinglesinglesingledivorcedmarriedsinglesinglemarrieddivorcedmarriedmarriedsingledivorcedmarriedsinglesinglemarrieddivorcedmarrieddivorcedsinglemarriedmarriedmarriedsinglesinglemarriedsinglemarriedsinglemarrieddivorcedsinglesinglemarriedmarriedmarriedmarriedsinglesinglesinglesinglesinglemarriedmarriedsingledivorcedmarrieddivorcedmarriedsinglesinglesinglemarriedsinglesinglesingledivorceddivorcedmarriedsinglemarrieddivorcedmarriedmarriedmarriedmarriedsingledivorcedsinglemarriedmarriedsinglemarriedmarriedmarriedsinglemarriedmarriedmarriedmarriedmarriedmarriedmarriedmarriedsinglemarriedsingledivorcedsinglemarriedmarrieddivorcedmarriedsinglemarriedmarriedmarriedsinglemarrieddivorcedmarriedsinglesinglemarriedmarriedmarriedmarrieddivorcedsinglemarriedmarriedmarriedmarriedsinglemarriedmarriedsinglesinglesinglesinglemarriedmarriedmarriedsingledivorcedmarriedsingledivorcedsinglemarriedmarriedmarrieddivorcedmarriedmarriedsinglesinglemarrieddivorcedmarriedmarrieddivorceddivorcedmarriedmarriedmarriedsinglemarriedmarriedsinglesinglemarriedmarriedmarrieddivorcedmarriedmarriedmarriedmarriedsinglemarriedsingledivorceddivorcedmarriedmarriedmarriedsinglesinglemarriedmarriedmarriedmarriedsinglemarriedsinglesingledivorcedsingledivorcedmarriedmarriedsingledivorcedmarrieddivorcedmarriedsinglesinglemarriedsinglesinglemarriedsinglemarriedmarriedsinglemarriedsinglemarriedmarriedmarriedmarriedsinglemarriedsingledivorcedmarriedsinglesinglemarrieddivorcedsinglemarriedsingledivorceddivorceddivorcedsinglemarriedmarriedsinglesinglemarriedsinglemarriedmarriedsinglesinglesingledivorcedsinglemarriedmarriedmarriedsinglesinglesinglemarriedsinglemarriedmarrieddivorcedsinglesinglesinglemarriedmarriedmarriedsinglemarriedmarriedsinglemarriedmarriedmarrieddivorcedsinglemarrieddivorceddivorcedsingledivorcedmarriedsinglesingledivorceddivorcedmarrieddivorceddivorcedsinglemarriedsinglemarriedmarrieddivorcedmarriedmarriedmarriedsinglemarriedmarriedmarrieddivorceddivorcedsingledivorcedmarriedsinglemarriedsinglemarriedsinglemarriedmarriedsinglemarriedmarriedmarriedmarriedmarriedmarriedmarriedmarriedmarriedsinglemarriedsinglemarrieddivorcedsingledivorcedsinglemarriedunknownsingledivorcedmarriedmarriedsinglemarriedsinglesinglesinglemarriedsinglemarriedmarriedsinglesinglesinglemarriedmarrieddivorcedmarriedmarriedsinglesinglemarriedmarriedsinglemarriedmarriedsingledivorcedsinglemarriedsinglesinglemarriedmarrieddivorcedmarriedmarriedmarriedsinglemarriedsinglesinglemarriedsinglesinglemarriedmarriedsinglesinglemarriedsinglemarriedmarriedmarrieddivorceddivorcedmarriedsinglesinglemarriedmarriedmarriedmarrieddivorcedsinglemarriedmarriedsinglesinglemarriedmarrieddivorceddivorcedmarrieddivorcedsinglesinglemarriedmarriedmarriedsinglemarriedmarriedmarriedmarriedmarriedmarriedmarriedmarriedmarriedsingledivorcedsinglemarriedmarrieddivorcedsinglemarriedmarriedsinglemarriedsinglesinglesinglesingledivorcedmarriedmarriedmarriedsinglemarriedsinglemarriedmarriedsingledivorcedsinglemarrieddivorcedsinglemarriedmarriedmarriedmarrieddivorceddivorcedsinglemarriedmarriedsinglemarriedsinglemarriedsinglesinglemarriedmarriedsinglemarriedsingledivorcedsinglemarriedsinglesinglesinglesinglesinglemarriedmarriedmarriedmarriedmarriedmarriedmarriedmarriedsinglemarriedsinglesinglesinglemarriedsinglesinglesinglesinglemarriedsinglesinglemarriedsinglemarriedmarriedsinglesinglesinglemarriedsinglemarriedsinglemarriedmarriedmarriedmarriedmarriedmarriedsinglemarriedmarriedsinglemarriedsinglemarriedmarriedsinglemarriedsinglemarriedmarriedmarriedsinglesinglemarriedmarrieddivorcedmarriedmarriedmarriedmarriedsinglemarrieddivorcedsinglesinglemarriedsinglemarriedsinglesinglemarriedmarriedsinglemarriedsinglemarrieddivorcedmarriedmarriedmarriedmarriedmarriedmarriedmarrieddivorcedmarrieddivorcedmarriedmarriedmarrieddivorcedmarriedsinglemarriedsinglemarriedsinglemarriedsinglemarrieddivorceddivorcedsinglesinglesinglemarriedmarriedmarriedsinglemarriedmarrieddivorcedsinglesinglemarrieddivorcedsinglesinglesinglemarriedsinglemarrieddivorcedsingledivorceddivorcedsinglemarriedmarriedmarriedmarriedmarriedmarrieddivorcedsinglemarriedmarriedmarrieddivorceddivorcedsinglemarrieddivorcedmarriedmarriedsinglemarriedsingledivorcedsinglemarriedmarriedmarriedsinglesinglesinglemarriedmarriedsinglesinglemarriedmarriedsinglemarriedsinglesinglemarriedsinglesinglemarriedmarrieddivorcedmarriedsinglesingledivorcedsinglesinglemarriedsinglesinglesinglemarriedmarriedsinglemarriedmarrieddivorcedmarriedsinglesinglemarriedmarriedsinglesinglesinglesinglemarrieddivorcedmarrieddivorcedmarriedmarriedsingledivorcedsinglemarriedsinglesinglemarriedmarrieddivorcedsinglemarriedsinglesinglemarriedsinglemarriedmarriedsingledivorcedsinglemarriedmarriedmarriedmarriedsinglesinglesinglemarriedsinglemarriedsinglemarriedsinglemarriedsinglesinglemarriedmarriedmarriedmarriedsinglesinglesinglemarriedmarriedsinglemarriedmarriedmarriedmarriedmarriedmarriedsinglemarriedmarriedmarriedsingledivorcedmarriedmarriedmarriedmarrieddivorcedmarriedmarriedsinglemarriedmarriedmarriedsinglemarriedmarriedmarriedmarriedsinglesinglesinglemarriedsinglesinglemarriedmarriedmarriedsinglemarriedmarriedmarriedsinglesinglemarriedsinglemarriedmarriedsinglesinglemarriedmarriedmarriedsinglemarrieddivorcedmarrieddivorcedmarrieddivorceddivorcedsinglesinglemarriedmarriedmarriedsinglesinglesinglesingledivorcedmarriedmarriedmarrieddivorcedmarriedmarrieddivorcedmarriedmarrieddivorcedsinglesinglemarriedsinglesinglemarriedmarriedmarriedsinglesinglesinglemarriedmarriedmarriedsinglemarriedmarriedmarriedmarriedmarrieddivorcedmarriedmarrieddivorcedsinglesinglemarriedmarriedmarriedsinglemarriedsingledivorcedsinglesinglemarriedmarriedsinglesinglemarrieddivorcedmarriedmarriedmarriedsinglemarriedmarriedmarriedmarriedsinglemarriedmarriedsinglemarriedmarriedsinglemarriedmarriedmarrieddivorcedsinglesingledivorcedsinglemarriedmarriedmarriedsingledivorcedmarriedsinglemarriedmarriedmarriedmarriedmarriedsinglemarriedmarriedsingledivorcedmarriedsinglemarriedmarriedsinglesinglemarriedmarriedmarriedsinglesinglesinglemarriedmarriedsinglemarriedsinglemarriedmarriedsinglemarriedmarriedmarriedmarriedmarriedmarriedmarriedsinglemarriedmarriedsinglemarrieddivorcedsinglemarriedsinglemarriedmarriedmarriedmarriedsingledivorcedmarriedmarriedsinglemarriedmarriedmarriedsinglesinglesinglesinglesinglesingledivorcedmarriedmarriedmarriedsinglemarriedsinglemarriedmarriedsingledivorcedmarriedmarriedmarriedmarrieddivorceddivorcedmarriedsinglemarrieddivorcedmarriedsinglemarriedsinglemarriedmarriedsinglesinglesinglemarriedmarriedmarriedmarriedmarriedsinglemarriedsinglemarriedsinglemarriedmarriedmarriedsingledivorcedmarriedmarriedsinglesinglemarriedmarriedsingledivorcedmarrieddivorceddivorcedsinglemarrieddivorceddivorcedsinglesinglesingledivorcedsinglemarriedsinglemarriedmarrieddivorcedmarriedmarriedmarriedmarriedmarriedmarriedmarriedsinglesinglesinglesinglemarriedsinglesingledivorcedmarriedmarriedmarrieddivorceddivorceddivorcedmarrieddivorcedmarriedmarriedmarriedsinglesinglesinglesinglesinglemarriedsingledivorcedmarriedmarriedmarriedmarriedsingledivorcedmarriedmarriedmarriedsinglemarriedmarriedsinglemarriedsinglemarriedmarriedmarriedsinglesinglemarriedmarriedsingledivorcedmarriedmarriedmarrieddivorcedsinglemarrieddivorcedmarrieddivorcedsinglemarriedmarriedsinglesinglesinglemarriedmarriedsinglesinglesinglesinglesinglemarriedmarriedmarriedmarriedsinglesinglesinglemarrieddivorcedsinglesingledivorcedmarriedsinglemarriedsinglesinglemarriedsingledivorcedsinglesinglesinglemarriedsingledivorcedmarriedmarriedsinglemarriedsinglesinglemarriedmarriedsinglesinglesinglemarriedmarrieddivorcedsinglemarrieddivorcedmarriedmarrieddivorcedmarriedmarriedmarriedsinglemarriedsinglesinglemarrieddivorceddivorcedmarriedsingledivorceddivorcedsinglesinglemarriedsinglemarriedmarriedsinglesinglesingledivorceddivorcedmarriedmarriedsinglemarriedsinglemarriedmarriedmarriedsinglemarriedmarriedsingledivorcedmarriedsinglesinglemarrieddivorcedmarriedmarriedmarriedmarrieddivorcedmarrieddivorcedmarriedsinglemarriedmarriedsinglesinglesinglesinglesinglemarriedmarriedmarrieddivorcedsingledivorcedsinglemarriedmarriedmarriedsinglesinglemarriedmarriedmarriedsinglesinglemarriedmarriedmarriedsinglemarriedsinglesinglemarriedsinglesinglemarriedmarrieddivorcedmarriedmarrieddivorcedmarrieddivorcedsinglemarriedmarrieddivorcedmarriedmarrieddivorceddivorcedsinglemarriedsinglesinglemarriedmarriedmarriedsingledivorcedmarriedsingledivorcedsinglemarriedsinglemarriedsinglemarriedsinglemarriedsinglemarriedsinglesinglemarriedsinglemarriedmarriedsinglesinglemarriedmarriedmarrieddivorcedmarriedmarriedsinglesinglesinglemarriedmarriedmarriedmarriedmarriedmarriedmarriedsinglemarriedsinglemarriedsinglesinglemarriedsinglemarriedmarriedsinglemarriedsinglesingledivorcedsinglemarriedsingledivorcedmarriedmarriedmarriedsingledivorceddivorcedmarriedmarriedmarriedmarriedsinglesinglesinglemarriedmarriedsingledivorcedsinglesinglesinglesinglesinglesinglemarriedmarriedsinglemarrieddivorcedmarrieddivorcedmarriedmarrieddivorcedmarriedmarriedmarrieddivorcedmarriedmarriedsinglemarriedmarrieddivorcedsinglemarrieddivorcedsinglemarriedsinglesinglesingledivorcedmarriedmarriedmarriedmarriedmarriedmarriedsinglemarriedsinglemarriedmarriedsinglemarriedmarriedmarrieddivorcedmarriedsinglemarriedsingledivorcedmarriedsinglesinglemarriedsinglesinglemarriedsinglemarrieddivorcedmarriedsinglemarriedmarriedmarriedmarriedsinglemarriedmarriedmarriedsinglemarriedsinglesinglemarriedmarriedmarriedsinglemarriedmarriedmarriedmarriedunknownmarriedmarriedsinglesinglesinglemarriedsinglemarriedmarrieddivorcedsinglesinglesinglemarrieddivorcedmarriedmarriedmarriedsinglesinglesinglesinglemarrieddivorcedmarriedmarriedmarriedmarriedsinglemarriedsinglemarriedmarriedsinglemarriedmarriedsinglemarriedmarriedsinglesinglemarriedsinglemarriedsingledivorcedsingledivorceddivorceddivorcedsinglesinglesinglemarriedmarriedmarriedmarriedmarriedmarriedsingledivorceddivorceddivorcedmarriedmarriedsinglemarriedmarriedsinglesinglemarrieddivorcedsinglemarriedsinglesinglesinglesinglesinglesinglesinglesinglesinglemarriedsinglemarriedmarriedmarrieddivorcedsinglemarriedmarriedmarriedmarriedsingledivorcedmarriedmarriedsinglemarriedmarriedmarriedmarriedsinglemarriedsinglemarriedmarriedsinglesinglemarriedmarriedmarriedsingledivorcedmarriedmarriedsinglemarriedsinglesinglemarriedmarriedmarriedsinglemarriedsinglemarriedmarriedmarriedsinglemarriedmarriedsingledivorceddivorcedmarriedmarriedsinglemarriedmarriedsinglemarriedmarriedsinglesinglesinglesinglemarriedsinglemarriedmarriedmarriedmarriedsinglesinglesinglesinglemarrieddivorcedmarriedmarriedsingledivorcedsinglesinglesinglemarriedsinglesinglesinglemarriedmarrieddivorcedsinglemarriedsingledivorcedmarriedmarriedmarriedsinglemarrieddivorcedmarriedsinglemarriedsingledivorcedsinglemarriedmarriedmarrieddivorcedmarriedmarriedmarrieddivorcedsinglemarriedsinglemarriedmarriedsinglemarrieddivorcedsinglemarriedmarriedsinglemarriedsingledivorcedmarriedsingledivorcedsinglesinglemarriedmarriedmarriedmarriedmarriedmarriedsinglesinglemarriedmarriedsinglesinglesinglemarriedmarriedmarrieddivorcedmarriedmarriedmarriedsinglemarriedmarrieddivorcedmarriedmarriedsinglesinglemarriedmarriedmarriedsinglemarriedmarriedsinglesinglemarriedsinglesinglesinglesinglesingledivorceddivorcedmarriedmarrieddivorcedmarriedsinglesinglemarriedmarriedmarriedmarriedmarrieddivorcedsinglemarriedmarriedsinglesinglesinglemarriedmarrieddivorceddivorcedmarriedmarriedmarrieddivorcedmarriedmarriedsinglemarrieddivorcedmarriedsinglesinglemarriedmarriedsinglemarriedsinglesinglemarriedsinglesinglemarriedmarriedsingledivorcedmarriedmarriedmarriedsingledivorcedmarriedmarriedsinglemarriedmarriedmarriedmarriedmarriedmarrieddivorcedmarriedmarriedmarriedsinglesinglemarriedmarriedmarriedmarriedsinglemarrieddivorcedmarriedmarrieddivorcedsinglemarriedsinglemarriedmarriedmarrieddivorcedsinglesinglemarriedsinglemarriedsinglesinglemarriedmarriedsinglemarriedmarrieddivorcedmarriedsinglemarriedmarriedmarrieddivorceddivorceddivorcedmarriedmarriedsinglemarriedsinglesingledivorceddivorceddivorcedmarriedsingledivorcedmarriedmarriedsinglemarriedmarriedsinglemarrieddivorcedmarriedmarrieddivorcedmarriedmarriedmarriedmarriedmarriedmarriedmarriedmarriedmarriedsinglemarriedsinglesinglesinglemarriedmarriedsinglesinglesinglemarrieddivorcedsinglemarriedsinglemarrieddivorceddivorcedmarriedsingledivorcedmarriedmarrieddivorcedmarriedsinglemarriedsinglesinglemarriedsinglemarriedmarriedmarriedsinglemarrieddivorcedsinglemarriedmarriedmarriedsinglemarriedsinglemarriedsinglesinglemarriedmarriedmarriedmarriedsinglesinglesinglesinglemarriedmarrieddivorcedmarriedmarriedmarriedmarriedsingledivorceddivorcedmarriedmarriedsinglesinglemarriedmarrieddivorcedsinglemarriedmarriedsinglesinglemarriedsinglemarriedsingledivorcedsinglemarriedmarriedmarriedmarriedsinglemarriedmarriedsinglemarriedmarriedsinglemarriedmarriedsingledivorcedsinglesinglesinglesinglesinglemarriedsinglesinglemarriedsinglesinglemarriedmarriedsinglemarriedsingledivorcedmarriedsinglemarriedsinglemarriedmarriedmarriedmarriedsinglesinglemarriedmarriedmarriedmarriedmarriedsinglesinglesinglesinglemarrieddivorceddivorcedmarriedmarriedmarriedsingledivorcedmarriedmarriedsinglesinglesinglemarriedmarrieddivorcedsinglemarriedmarriedmarriedsinglesinglesinglemarrieddivorcedmarrieddivorceddivorcedsinglesinglemarriedmarriedmarrieddivorcedmarrieddivorceddivorceddivorceddivorceddivorcedmarriedmarriedsinglemarriedmarriedmarriedsinglemarriedsinglesinglesingledivorcedsingledivorcedsinglesinglesinglesinglemarriedmarriedmarriedmarriedsingleunknownmarriedmarriedmarriedsingledivorcedmarriedmarriedsinglemarriedmarrieddivorcedsinglesinglesingledivorcedsinglesinglesinglemarriedmarriedmarriedsingledivorcedmarriedsinglemarriedmarriedmarriedmarriedmarriedmarriedmarriedmarrieddivorcedmarrieddivorcedmarriedsinglesinglemarrieddivorcedsinglesinglesinglesinglesinglemarriedsinglemarriedsinglesinglesinglesinglemarriedsingledivorcedsinglemarriedmarriedmarriedsinglemarriedsinglesinglesinglemarriedsinglesinglemarriedmarrieddivorcedmarriedsinglesinglemarriedsinglesinglesinglemarriedsinglesinglemarriedsinglesinglemarriedmarriedsinglemarriedmarriedsinglemarriedsingledivorcedsinglesinglemarriedsinglesinglemarriedsinglemarriedsingledivorceddivorcedmarriedsinglesingledivorcedmarriedmarriedmarriedmarriedmarriedsinglemarriedmarriedmarriedmarriedmarriedsinglemarriedsinglemarriedmarriedsinglesinglesinglemarriedsinglesinglesinglemarriedsinglemarrieddivorcedmarriedsinglemarriedsinglemarriedmarriedsinglemarriedsinglesinglemarriedsinglesinglemarriedsinglemarriedmarriedmarriedmarriedmarriedmarriedsinglemarriedsinglemarriedmarriedsinglemarriedmarriedsinglesinglesinglesinglesinglemarriedmarriedsinglemarriedmarrieddivorcedsinglesinglemarriedmarriedmarriedmarriedmarriedmarriedmarriedmarriedmarriedmarriedsingledivorcedsinglesinglesinglemarriedsinglemarriedmarriedsinglemarriedsinglemarriedmarrieddivorcedmarriedmarriedmarriedsingledivorceddivorcedsinglemarriedsinglemarriedmarriedmarriedmarriedsinglesinglesinglemarriedsinglesingledivorcedsinglesinglesinglemarrieddivorcedmarriedmarriedmarriedmarriedmarriedsinglesinglemarriedsingledivorcedmarriedsinglemarriedsinglemarriedmarriedmarriedmarriedsinglemarriedsinglesingledivorcedmarriedmarrieddivorceddivorcedmarriedmarriedsinglesinglemarriedsinglemarriedmarriedmarriedmarriedsingledivorcedsinglemarriedmarrieddivorcedmarriedmarriedmarrieddivorcedmarriedmarriedmarriedsinglemarriedmarriedmarriedmarriedmarriedmarriedmarriedmarriedmarriedmarriedsinglesinglemarrieddivorcedsinglemarrieddivorceddivorcedmarriedmarriedmarrieddivorcedsingledivorcedsingledivorcedmarriedmarriedmarriedsinglesinglemarriedsinglemarriedmarrieddivorcedmarriedmarriedsinglemarrieddivorcedsinglemarriedmarriedmarriedsingledivorcedmarriedsinglemarriedsinglemarriedsinglemarriedsinglesinglesinglemarriedsinglemarriedmarriedmarriedsinglemarriedsinglesinglemarriedsingledivorcedmarrieddivorcedmarriedsinglemarriedsinglemarrieddivorcedsinglemarriedmarriedmarriedsinglesinglemarriedmarriedmarriedmarriedmarriedmarrieddivorcedsinglesinglesinglemarriedsinglesinglemarriedmarriedmarriedsinglesinglesinglesinglemarriedmarriedsinglemarriedmarriedmarriedmarriedsinglesinglesinglesinglesinglemarriedmarriedmarriedmarrieddivorcedmarriedmarriedmarriedsinglemarrieddivorcedmarrieddivorcedmarriedmarrieddivorcedmarriedsinglemarriedmarriedsinglesinglemarrieddivorcedmarriedmarriedmarrieddivorceddivorcedmarriedsinglemarriedsinglesinglesinglemarriedmarriedmarriedsinglesinglesingledivorcedmarriedmarriedmarriedmarriedmarrieddivorcedmarriedsinglemarriedmarriedsinglesinglesinglesinglemarriedsinglemarriedsinglesinglesingledivorcedsinglemarriedmarriedsinglemarriedsinglemarriedmarriedmarrieddivorcedmarriedmarriedmarriedsinglesinglemarriedmarriedmarriedmarriedsinglemarrieddivorcedmarriedmarriedsinglemarriedmarriedmarriedsingle' to numeric",
      "\nThe above exception was the direct cause of the following exception:\n",
      "\u001b[0;31mTypeError\u001b[0m                                 Traceback (most recent call last)",
      "Cell \u001b[0;32mIn[14], line 1\u001b[0m\n\u001b[0;32m----> 1\u001b[0m \u001b[43mdf_banking\u001b[49m\u001b[38;5;241;43m.\u001b[39;49m\u001b[43mgroupby\u001b[49m\u001b[43m(\u001b[49m\u001b[38;5;124;43m'\u001b[39;49m\u001b[38;5;124;43mjob\u001b[39;49m\u001b[38;5;124;43m'\u001b[39;49m\u001b[43m)\u001b[49m\u001b[38;5;241;43m.\u001b[39;49m\u001b[43mmean\u001b[49m\u001b[43m(\u001b[49m\u001b[43m)\u001b[49m\n",
      "File \u001b[0;32m~/.pyenv/versions/3.12.1/lib/python3.12/site-packages/pandas/core/groupby/groupby.py:2452\u001b[0m, in \u001b[0;36mGroupBy.mean\u001b[0;34m(self, numeric_only, engine, engine_kwargs)\u001b[0m\n\u001b[1;32m   2445\u001b[0m     \u001b[38;5;28;01mreturn\u001b[39;00m \u001b[38;5;28mself\u001b[39m\u001b[38;5;241m.\u001b[39m_numba_agg_general(\n\u001b[1;32m   2446\u001b[0m         grouped_mean,\n\u001b[1;32m   2447\u001b[0m         executor\u001b[38;5;241m.\u001b[39mfloat_dtype_mapping,\n\u001b[1;32m   2448\u001b[0m         engine_kwargs,\n\u001b[1;32m   2449\u001b[0m         min_periods\u001b[38;5;241m=\u001b[39m\u001b[38;5;241m0\u001b[39m,\n\u001b[1;32m   2450\u001b[0m     )\n\u001b[1;32m   2451\u001b[0m \u001b[38;5;28;01melse\u001b[39;00m:\n\u001b[0;32m-> 2452\u001b[0m     result \u001b[38;5;241m=\u001b[39m \u001b[38;5;28;43mself\u001b[39;49m\u001b[38;5;241;43m.\u001b[39;49m\u001b[43m_cython_agg_general\u001b[49m\u001b[43m(\u001b[49m\n\u001b[1;32m   2453\u001b[0m \u001b[43m        \u001b[49m\u001b[38;5;124;43m\"\u001b[39;49m\u001b[38;5;124;43mmean\u001b[39;49m\u001b[38;5;124;43m\"\u001b[39;49m\u001b[43m,\u001b[49m\n\u001b[1;32m   2454\u001b[0m \u001b[43m        \u001b[49m\u001b[43malt\u001b[49m\u001b[38;5;241;43m=\u001b[39;49m\u001b[38;5;28;43;01mlambda\u001b[39;49;00m\u001b[43m \u001b[49m\u001b[43mx\u001b[49m\u001b[43m:\u001b[49m\u001b[43m \u001b[49m\u001b[43mSeries\u001b[49m\u001b[43m(\u001b[49m\u001b[43mx\u001b[49m\u001b[43m,\u001b[49m\u001b[43m \u001b[49m\u001b[43mcopy\u001b[49m\u001b[38;5;241;43m=\u001b[39;49m\u001b[38;5;28;43;01mFalse\u001b[39;49;00m\u001b[43m)\u001b[49m\u001b[38;5;241;43m.\u001b[39;49m\u001b[43mmean\u001b[49m\u001b[43m(\u001b[49m\u001b[43mnumeric_only\u001b[49m\u001b[38;5;241;43m=\u001b[39;49m\u001b[43mnumeric_only\u001b[49m\u001b[43m)\u001b[49m\u001b[43m,\u001b[49m\n\u001b[1;32m   2455\u001b[0m \u001b[43m        \u001b[49m\u001b[43mnumeric_only\u001b[49m\u001b[38;5;241;43m=\u001b[39;49m\u001b[43mnumeric_only\u001b[49m\u001b[43m,\u001b[49m\n\u001b[1;32m   2456\u001b[0m \u001b[43m    \u001b[49m\u001b[43m)\u001b[49m\n\u001b[1;32m   2457\u001b[0m     \u001b[38;5;28;01mreturn\u001b[39;00m result\u001b[38;5;241m.\u001b[39m__finalize__(\u001b[38;5;28mself\u001b[39m\u001b[38;5;241m.\u001b[39mobj, method\u001b[38;5;241m=\u001b[39m\u001b[38;5;124m\"\u001b[39m\u001b[38;5;124mgroupby\u001b[39m\u001b[38;5;124m\"\u001b[39m)\n",
      "File \u001b[0;32m~/.pyenv/versions/3.12.1/lib/python3.12/site-packages/pandas/core/groupby/groupby.py:1998\u001b[0m, in \u001b[0;36mGroupBy._cython_agg_general\u001b[0;34m(self, how, alt, numeric_only, min_count, **kwargs)\u001b[0m\n\u001b[1;32m   1995\u001b[0m     result \u001b[38;5;241m=\u001b[39m \u001b[38;5;28mself\u001b[39m\u001b[38;5;241m.\u001b[39m_agg_py_fallback(how, values, ndim\u001b[38;5;241m=\u001b[39mdata\u001b[38;5;241m.\u001b[39mndim, alt\u001b[38;5;241m=\u001b[39malt)\n\u001b[1;32m   1996\u001b[0m     \u001b[38;5;28;01mreturn\u001b[39;00m result\n\u001b[0;32m-> 1998\u001b[0m new_mgr \u001b[38;5;241m=\u001b[39m \u001b[43mdata\u001b[49m\u001b[38;5;241;43m.\u001b[39;49m\u001b[43mgrouped_reduce\u001b[49m\u001b[43m(\u001b[49m\u001b[43marray_func\u001b[49m\u001b[43m)\u001b[49m\n\u001b[1;32m   1999\u001b[0m res \u001b[38;5;241m=\u001b[39m \u001b[38;5;28mself\u001b[39m\u001b[38;5;241m.\u001b[39m_wrap_agged_manager(new_mgr)\n\u001b[1;32m   2000\u001b[0m \u001b[38;5;28;01mif\u001b[39;00m how \u001b[38;5;129;01min\u001b[39;00m [\u001b[38;5;124m\"\u001b[39m\u001b[38;5;124midxmin\u001b[39m\u001b[38;5;124m\"\u001b[39m, \u001b[38;5;124m\"\u001b[39m\u001b[38;5;124midxmax\u001b[39m\u001b[38;5;124m\"\u001b[39m]:\n",
      "File \u001b[0;32m~/.pyenv/versions/3.12.1/lib/python3.12/site-packages/pandas/core/internals/managers.py:1470\u001b[0m, in \u001b[0;36mBlockManager.grouped_reduce\u001b[0;34m(self, func)\u001b[0m\n\u001b[1;32m   1466\u001b[0m \u001b[38;5;28;01mif\u001b[39;00m blk\u001b[38;5;241m.\u001b[39mis_object:\n\u001b[1;32m   1467\u001b[0m     \u001b[38;5;66;03m# split on object-dtype blocks bc some columns may raise\u001b[39;00m\n\u001b[1;32m   1468\u001b[0m     \u001b[38;5;66;03m#  while others do not.\u001b[39;00m\n\u001b[1;32m   1469\u001b[0m     \u001b[38;5;28;01mfor\u001b[39;00m sb \u001b[38;5;129;01min\u001b[39;00m blk\u001b[38;5;241m.\u001b[39m_split():\n\u001b[0;32m-> 1470\u001b[0m         applied \u001b[38;5;241m=\u001b[39m \u001b[43msb\u001b[49m\u001b[38;5;241;43m.\u001b[39;49m\u001b[43mapply\u001b[49m\u001b[43m(\u001b[49m\u001b[43mfunc\u001b[49m\u001b[43m)\u001b[49m\n\u001b[1;32m   1471\u001b[0m         result_blocks \u001b[38;5;241m=\u001b[39m extend_blocks(applied, result_blocks)\n\u001b[1;32m   1472\u001b[0m \u001b[38;5;28;01melse\u001b[39;00m:\n",
      "File \u001b[0;32m~/.pyenv/versions/3.12.1/lib/python3.12/site-packages/pandas/core/internals/blocks.py:393\u001b[0m, in \u001b[0;36mBlock.apply\u001b[0;34m(self, func, **kwargs)\u001b[0m\n\u001b[1;32m    387\u001b[0m \u001b[38;5;129m@final\u001b[39m\n\u001b[1;32m    388\u001b[0m \u001b[38;5;28;01mdef\u001b[39;00m \u001b[38;5;21mapply\u001b[39m(\u001b[38;5;28mself\u001b[39m, func, \u001b[38;5;241m*\u001b[39m\u001b[38;5;241m*\u001b[39mkwargs) \u001b[38;5;241m-\u001b[39m\u001b[38;5;241m>\u001b[39m \u001b[38;5;28mlist\u001b[39m[Block]:\n\u001b[1;32m    389\u001b[0m \u001b[38;5;250m    \u001b[39m\u001b[38;5;124;03m\"\"\"\u001b[39;00m\n\u001b[1;32m    390\u001b[0m \u001b[38;5;124;03m    apply the function to my values; return a block if we are not\u001b[39;00m\n\u001b[1;32m    391\u001b[0m \u001b[38;5;124;03m    one\u001b[39;00m\n\u001b[1;32m    392\u001b[0m \u001b[38;5;124;03m    \"\"\"\u001b[39;00m\n\u001b[0;32m--> 393\u001b[0m     result \u001b[38;5;241m=\u001b[39m \u001b[43mfunc\u001b[49m\u001b[43m(\u001b[49m\u001b[38;5;28;43mself\u001b[39;49m\u001b[38;5;241;43m.\u001b[39;49m\u001b[43mvalues\u001b[49m\u001b[43m,\u001b[49m\u001b[43m \u001b[49m\u001b[38;5;241;43m*\u001b[39;49m\u001b[38;5;241;43m*\u001b[39;49m\u001b[43mkwargs\u001b[49m\u001b[43m)\u001b[49m\n\u001b[1;32m    395\u001b[0m     result \u001b[38;5;241m=\u001b[39m maybe_coerce_values(result)\n\u001b[1;32m    396\u001b[0m     \u001b[38;5;28;01mreturn\u001b[39;00m \u001b[38;5;28mself\u001b[39m\u001b[38;5;241m.\u001b[39m_split_op_result(result)\n",
      "File \u001b[0;32m~/.pyenv/versions/3.12.1/lib/python3.12/site-packages/pandas/core/groupby/groupby.py:1995\u001b[0m, in \u001b[0;36mGroupBy._cython_agg_general.<locals>.array_func\u001b[0;34m(values)\u001b[0m\n\u001b[1;32m   1992\u001b[0m     \u001b[38;5;28;01mreturn\u001b[39;00m result\n\u001b[1;32m   1994\u001b[0m \u001b[38;5;28;01massert\u001b[39;00m alt \u001b[38;5;129;01mis\u001b[39;00m \u001b[38;5;129;01mnot\u001b[39;00m \u001b[38;5;28;01mNone\u001b[39;00m\n\u001b[0;32m-> 1995\u001b[0m result \u001b[38;5;241m=\u001b[39m \u001b[38;5;28;43mself\u001b[39;49m\u001b[38;5;241;43m.\u001b[39;49m\u001b[43m_agg_py_fallback\u001b[49m\u001b[43m(\u001b[49m\u001b[43mhow\u001b[49m\u001b[43m,\u001b[49m\u001b[43m \u001b[49m\u001b[43mvalues\u001b[49m\u001b[43m,\u001b[49m\u001b[43m \u001b[49m\u001b[43mndim\u001b[49m\u001b[38;5;241;43m=\u001b[39;49m\u001b[43mdata\u001b[49m\u001b[38;5;241;43m.\u001b[39;49m\u001b[43mndim\u001b[49m\u001b[43m,\u001b[49m\u001b[43m \u001b[49m\u001b[43malt\u001b[49m\u001b[38;5;241;43m=\u001b[39;49m\u001b[43malt\u001b[49m\u001b[43m)\u001b[49m\n\u001b[1;32m   1996\u001b[0m \u001b[38;5;28;01mreturn\u001b[39;00m result\n",
      "File \u001b[0;32m~/.pyenv/versions/3.12.1/lib/python3.12/site-packages/pandas/core/groupby/groupby.py:1946\u001b[0m, in \u001b[0;36mGroupBy._agg_py_fallback\u001b[0;34m(self, how, values, ndim, alt)\u001b[0m\n\u001b[1;32m   1944\u001b[0m     msg \u001b[38;5;241m=\u001b[39m \u001b[38;5;124mf\u001b[39m\u001b[38;5;124m\"\u001b[39m\u001b[38;5;124magg function failed [how->\u001b[39m\u001b[38;5;132;01m{\u001b[39;00mhow\u001b[38;5;132;01m}\u001b[39;00m\u001b[38;5;124m,dtype->\u001b[39m\u001b[38;5;132;01m{\u001b[39;00mser\u001b[38;5;241m.\u001b[39mdtype\u001b[38;5;132;01m}\u001b[39;00m\u001b[38;5;124m]\u001b[39m\u001b[38;5;124m\"\u001b[39m\n\u001b[1;32m   1945\u001b[0m     \u001b[38;5;66;03m# preserve the kind of exception that raised\u001b[39;00m\n\u001b[0;32m-> 1946\u001b[0m     \u001b[38;5;28;01mraise\u001b[39;00m \u001b[38;5;28mtype\u001b[39m(err)(msg) \u001b[38;5;28;01mfrom\u001b[39;00m \u001b[38;5;21;01merr\u001b[39;00m\n\u001b[1;32m   1948\u001b[0m \u001b[38;5;28;01mif\u001b[39;00m ser\u001b[38;5;241m.\u001b[39mdtype \u001b[38;5;241m==\u001b[39m \u001b[38;5;28mobject\u001b[39m:\n\u001b[1;32m   1949\u001b[0m     res_values \u001b[38;5;241m=\u001b[39m res_values\u001b[38;5;241m.\u001b[39mastype(\u001b[38;5;28mobject\u001b[39m, copy\u001b[38;5;241m=\u001b[39m\u001b[38;5;28;01mFalse\u001b[39;00m)\n",
      "\u001b[0;31mTypeError\u001b[0m: agg function failed [how->mean,dtype->object]"
     ]
    }
   ],
   "source": [
    "df_banking.groupby('job').mean(numeric_only=True)"
   ]
  },
  {
   "cell_type": "code",
   "execution_count": 99,
   "id": "5f7998ef",
   "metadata": {
    "colab": {
     "base_uri": "https://localhost:8080/",
     "height": 624
    },
    "executionInfo": {
     "elapsed": 796,
     "status": "ok",
     "timestamp": 1685241946801,
     "user": {
      "displayName": "Zaky Syihan",
      "userId": "05654158214121247060"
     },
     "user_tz": -420
    },
    "id": "5f7998ef",
    "outputId": "c48aa20f-9edc-46da-cdaa-0609f704773c"
   },
   "outputs": [
    {
     "data": {
      "image/png": "[encoded data removed]",
      "text/plain": [
       "<Figure size 1500x800 with 1 Axes>"
      ]
     },
     "metadata": {},
     "output_type": "display_data"
    },
    {
     "data": {
      "text/plain": [
       "<Figure size 2000x2000 with 0 Axes>"
      ]
     },
     "metadata": {},
     "output_type": "display_data"
    }
   ],
   "source": [
    "sns.countplot(x='job', data=df_banking)\n",
    "plt.figure(figsize=(20, 20))\n",
    "plt.show()"
   ]
  },
  {
   "cell_type": "markdown",
   "id": "0c43d7da",
   "metadata": {
    "id": "0c43d7da"
   },
   "source": [
    "#### Check Marital Feature"
   ]
  },
  {
   "cell_type": "code",
   "execution_count": 100,
   "id": "070432e5",
   "metadata": {
    "colab": {
     "base_uri": "https://localhost:8080/"
    },
    "executionInfo": {
     "elapsed": 403,
     "status": "ok",
     "timestamp": 1685241982695,
     "user": {
      "displayName": "Zaky Syihan",
      "userId": "05654158214121247060"
     },
     "user_tz": -420
    },
    "id": "070432e5",
    "outputId": "65f9ad24-64df-4ab4-be12-99afe2bf99e8",
    "scrolled": true
   },
   "outputs": [
    {
     "data": {
      "text/plain": [
       "array(['divorced', 'married', 'single', 'unknown'], dtype=object)"
      ]
     },
     "execution_count": 100,
     "metadata": {},
     "output_type": "execute_result"
    }
   ],
   "source": [
    "np.unique(df_banking['marital'])"
   ]
  },
  {
   "cell_type": "code",
   "execution_count": 101,
   "id": "8b4a1fa1",
   "metadata": {
    "colab": {
     "base_uri": "https://localhost:8080/",
     "height": 305
    },
    "executionInfo": {
     "elapsed": 367,
     "status": "ok",
     "timestamp": 1685241986935,
     "user": {
      "displayName": "Zaky Syihan",
      "userId": "05654158214121247060"
     },
     "user_tz": -420
    },
    "id": "8b4a1fa1",
    "outputId": "b03e3635-992d-43e1-a3bf-ed57afef638e"
   },
   "outputs": [
    {
     "data": {
      "text/html": [
       "<div>\n",
       "<style scoped>\n",
       "    .dataframe tbody tr th:only-of-type {\n",
       "        vertical-align: middle;\n",
       "    }\n",
       "\n",
       "    .dataframe tbody tr th {\n",
       "        vertical-align: top;\n",
       "    }\n",
       "\n",
       "    .dataframe thead th {\n",
       "        text-align: right;\n",
       "    }\n",
       "</style>\n",
       "<table border=\"1\" class=\"dataframe\">\n",
       "  <thead>\n",
       "    <tr style=\"text-align: right;\">\n",
       "      <th></th>\n",
       "      <th>age</th>\n",
       "      <th>duration</th>\n",
       "      <th>campaign</th>\n",
       "      <th>pdays</th>\n",
       "      <th>previous</th>\n",
       "      <th>emp_var_rate</th>\n",
       "      <th>cons_price_idx</th>\n",
       "      <th>cons_conf_idx</th>\n",
       "      <th>euribor3m</th>\n",
       "      <th>nr_employed</th>\n",
       "      <th>y</th>\n",
       "    </tr>\n",
       "    <tr>\n",
       "      <th>marital</th>\n",
       "      <th></th>\n",
       "      <th></th>\n",
       "      <th></th>\n",
       "      <th></th>\n",
       "      <th></th>\n",
       "      <th></th>\n",
       "      <th></th>\n",
       "      <th></th>\n",
       "      <th></th>\n",
       "      <th></th>\n",
       "      <th></th>\n",
       "    </tr>\n",
       "  </thead>\n",
       "  <tbody>\n",
       "    <tr>\n",
       "      <th>divorced</th>\n",
       "      <td>44.899393</td>\n",
       "      <td>253.790330</td>\n",
       "      <td>2.61340</td>\n",
       "      <td>968.639853</td>\n",
       "      <td>0.168690</td>\n",
       "      <td>0.163985</td>\n",
       "      <td>93.606563</td>\n",
       "      <td>-40.707069</td>\n",
       "      <td>3.715603</td>\n",
       "      <td>5170.878643</td>\n",
       "      <td>0.103209</td>\n",
       "    </tr>\n",
       "    <tr>\n",
       "      <th>married</th>\n",
       "      <td>42.307165</td>\n",
       "      <td>257.438623</td>\n",
       "      <td>2.57281</td>\n",
       "      <td>967.247673</td>\n",
       "      <td>0.155608</td>\n",
       "      <td>0.183625</td>\n",
       "      <td>93.597367</td>\n",
       "      <td>-40.270659</td>\n",
       "      <td>3.745832</td>\n",
       "      <td>5171.848772</td>\n",
       "      <td>0.101573</td>\n",
       "    </tr>\n",
       "    <tr>\n",
       "      <th>single</th>\n",
       "      <td>33.158714</td>\n",
       "      <td>261.524378</td>\n",
       "      <td>2.53380</td>\n",
       "      <td>949.909578</td>\n",
       "      <td>0.211359</td>\n",
       "      <td>-0.167989</td>\n",
       "      <td>93.517300</td>\n",
       "      <td>-40.918698</td>\n",
       "      <td>3.317447</td>\n",
       "      <td>5155.199265</td>\n",
       "      <td>0.140041</td>\n",
       "    </tr>\n",
       "    <tr>\n",
       "      <th>unknown</th>\n",
       "      <td>40.275000</td>\n",
       "      <td>312.725000</td>\n",
       "      <td>3.18750</td>\n",
       "      <td>937.100000</td>\n",
       "      <td>0.275000</td>\n",
       "      <td>-0.221250</td>\n",
       "      <td>93.471250</td>\n",
       "      <td>-40.820000</td>\n",
       "      <td>3.313038</td>\n",
       "      <td>5157.393750</td>\n",
       "      <td>0.150000</td>\n",
       "    </tr>\n",
       "  </tbody>\n",
       "</table>\n",
       "</div>"
      ],
      "text/plain": [
       "                age    duration  campaign       pdays  previous  emp_var_rate  \\\n",
       "marital                                                                         \n",
       "divorced  44.899393  253.790330   2.61340  968.639853  0.168690      0.163985   \n",
       "married   42.307165  257.438623   2.57281  967.247673  0.155608      0.183625   \n",
       "single    33.158714  261.524378   2.53380  949.909578  0.211359     -0.167989   \n",
       "unknown   40.275000  312.725000   3.18750  937.100000  0.275000     -0.221250   \n",
       "\n",
       "          cons_price_idx  cons_conf_idx  euribor3m  nr_employed         y  \n",
       "marital                                                                    \n",
       "divorced       93.606563     -40.707069   3.715603  5170.878643  0.103209  \n",
       "married        93.597367     -40.270659   3.745832  5171.848772  0.101573  \n",
       "single         93.517300     -40.918698   3.317447  5155.199265  0.140041  \n",
       "unknown        93.471250     -40.820000   3.313038  5157.393750  0.150000  "
      ]
     },
     "execution_count": 101,
     "metadata": {},
     "output_type": "execute_result"
    }
   ],
   "source": [
    "df_banking.groupby('marital').mean(numeric_only=True)"
   ]
  },
  {
   "cell_type": "code",
   "execution_count": 102,
   "id": "d11346dc",
   "metadata": {
    "colab": {
     "base_uri": "https://localhost:8080/",
     "height": 619
    },
    "executionInfo": {
     "elapsed": 398,
     "status": "ok",
     "timestamp": 1685242004420,
     "user": {
      "displayName": "Zaky Syihan",
      "userId": "05654158214121247060"
     },
     "user_tz": -420
    },
    "id": "d11346dc",
    "outputId": "8aca4895-09fd-4076-e311-e55567a7d0d9",
    "scrolled": true
   },
   "outputs": [
    {
     "data": {
      "image/png": "[encoded data removed]",
      "text/plain": [
       "<Figure size 1500x800 with 1 Axes>"
      ]
     },
     "metadata": {},
     "output_type": "display_data"
    },
    {
     "data": {
      "text/plain": [
       "<Figure size 2000x2000 with 0 Axes>"
      ]
     },
     "metadata": {},
     "output_type": "display_data"
    }
   ],
   "source": [
    "sns.countplot(x='marital', data=df_banking)\n",
    "plt.figure(figsize=(20, 20))\n",
    "plt.show()"
   ]
  },
  {
   "cell_type": "markdown",
   "id": "97c4f094",
   "metadata": {
    "id": "97c4f094"
   },
   "source": [
    "## Preprocess Data"
   ]
  },
  {
   "cell_type": "markdown",
   "id": "ZwTdV3TeNyBW",
   "metadata": {
    "id": "ZwTdV3TeNyBW"
   },
   "source": [
    "#### Drop Null Value"
   ]
  },
  {
   "cell_type": "code",
   "execution_count": 103,
   "id": "4WQ6tFhiN1mc",
   "metadata": {
    "executionInfo": {
     "elapsed": 425,
     "status": "ok",
     "timestamp": 1685242044510,
     "user": {
      "displayName": "Zaky Syihan",
      "userId": "05654158214121247060"
     },
     "user_tz": -420
    },
    "id": "4WQ6tFhiN1mc"
   },
   "outputs": [],
   "source": [
    "df_banking.dropna(inplace=True)"
   ]
  },
  {
   "cell_type": "markdown",
   "id": "b60d983f",
   "metadata": {
    "id": "b60d983f"
   },
   "source": [
    "#### Transform Categorical Data"
   ]
  },
  {
   "cell_type": "code",
   "execution_count": 104,
   "id": "22cf7c5e",
   "metadata": {
    "executionInfo": {
     "elapsed": 555,
     "status": "ok",
     "timestamp": 1685242053877,
     "user": {
      "displayName": "Zaky Syihan",
      "userId": "05654158214121247060"
     },
     "user_tz": -420
    },
    "id": "22cf7c5e"
   },
   "outputs": [],
   "source": [
    "# process categorical data (one-hot-encoding)\n",
    "cat_vars = ['job', 'marital', 'education', 'default', 'housing', 'loan', 'contact', 'month', 'day_of_week', 'poutcome']\n",
    "for var in cat_vars:\n",
    "    cat_list = pd.get_dummies(df_banking[var], prefix=var)\n",
    "    data1 = df_banking.join(cat_list)\n",
    "    df_banking = data1"
   ]
  },
  {
   "cell_type": "code",
   "execution_count": 105,
   "id": "a5267b9e",
   "metadata": {
    "colab": {
     "base_uri": "https://localhost:8080/",
     "height": 300
    },
    "executionInfo": {
     "elapsed": 4,
     "status": "ok",
     "timestamp": 1685208126733,
     "user": {
      "displayName": "Zaky Syihan",
      "userId": "05654158214121247060"
     },
     "user_tz": -420
    },
    "id": "a5267b9e",
    "outputId": "8c217e0c-2a86-4a9a-d60c-613b792ae2a4"
   },
   "outputs": [
    {
     "data": {
      "text/html": [
       "<div>\n",
       "<style scoped>\n",
       "    .dataframe tbody tr th:only-of-type {\n",
       "        vertical-align: middle;\n",
       "    }\n",
       "\n",
       "    .dataframe tbody tr th {\n",
       "        vertical-align: top;\n",
       "    }\n",
       "\n",
       "    .dataframe thead th {\n",
       "        text-align: right;\n",
       "    }\n",
       "</style>\n",
       "<table border=\"1\" class=\"dataframe\">\n",
       "  <thead>\n",
       "    <tr style=\"text-align: right;\">\n",
       "      <th></th>\n",
       "      <th>age</th>\n",
       "      <th>job</th>\n",
       "      <th>marital</th>\n",
       "      <th>education</th>\n",
       "      <th>default</th>\n",
       "      <th>housing</th>\n",
       "      <th>loan</th>\n",
       "      <th>contact</th>\n",
       "      <th>month</th>\n",
       "      <th>day_of_week</th>\n",
       "      <th>...</th>\n",
       "      <th>month_oct</th>\n",
       "      <th>month_sep</th>\n",
       "      <th>day_of_week_fri</th>\n",
       "      <th>day_of_week_mon</th>\n",
       "      <th>day_of_week_thu</th>\n",
       "      <th>day_of_week_tue</th>\n",
       "      <th>day_of_week_wed</th>\n",
       "      <th>poutcome_failure</th>\n",
       "      <th>poutcome_nonexistent</th>\n",
       "      <th>poutcome_success</th>\n",
       "    </tr>\n",
       "  </thead>\n",
       "  <tbody>\n",
       "    <tr>\n",
       "      <th>0</th>\n",
       "      <td>44</td>\n",
       "      <td>blue-collar</td>\n",
       "      <td>married</td>\n",
       "      <td>basic.4y</td>\n",
       "      <td>unknown</td>\n",
       "      <td>yes</td>\n",
       "      <td>no</td>\n",
       "      <td>cellular</td>\n",
       "      <td>aug</td>\n",
       "      <td>thu</td>\n",
       "      <td>...</td>\n",
       "      <td>False</td>\n",
       "      <td>False</td>\n",
       "      <td>False</td>\n",
       "      <td>False</td>\n",
       "      <td>True</td>\n",
       "      <td>False</td>\n",
       "      <td>False</td>\n",
       "      <td>False</td>\n",
       "      <td>True</td>\n",
       "      <td>False</td>\n",
       "    </tr>\n",
       "    <tr>\n",
       "      <th>1</th>\n",
       "      <td>53</td>\n",
       "      <td>technician</td>\n",
       "      <td>married</td>\n",
       "      <td>unknown</td>\n",
       "      <td>no</td>\n",
       "      <td>no</td>\n",
       "      <td>no</td>\n",
       "      <td>cellular</td>\n",
       "      <td>nov</td>\n",
       "      <td>fri</td>\n",
       "      <td>...</td>\n",
       "      <td>False</td>\n",
       "      <td>False</td>\n",
       "      <td>True</td>\n",
       "      <td>False</td>\n",
       "      <td>False</td>\n",
       "      <td>False</td>\n",
       "      <td>False</td>\n",
       "      <td>False</td>\n",
       "      <td>True</td>\n",
       "      <td>False</td>\n",
       "    </tr>\n",
       "    <tr>\n",
       "      <th>2</th>\n",
       "      <td>28</td>\n",
       "      <td>management</td>\n",
       "      <td>single</td>\n",
       "      <td>university.degree</td>\n",
       "      <td>no</td>\n",
       "      <td>yes</td>\n",
       "      <td>no</td>\n",
       "      <td>cellular</td>\n",
       "      <td>jun</td>\n",
       "      <td>thu</td>\n",
       "      <td>...</td>\n",
       "      <td>False</td>\n",
       "      <td>False</td>\n",
       "      <td>False</td>\n",
       "      <td>False</td>\n",
       "      <td>True</td>\n",
       "      <td>False</td>\n",
       "      <td>False</td>\n",
       "      <td>False</td>\n",
       "      <td>False</td>\n",
       "      <td>True</td>\n",
       "    </tr>\n",
       "    <tr>\n",
       "      <th>3</th>\n",
       "      <td>39</td>\n",
       "      <td>services</td>\n",
       "      <td>married</td>\n",
       "      <td>high.school</td>\n",
       "      <td>no</td>\n",
       "      <td>no</td>\n",
       "      <td>no</td>\n",
       "      <td>cellular</td>\n",
       "      <td>apr</td>\n",
       "      <td>fri</td>\n",
       "      <td>...</td>\n",
       "      <td>False</td>\n",
       "      <td>False</td>\n",
       "      <td>True</td>\n",
       "      <td>False</td>\n",
       "      <td>False</td>\n",
       "      <td>False</td>\n",
       "      <td>False</td>\n",
       "      <td>False</td>\n",
       "      <td>True</td>\n",
       "      <td>False</td>\n",
       "    </tr>\n",
       "    <tr>\n",
       "      <th>4</th>\n",
       "      <td>55</td>\n",
       "      <td>retired</td>\n",
       "      <td>married</td>\n",
       "      <td>basic.4y</td>\n",
       "      <td>no</td>\n",
       "      <td>yes</td>\n",
       "      <td>no</td>\n",
       "      <td>cellular</td>\n",
       "      <td>aug</td>\n",
       "      <td>fri</td>\n",
       "      <td>...</td>\n",
       "      <td>False</td>\n",
       "      <td>False</td>\n",
       "      <td>True</td>\n",
       "      <td>False</td>\n",
       "      <td>False</td>\n",
       "      <td>False</td>\n",
       "      <td>False</td>\n",
       "      <td>False</td>\n",
       "      <td>False</td>\n",
       "      <td>True</td>\n",
       "    </tr>\n",
       "  </tbody>\n",
       "</table>\n",
       "<p>5 rows × 74 columns</p>\n",
       "</div>"
      ],
      "text/plain": [
       "   age          job  marital          education  default housing loan  \\\n",
       "0   44  blue-collar  married           basic.4y  unknown     yes   no   \n",
       "1   53   technician  married            unknown       no      no   no   \n",
       "2   28   management   single  university.degree       no     yes   no   \n",
       "3   39     services  married        high.school       no      no   no   \n",
       "4   55      retired  married           basic.4y       no     yes   no   \n",
       "\n",
       "    contact month day_of_week  ...  month_oct  month_sep  day_of_week_fri  \\\n",
       "0  cellular   aug         thu  ...      False      False            False   \n",
       "1  cellular   nov         fri  ...      False      False             True   \n",
       "2  cellular   jun         thu  ...      False      False            False   \n",
       "3  cellular   apr         fri  ...      False      False             True   \n",
       "4  cellular   aug         fri  ...      False      False             True   \n",
       "\n",
       "   day_of_week_mon day_of_week_thu  day_of_week_tue  day_of_week_wed  \\\n",
       "0            False            True            False            False   \n",
       "1            False           False            False            False   \n",
       "2            False            True            False            False   \n",
       "3            False           False            False            False   \n",
       "4            False           False            False            False   \n",
       "\n",
       "   poutcome_failure  poutcome_nonexistent  poutcome_success  \n",
       "0             False                  True             False  \n",
       "1             False                  True             False  \n",
       "2             False                 False              True  \n",
       "3             False                  True             False  \n",
       "4             False                 False              True  \n",
       "\n",
       "[5 rows x 74 columns]"
      ]
     },
     "execution_count": 105,
     "metadata": {},
     "output_type": "execute_result"
    }
   ],
   "source": [
    "df_banking.head()"
   ]
  },
  {
   "cell_type": "code",
   "execution_count": 106,
   "id": "6f4db3a6",
   "metadata": {
    "colab": {
     "base_uri": "https://localhost:8080/"
    },
    "executionInfo": {
     "elapsed": 598,
     "status": "ok",
     "timestamp": 1685242096432,
     "user": {
      "displayName": "Zaky Syihan",
      "userId": "05654158214121247060"
     },
     "user_tz": -420
    },
    "id": "6f4db3a6",
    "outputId": "bc6c8ec2-745b-4706-cc95-d5269d09082d"
   },
   "outputs": [
    {
     "data": {
      "text/plain": [
       "array(['age', 'job', 'marital', 'education', 'default', 'housing', 'loan',\n",
       "       'contact', 'month', 'day_of_week', 'duration', 'campaign', 'pdays',\n",
       "       'previous', 'poutcome', 'emp_var_rate', 'cons_price_idx',\n",
       "       'cons_conf_idx', 'euribor3m', 'nr_employed', 'y', 'job_admin.',\n",
       "       'job_blue-collar', 'job_entrepreneur', 'job_housemaid',\n",
       "       'job_management', 'job_retired', 'job_self-employed',\n",
       "       'job_services', 'job_student', 'job_technician', 'job_unemployed',\n",
       "       'job_unknown', 'marital_divorced', 'marital_married',\n",
       "       'marital_single', 'marital_unknown', 'education_basic.4y',\n",
       "       'education_basic.6y', 'education_basic.9y',\n",
       "       'education_high.school', 'education_illiterate',\n",
       "       'education_professional.course', 'education_university.degree',\n",
       "       'education_unknown', 'default_no', 'default_unknown',\n",
       "       'default_yes', 'housing_no', 'housing_unknown', 'housing_yes',\n",
       "       'loan_no', 'loan_unknown', 'loan_yes', 'contact_cellular',\n",
       "       'contact_telephone', 'month_apr', 'month_aug', 'month_dec',\n",
       "       'month_jul', 'month_jun', 'month_mar', 'month_may', 'month_nov',\n",
       "       'month_oct', 'month_sep', 'day_of_week_fri', 'day_of_week_mon',\n",
       "       'day_of_week_thu', 'day_of_week_tue', 'day_of_week_wed',\n",
       "       'poutcome_failure', 'poutcome_nonexistent', 'poutcome_success'],\n",
       "      dtype=object)"
      ]
     },
     "execution_count": 106,
     "metadata": {},
     "output_type": "execute_result"
    }
   ],
   "source": [
    "df_banking.columns.values"
   ]
  },
  {
   "cell_type": "code",
   "execution_count": 107,
   "id": "7e40e344",
   "metadata": {
    "executionInfo": {
     "elapsed": 364,
     "status": "ok",
     "timestamp": 1685242114803,
     "user": {
      "displayName": "Zaky Syihan",
      "userId": "05654158214121247060"
     },
     "user_tz": -420
    },
    "id": "7e40e344"
   },
   "outputs": [],
   "source": [
    "# remove categorical data\n",
    "cat_vars = ['job', 'marital', 'education', 'default', 'housing', 'loan', 'contact', 'month', 'day_of_week', 'poutcome']\n",
    "data_vars = df_banking.columns.values.tolist()\n",
    "to_keep = [i for i in data_vars if i not in cat_vars] # filter process"
   ]
  },
  {
   "cell_type": "code",
   "execution_count": 108,
   "id": "ae19c3ec",
   "metadata": {
    "colab": {
     "base_uri": "https://localhost:8080/"
    },
    "executionInfo": {
     "elapsed": 339,
     "status": "ok",
     "timestamp": 1685242158407,
     "user": {
      "displayName": "Zaky Syihan",
      "userId": "05654158214121247060"
     },
     "user_tz": -420
    },
    "id": "ae19c3ec",
    "outputId": "39eff5aa-912e-4387-e69a-e7b926da0e38"
   },
   "outputs": [
    {
     "data": {
      "text/plain": [
       "array(['age', 'duration', 'campaign', 'pdays', 'previous', 'emp_var_rate',\n",
       "       'cons_price_idx', 'cons_conf_idx', 'euribor3m', 'nr_employed', 'y',\n",
       "       'job_admin.', 'job_blue-collar', 'job_entrepreneur',\n",
       "       'job_housemaid', 'job_management', 'job_retired',\n",
       "       'job_self-employed', 'job_services', 'job_student',\n",
       "       'job_technician', 'job_unemployed', 'job_unknown',\n",
       "       'marital_divorced', 'marital_married', 'marital_single',\n",
       "       'marital_unknown', 'education_basic.4y', 'education_basic.6y',\n",
       "       'education_basic.9y', 'education_high.school',\n",
       "       'education_illiterate', 'education_professional.course',\n",
       "       'education_university.degree', 'education_unknown', 'default_no',\n",
       "       'default_unknown', 'default_yes', 'housing_no', 'housing_unknown',\n",
       "       'housing_yes', 'loan_no', 'loan_unknown', 'loan_yes',\n",
       "       'contact_cellular', 'contact_telephone', 'month_apr', 'month_aug',\n",
       "       'month_dec', 'month_jul', 'month_jun', 'month_mar', 'month_may',\n",
       "       'month_nov', 'month_oct', 'month_sep', 'day_of_week_fri',\n",
       "       'day_of_week_mon', 'day_of_week_thu', 'day_of_week_tue',\n",
       "       'day_of_week_wed', 'poutcome_failure', 'poutcome_nonexistent',\n",
       "       'poutcome_success'], dtype=object)"
      ]
     },
     "execution_count": 108,
     "metadata": {},
     "output_type": "execute_result"
    }
   ],
   "source": [
    "df_banking2 = df_banking[to_keep]\n",
    "df_banking2.columns.values"
   ]
  },
  {
   "cell_type": "markdown",
   "id": "a9b52936",
   "metadata": {
    "id": "a9b52936"
   },
   "source": [
    "#### Prepare Features & Labels"
   ]
  },
  {
   "cell_type": "code",
   "execution_count": 109,
   "id": "b5df2511",
   "metadata": {
    "executionInfo": {
     "elapsed": 331,
     "status": "ok",
     "timestamp": 1685242178898,
     "user": {
      "displayName": "Zaky Syihan",
      "userId": "05654158214121247060"
     },
     "user_tz": -420
    },
    "id": "b5df2511"
   },
   "outputs": [],
   "source": [
    "# prepare for the columns\n",
    "data_vars = df_banking2.columns.values.tolist()\n",
    "y = ['y']\n",
    "X = [i for i in data_vars if i not in y]"
   ]
  },
  {
   "cell_type": "code",
   "execution_count": 110,
   "id": "3LNfHT_hQvGr",
   "metadata": {
    "colab": {
     "base_uri": "https://localhost:8080/"
    },
    "executionInfo": {
     "elapsed": 2,
     "status": "ok",
     "timestamp": 1685242205545,
     "user": {
      "displayName": "Zaky Syihan",
      "userId": "05654158214121247060"
     },
     "user_tz": -420
    },
    "id": "3LNfHT_hQvGr",
    "outputId": "417952c0-17f0-4a75-b3ef-7dfe6298a65b"
   },
   "outputs": [
    {
     "data": {
      "text/plain": [
       "63"
      ]
     },
     "execution_count": 110,
     "metadata": {},
     "output_type": "execute_result"
    }
   ],
   "source": [
    "len(X)"
   ]
  },
  {
   "cell_type": "markdown",
   "id": "6dbe251f",
   "metadata": {
    "id": "6dbe251f"
   },
   "source": [
    "#### Split Data"
   ]
  },
  {
   "cell_type": "code",
   "execution_count": 111,
   "id": "780df85c",
   "metadata": {
    "executionInfo": {
     "elapsed": 465,
     "status": "ok",
     "timestamp": 1685242220118,
     "user": {
      "displayName": "Zaky Syihan",
      "userId": "05654158214121247060"
     },
     "user_tz": -420
    },
    "id": "780df85c"
   },
   "outputs": [],
   "source": [
    "from sklearn.model_selection import train_test_split"
   ]
  },
  {
   "cell_type": "code",
   "execution_count": 112,
   "id": "78be617f",
   "metadata": {
    "executionInfo": {
     "elapsed": 2,
     "status": "ok",
     "timestamp": 1685242220471,
     "user": {
      "displayName": "Zaky Syihan",
      "userId": "05654158214121247060"
     },
     "user_tz": -420
    },
    "id": "78be617f"
   },
   "outputs": [],
   "source": [
    "X_train, X_test, y_train, y_test = train_test_split(df_banking2[X], df_banking2[y], test_size=0.3, random_state=0)"
   ]
  },
  {
   "cell_type": "code",
   "execution_count": 113,
   "id": "dVAAJcFwQ9yK",
   "metadata": {
    "colab": {
     "base_uri": "https://localhost:8080/"
    },
    "executionInfo": {
     "elapsed": 343,
     "status": "ok",
     "timestamp": 1685242245895,
     "user": {
      "displayName": "Zaky Syihan",
      "userId": "05654158214121247060"
     },
     "user_tz": -420
    },
    "id": "dVAAJcFwQ9yK",
    "outputId": "4ef88022-9429-46fd-b42e-d930e4112d67"
   },
   "outputs": [
    {
     "data": {
      "text/plain": [
       "(28831, 63)"
      ]
     },
     "execution_count": 113,
     "metadata": {},
     "output_type": "execute_result"
    }
   ],
   "source": [
    "X_train.shape"
   ]
  },
  {
   "cell_type": "code",
   "execution_count": 114,
   "id": "ZaaPbra1Q_hQ",
   "metadata": {
    "colab": {
     "base_uri": "https://localhost:8080/"
    },
    "executionInfo": {
     "elapsed": 334,
     "status": "ok",
     "timestamp": 1685242254075,
     "user": {
      "displayName": "Zaky Syihan",
      "userId": "05654158214121247060"
     },
     "user_tz": -420
    },
    "id": "ZaaPbra1Q_hQ",
    "outputId": "b64b2d39-3933-4bf8-f617-07c7a6d3cef5"
   },
   "outputs": [
    {
     "data": {
      "text/plain": [
       "(12357, 63)"
      ]
     },
     "execution_count": 114,
     "metadata": {},
     "output_type": "execute_result"
    }
   ],
   "source": [
    "X_test.shape"
   ]
  },
  {
   "cell_type": "markdown",
   "id": "0977dbdf",
   "metadata": {
    "id": "0977dbdf"
   },
   "source": [
    "## Model Data"
   ]
  },
  {
   "cell_type": "code",
   "execution_count": 115,
   "id": "f3317d42",
   "metadata": {
    "executionInfo": {
     "elapsed": 5,
     "status": "ok",
     "timestamp": 1685243019367,
     "user": {
      "displayName": "Zaky Syihan",
      "userId": "05654158214121247060"
     },
     "user_tz": -420
    },
    "id": "f3317d42"
   },
   "outputs": [],
   "source": [
    "from sklearn.ensemble import RandomForestClassifier, RandomForestRegressor"
   ]
  },
  {
   "cell_type": "code",
   "execution_count": 116,
   "id": "c4b3ce08-c28f-4aab-b040-e0bfb1c52606",
   "metadata": {
    "executionInfo": {
     "elapsed": 5,
     "status": "ok",
     "timestamp": 1685243019367,
     "user": {
      "displayName": "Zaky Syihan",
      "userId": "05654158214121247060"
     },
     "user_tz": -420
    },
    "id": "f3317d42"
   },
   "outputs": [
    {
     "data": {
      "text/html": [
       "<div>\n",
       "<style scoped>\n",
       "    .dataframe tbody tr th:only-of-type {\n",
       "        vertical-align: middle;\n",
       "    }\n",
       "\n",
       "    .dataframe tbody tr th {\n",
       "        vertical-align: top;\n",
       "    }\n",
       "\n",
       "    .dataframe thead th {\n",
       "        text-align: right;\n",
       "    }\n",
       "</style>\n",
       "<table border=\"1\" class=\"dataframe\">\n",
       "  <thead>\n",
       "    <tr style=\"text-align: right;\">\n",
       "      <th></th>\n",
       "      <th>age</th>\n",
       "      <th>job</th>\n",
       "      <th>marital</th>\n",
       "      <th>education</th>\n",
       "      <th>default</th>\n",
       "      <th>housing</th>\n",
       "      <th>loan</th>\n",
       "      <th>contact</th>\n",
       "      <th>month</th>\n",
       "      <th>day_of_week</th>\n",
       "      <th>...</th>\n",
       "      <th>month_oct</th>\n",
       "      <th>month_sep</th>\n",
       "      <th>day_of_week_fri</th>\n",
       "      <th>day_of_week_mon</th>\n",
       "      <th>day_of_week_thu</th>\n",
       "      <th>day_of_week_tue</th>\n",
       "      <th>day_of_week_wed</th>\n",
       "      <th>poutcome_failure</th>\n",
       "      <th>poutcome_nonexistent</th>\n",
       "      <th>poutcome_success</th>\n",
       "    </tr>\n",
       "  </thead>\n",
       "  <tbody>\n",
       "    <tr>\n",
       "      <th>0</th>\n",
       "      <td>44</td>\n",
       "      <td>blue-collar</td>\n",
       "      <td>married</td>\n",
       "      <td>basic.4y</td>\n",
       "      <td>unknown</td>\n",
       "      <td>yes</td>\n",
       "      <td>no</td>\n",
       "      <td>cellular</td>\n",
       "      <td>aug</td>\n",
       "      <td>thu</td>\n",
       "      <td>...</td>\n",
       "      <td>False</td>\n",
       "      <td>False</td>\n",
       "      <td>False</td>\n",
       "      <td>False</td>\n",
       "      <td>True</td>\n",
       "      <td>False</td>\n",
       "      <td>False</td>\n",
       "      <td>False</td>\n",
       "      <td>True</td>\n",
       "      <td>False</td>\n",
       "    </tr>\n",
       "    <tr>\n",
       "      <th>1</th>\n",
       "      <td>53</td>\n",
       "      <td>technician</td>\n",
       "      <td>married</td>\n",
       "      <td>unknown</td>\n",
       "      <td>no</td>\n",
       "      <td>no</td>\n",
       "      <td>no</td>\n",
       "      <td>cellular</td>\n",
       "      <td>nov</td>\n",
       "      <td>fri</td>\n",
       "      <td>...</td>\n",
       "      <td>False</td>\n",
       "      <td>False</td>\n",
       "      <td>True</td>\n",
       "      <td>False</td>\n",
       "      <td>False</td>\n",
       "      <td>False</td>\n",
       "      <td>False</td>\n",
       "      <td>False</td>\n",
       "      <td>True</td>\n",
       "      <td>False</td>\n",
       "    </tr>\n",
       "    <tr>\n",
       "      <th>2</th>\n",
       "      <td>28</td>\n",
       "      <td>management</td>\n",
       "      <td>single</td>\n",
       "      <td>university.degree</td>\n",
       "      <td>no</td>\n",
       "      <td>yes</td>\n",
       "      <td>no</td>\n",
       "      <td>cellular</td>\n",
       "      <td>jun</td>\n",
       "      <td>thu</td>\n",
       "      <td>...</td>\n",
       "      <td>False</td>\n",
       "      <td>False</td>\n",
       "      <td>False</td>\n",
       "      <td>False</td>\n",
       "      <td>True</td>\n",
       "      <td>False</td>\n",
       "      <td>False</td>\n",
       "      <td>False</td>\n",
       "      <td>False</td>\n",
       "      <td>True</td>\n",
       "    </tr>\n",
       "    <tr>\n",
       "      <th>3</th>\n",
       "      <td>39</td>\n",
       "      <td>services</td>\n",
       "      <td>married</td>\n",
       "      <td>high.school</td>\n",
       "      <td>no</td>\n",
       "      <td>no</td>\n",
       "      <td>no</td>\n",
       "      <td>cellular</td>\n",
       "      <td>apr</td>\n",
       "      <td>fri</td>\n",
       "      <td>...</td>\n",
       "      <td>False</td>\n",
       "      <td>False</td>\n",
       "      <td>True</td>\n",
       "      <td>False</td>\n",
       "      <td>False</td>\n",
       "      <td>False</td>\n",
       "      <td>False</td>\n",
       "      <td>False</td>\n",
       "      <td>True</td>\n",
       "      <td>False</td>\n",
       "    </tr>\n",
       "    <tr>\n",
       "      <th>4</th>\n",
       "      <td>55</td>\n",
       "      <td>retired</td>\n",
       "      <td>married</td>\n",
       "      <td>basic.4y</td>\n",
       "      <td>no</td>\n",
       "      <td>yes</td>\n",
       "      <td>no</td>\n",
       "      <td>cellular</td>\n",
       "      <td>aug</td>\n",
       "      <td>fri</td>\n",
       "      <td>...</td>\n",
       "      <td>False</td>\n",
       "      <td>False</td>\n",
       "      <td>True</td>\n",
       "      <td>False</td>\n",
       "      <td>False</td>\n",
       "      <td>False</td>\n",
       "      <td>False</td>\n",
       "      <td>False</td>\n",
       "      <td>False</td>\n",
       "      <td>True</td>\n",
       "    </tr>\n",
       "    <tr>\n",
       "      <th>...</th>\n",
       "      <td>...</td>\n",
       "      <td>...</td>\n",
       "      <td>...</td>\n",
       "      <td>...</td>\n",
       "      <td>...</td>\n",
       "      <td>...</td>\n",
       "      <td>...</td>\n",
       "      <td>...</td>\n",
       "      <td>...</td>\n",
       "      <td>...</td>\n",
       "      <td>...</td>\n",
       "      <td>...</td>\n",
       "      <td>...</td>\n",
       "      <td>...</td>\n",
       "      <td>...</td>\n",
       "      <td>...</td>\n",
       "      <td>...</td>\n",
       "      <td>...</td>\n",
       "      <td>...</td>\n",
       "      <td>...</td>\n",
       "      <td>...</td>\n",
       "    </tr>\n",
       "    <tr>\n",
       "      <th>41183</th>\n",
       "      <td>59</td>\n",
       "      <td>retired</td>\n",
       "      <td>married</td>\n",
       "      <td>high.school</td>\n",
       "      <td>unknown</td>\n",
       "      <td>no</td>\n",
       "      <td>yes</td>\n",
       "      <td>telephone</td>\n",
       "      <td>jun</td>\n",
       "      <td>thu</td>\n",
       "      <td>...</td>\n",
       "      <td>False</td>\n",
       "      <td>False</td>\n",
       "      <td>False</td>\n",
       "      <td>False</td>\n",
       "      <td>True</td>\n",
       "      <td>False</td>\n",
       "      <td>False</td>\n",
       "      <td>False</td>\n",
       "      <td>True</td>\n",
       "      <td>False</td>\n",
       "    </tr>\n",
       "    <tr>\n",
       "      <th>41184</th>\n",
       "      <td>31</td>\n",
       "      <td>housemaid</td>\n",
       "      <td>married</td>\n",
       "      <td>basic.4y</td>\n",
       "      <td>unknown</td>\n",
       "      <td>no</td>\n",
       "      <td>no</td>\n",
       "      <td>telephone</td>\n",
       "      <td>may</td>\n",
       "      <td>thu</td>\n",
       "      <td>...</td>\n",
       "      <td>False</td>\n",
       "      <td>False</td>\n",
       "      <td>False</td>\n",
       "      <td>False</td>\n",
       "      <td>True</td>\n",
       "      <td>False</td>\n",
       "      <td>False</td>\n",
       "      <td>False</td>\n",
       "      <td>True</td>\n",
       "      <td>False</td>\n",
       "    </tr>\n",
       "    <tr>\n",
       "      <th>41185</th>\n",
       "      <td>42</td>\n",
       "      <td>admin.</td>\n",
       "      <td>single</td>\n",
       "      <td>university.degree</td>\n",
       "      <td>unknown</td>\n",
       "      <td>yes</td>\n",
       "      <td>yes</td>\n",
       "      <td>telephone</td>\n",
       "      <td>may</td>\n",
       "      <td>wed</td>\n",
       "      <td>...</td>\n",
       "      <td>False</td>\n",
       "      <td>False</td>\n",
       "      <td>False</td>\n",
       "      <td>False</td>\n",
       "      <td>False</td>\n",
       "      <td>False</td>\n",
       "      <td>True</td>\n",
       "      <td>False</td>\n",
       "      <td>True</td>\n",
       "      <td>False</td>\n",
       "    </tr>\n",
       "    <tr>\n",
       "      <th>41186</th>\n",
       "      <td>48</td>\n",
       "      <td>technician</td>\n",
       "      <td>married</td>\n",
       "      <td>professional.course</td>\n",
       "      <td>no</td>\n",
       "      <td>no</td>\n",
       "      <td>yes</td>\n",
       "      <td>telephone</td>\n",
       "      <td>oct</td>\n",
       "      <td>tue</td>\n",
       "      <td>...</td>\n",
       "      <td>True</td>\n",
       "      <td>False</td>\n",
       "      <td>False</td>\n",
       "      <td>False</td>\n",
       "      <td>False</td>\n",
       "      <td>True</td>\n",
       "      <td>False</td>\n",
       "      <td>False</td>\n",
       "      <td>True</td>\n",
       "      <td>False</td>\n",
       "    </tr>\n",
       "    <tr>\n",
       "      <th>41187</th>\n",
       "      <td>25</td>\n",
       "      <td>student</td>\n",
       "      <td>single</td>\n",
       "      <td>high.school</td>\n",
       "      <td>no</td>\n",
       "      <td>no</td>\n",
       "      <td>no</td>\n",
       "      <td>telephone</td>\n",
       "      <td>may</td>\n",
       "      <td>fri</td>\n",
       "      <td>...</td>\n",
       "      <td>False</td>\n",
       "      <td>False</td>\n",
       "      <td>True</td>\n",
       "      <td>False</td>\n",
       "      <td>False</td>\n",
       "      <td>False</td>\n",
       "      <td>False</td>\n",
       "      <td>False</td>\n",
       "      <td>True</td>\n",
       "      <td>False</td>\n",
       "    </tr>\n",
       "  </tbody>\n",
       "</table>\n",
       "<p>41188 rows × 74 columns</p>\n",
       "</div>"
      ],
      "text/plain": [
       "       age          job  marital            education  default housing loan  \\\n",
       "0       44  blue-collar  married             basic.4y  unknown     yes   no   \n",
       "1       53   technician  married              unknown       no      no   no   \n",
       "2       28   management   single    university.degree       no     yes   no   \n",
       "3       39     services  married          high.school       no      no   no   \n",
       "4       55      retired  married             basic.4y       no     yes   no   \n",
       "...    ...          ...      ...                  ...      ...     ...  ...   \n",
       "41183   59      retired  married          high.school  unknown      no  yes   \n",
       "41184   31    housemaid  married             basic.4y  unknown      no   no   \n",
       "41185   42       admin.   single    university.degree  unknown     yes  yes   \n",
       "41186   48   technician  married  professional.course       no      no  yes   \n",
       "41187   25      student   single          high.school       no      no   no   \n",
       "\n",
       "         contact month day_of_week  ...  month_oct  month_sep  \\\n",
       "0       cellular   aug         thu  ...      False      False   \n",
       "1       cellular   nov         fri  ...      False      False   \n",
       "2       cellular   jun         thu  ...      False      False   \n",
       "3       cellular   apr         fri  ...      False      False   \n",
       "4       cellular   aug         fri  ...      False      False   \n",
       "...          ...   ...         ...  ...        ...        ...   \n",
       "41183  telephone   jun         thu  ...      False      False   \n",
       "41184  telephone   may         thu  ...      False      False   \n",
       "41185  telephone   may         wed  ...      False      False   \n",
       "41186  telephone   oct         tue  ...       True      False   \n",
       "41187  telephone   may         fri  ...      False      False   \n",
       "\n",
       "       day_of_week_fri  day_of_week_mon day_of_week_thu  day_of_week_tue  \\\n",
       "0                False            False            True            False   \n",
       "1                 True            False           False            False   \n",
       "2                False            False            True            False   \n",
       "3                 True            False           False            False   \n",
       "4                 True            False           False            False   \n",
       "...                ...              ...             ...              ...   \n",
       "41183            False            False            True            False   \n",
       "41184            False            False            True            False   \n",
       "41185            False            False           False            False   \n",
       "41186            False            False           False             True   \n",
       "41187             True            False           False            False   \n",
       "\n",
       "       day_of_week_wed  poutcome_failure  poutcome_nonexistent  \\\n",
       "0                False             False                  True   \n",
       "1                False             False                  True   \n",
       "2                False             False                 False   \n",
       "3                False             False                  True   \n",
       "4                False             False                 False   \n",
       "...                ...               ...                   ...   \n",
       "41183            False             False                  True   \n",
       "41184            False             False                  True   \n",
       "41185             True             False                  True   \n",
       "41186            False             False                  True   \n",
       "41187            False             False                  True   \n",
       "\n",
       "       poutcome_success  \n",
       "0                 False  \n",
       "1                 False  \n",
       "2                  True  \n",
       "3                 False  \n",
       "4                  True  \n",
       "...                 ...  \n",
       "41183             False  \n",
       "41184             False  \n",
       "41185             False  \n",
       "41186             False  \n",
       "41187             False  \n",
       "\n",
       "[41188 rows x 74 columns]"
      ]
     },
     "execution_count": 116,
     "metadata": {},
     "output_type": "execute_result"
    }
   ],
   "source": [
    "df_banking"
   ]
  },
  {
   "cell_type": "code",
   "execution_count": 117,
   "id": "d10df7c1",
   "metadata": {
    "colab": {
     "base_uri": "https://localhost:8080/",
     "height": 129
    },
    "executionInfo": {
     "elapsed": 11362,
     "status": "ok",
     "timestamp": 1685243273227,
     "user": {
      "displayName": "Zaky Syihan",
      "userId": "05654158214121247060"
     },
     "user_tz": -420
    },
    "id": "d10df7c1",
    "outputId": "0d66a9a7-e9cf-4301-9e53-52efd750fe40"
   },
   "outputs": [
    {
     "data": {
      "text/html": [
       "<style>#sk-container-id-9 {color: black;}#sk-container-id-9 pre{padding: 0;}#sk-container-id-9 div.sk-toggleable {background-color: white;}#sk-container-id-9 label.sk-toggleable__label {cursor: pointer;display: block;width: 100%;margin-bottom: 0;padding: 0.3em;box-sizing: border-box;text-align: center;}#sk-container-id-9 label.sk-toggleable__label-arrow:before {content: \"▸\";float: left;margin-right: 0.25em;color: #696969;}#sk-container-id-9 label.sk-toggleable__label-arrow:hover:before {color: black;}#sk-container-id-9 div.sk-estimator:hover label.sk-toggleable__label-arrow:before {color: black;}#sk-container-id-9 div.sk-toggleable__content {max-height: 0;max-width: 0;overflow: hidden;text-align: left;background-color: #f0f8ff;}#sk-container-id-9 div.sk-toggleable__content pre {margin: 0.2em;color: black;border-radius: 0.25em;background-color: #f0f8ff;}#sk-container-id-9 input.sk-toggleable__control:checked~div.sk-toggleable__content {max-height: 200px;max-width: 100%;overflow: auto;}#sk-container-id-9 input.sk-toggleable__control:checked~label.sk-toggleable__label-arrow:before {content: \"▾\";}#sk-container-id-9 div.sk-estimator input.sk-toggleable__control:checked~label.sk-toggleable__label {background-color: #d4ebff;}#sk-container-id-9 div.sk-label input.sk-toggleable__control:checked~label.sk-toggleable__label {background-color: #d4ebff;}#sk-container-id-9 input.sk-hidden--visually {border: 0;clip: rect(1px 1px 1px 1px);clip: rect(1px, 1px, 1px, 1px);height: 1px;margin: -1px;overflow: hidden;padding: 0;position: absolute;width: 1px;}#sk-container-id-9 div.sk-estimator {font-family: monospace;background-color: #f0f8ff;border: 1px dotted black;border-radius: 0.25em;box-sizing: border-box;margin-bottom: 0.5em;}#sk-container-id-9 div.sk-estimator:hover {background-color: #d4ebff;}#sk-container-id-9 div.sk-parallel-item::after {content: \"\";width: 100%;border-bottom: 1px solid gray;flex-grow: 1;}#sk-container-id-9 div.sk-label:hover label.sk-toggleable__label {background-color: #d4ebff;}#sk-container-id-9 div.sk-serial::before {content: \"\";position: absolute;border-left: 1px solid gray;box-sizing: border-box;top: 0;bottom: 0;left: 50%;z-index: 0;}#sk-container-id-9 div.sk-serial {display: flex;flex-direction: column;align-items: center;background-color: white;padding-right: 0.2em;padding-left: 0.2em;position: relative;}#sk-container-id-9 div.sk-item {position: relative;z-index: 1;}#sk-container-id-9 div.sk-parallel {display: flex;align-items: stretch;justify-content: center;background-color: white;position: relative;}#sk-container-id-9 div.sk-item::before, #sk-container-id-9 div.sk-parallel-item::before {content: \"\";position: absolute;border-left: 1px solid gray;box-sizing: border-box;top: 0;bottom: 0;left: 50%;z-index: -1;}#sk-container-id-9 div.sk-parallel-item {display: flex;flex-direction: column;z-index: 1;position: relative;background-color: white;}#sk-container-id-9 div.sk-parallel-item:first-child::after {align-self: flex-end;width: 50%;}#sk-container-id-9 div.sk-parallel-item:last-child::after {align-self: flex-start;width: 50%;}#sk-container-id-9 div.sk-parallel-item:only-child::after {width: 0;}#sk-container-id-9 div.sk-dashed-wrapped {border: 1px dashed gray;margin: 0 0.4em 0.5em 0.4em;box-sizing: border-box;padding-bottom: 0.4em;background-color: white;}#sk-container-id-9 div.sk-label label {font-family: monospace;font-weight: bold;display: inline-block;line-height: 1.2em;}#sk-container-id-9 div.sk-label-container {text-align: center;}#sk-container-id-9 div.sk-container {/* jupyter's `normalize.less` sets `[hidden] { display: none; }` but bootstrap.min.css set `[hidden] { display: none !important; }` so we also need the `!important` here to be able to override the default hidden behavior on the sphinx rendered scikit-learn.org. See: https://github.com/scikit-learn/scikit-learn/issues/21755 */display: inline-block !important;position: relative;}#sk-container-id-9 div.sk-text-repr-fallback {display: none;}</style><div id=\"sk-container-id-9\" class=\"sk-top-container\"><div class=\"sk-text-repr-fallback\"><pre>RandomForestClassifier(criterion=&#x27;entropy&#x27;, max_depth=10, n_estimators=1000)</pre><b>In a Jupyter environment, please rerun this cell to show the HTML representation or trust the notebook. <br />On GitHub, the HTML representation is unable to render, please try loading this page with nbviewer.org.</b></div><div class=\"sk-container\" hidden><div class=\"sk-item\"><div class=\"sk-estimator sk-toggleable\"><input class=\"sk-toggleable__control sk-hidden--visually\" id=\"sk-estimator-id-9\" type=\"checkbox\" checked><label for=\"sk-estimator-id-9\" class=\"sk-toggleable__label sk-toggleable__label-arrow\">RandomForestClassifier</label><div class=\"sk-toggleable__content\"><pre>RandomForestClassifier(criterion=&#x27;entropy&#x27;, max_depth=10, n_estimators=1000)</pre></div></div></div></div></div>"
      ],
      "text/plain": [
       "RandomForestClassifier(criterion='entropy', max_depth=10, n_estimators=1000)"
      ]
     },
     "execution_count": 117,
     "metadata": {},
     "output_type": "execute_result"
    }
   ],
   "source": [
    "rf_clf = RandomForestClassifier(n_estimators=1000, criterion='entropy', max_depth=10)\n",
    "\n",
    "\n",
    "rf_clf"
   ]
  },
  {
   "cell_type": "code",
   "execution_count": 118,
   "id": "e96d4b80-4927-4abc-98ac-0b64798b3b1a",
   "metadata": {},
   "outputs": [
    {
     "name": "stderr",
     "output_type": "stream",
     "text": [
      "/opt/conda/lib/python3.11/site-packages/sklearn/base.py:1152: DataConversionWarning: A column-vector y was passed when a 1d array was expected. Please change the shape of y to (n_samples,), for example using ravel().\n",
      "  return fit_method(estimator, *args, **kwargs)\n"
     ]
    },
    {
     "data": {
      "text/html": [
       "<style>#sk-container-id-10 {color: black;}#sk-container-id-10 pre{padding: 0;}#sk-container-id-10 div.sk-toggleable {background-color: white;}#sk-container-id-10 label.sk-toggleable__label {cursor: pointer;display: block;width: 100%;margin-bottom: 0;padding: 0.3em;box-sizing: border-box;text-align: center;}#sk-container-id-10 label.sk-toggleable__label-arrow:before {content: \"▸\";float: left;margin-right: 0.25em;color: #696969;}#sk-container-id-10 label.sk-toggleable__label-arrow:hover:before {color: black;}#sk-container-id-10 div.sk-estimator:hover label.sk-toggleable__label-arrow:before {color: black;}#sk-container-id-10 div.sk-toggleable__content {max-height: 0;max-width: 0;overflow: hidden;text-align: left;background-color: #f0f8ff;}#sk-container-id-10 div.sk-toggleable__content pre {margin: 0.2em;color: black;border-radius: 0.25em;background-color: #f0f8ff;}#sk-container-id-10 input.sk-toggleable__control:checked~div.sk-toggleable__content {max-height: 200px;max-width: 100%;overflow: auto;}#sk-container-id-10 input.sk-toggleable__control:checked~label.sk-toggleable__label-arrow:before {content: \"▾\";}#sk-container-id-10 div.sk-estimator input.sk-toggleable__control:checked~label.sk-toggleable__label {background-color: #d4ebff;}#sk-container-id-10 div.sk-label input.sk-toggleable__control:checked~label.sk-toggleable__label {background-color: #d4ebff;}#sk-container-id-10 input.sk-hidden--visually {border: 0;clip: rect(1px 1px 1px 1px);clip: rect(1px, 1px, 1px, 1px);height: 1px;margin: -1px;overflow: hidden;padding: 0;position: absolute;width: 1px;}#sk-container-id-10 div.sk-estimator {font-family: monospace;background-color: #f0f8ff;border: 1px dotted black;border-radius: 0.25em;box-sizing: border-box;margin-bottom: 0.5em;}#sk-container-id-10 div.sk-estimator:hover {background-color: #d4ebff;}#sk-container-id-10 div.sk-parallel-item::after {content: \"\";width: 100%;border-bottom: 1px solid gray;flex-grow: 1;}#sk-container-id-10 div.sk-label:hover label.sk-toggleable__label {background-color: #d4ebff;}#sk-container-id-10 div.sk-serial::before {content: \"\";position: absolute;border-left: 1px solid gray;box-sizing: border-box;top: 0;bottom: 0;left: 50%;z-index: 0;}#sk-container-id-10 div.sk-serial {display: flex;flex-direction: column;align-items: center;background-color: white;padding-right: 0.2em;padding-left: 0.2em;position: relative;}#sk-container-id-10 div.sk-item {position: relative;z-index: 1;}#sk-container-id-10 div.sk-parallel {display: flex;align-items: stretch;justify-content: center;background-color: white;position: relative;}#sk-container-id-10 div.sk-item::before, #sk-container-id-10 div.sk-parallel-item::before {content: \"\";position: absolute;border-left: 1px solid gray;box-sizing: border-box;top: 0;bottom: 0;left: 50%;z-index: -1;}#sk-container-id-10 div.sk-parallel-item {display: flex;flex-direction: column;z-index: 1;position: relative;background-color: white;}#sk-container-id-10 div.sk-parallel-item:first-child::after {align-self: flex-end;width: 50%;}#sk-container-id-10 div.sk-parallel-item:last-child::after {align-self: flex-start;width: 50%;}#sk-container-id-10 div.sk-parallel-item:only-child::after {width: 0;}#sk-container-id-10 div.sk-dashed-wrapped {border: 1px dashed gray;margin: 0 0.4em 0.5em 0.4em;box-sizing: border-box;padding-bottom: 0.4em;background-color: white;}#sk-container-id-10 div.sk-label label {font-family: monospace;font-weight: bold;display: inline-block;line-height: 1.2em;}#sk-container-id-10 div.sk-label-container {text-align: center;}#sk-container-id-10 div.sk-container {/* jupyter's `normalize.less` sets `[hidden] { display: none; }` but bootstrap.min.css set `[hidden] { display: none !important; }` so we also need the `!important` here to be able to override the default hidden behavior on the sphinx rendered scikit-learn.org. See: https://github.com/scikit-learn/scikit-learn/issues/21755 */display: inline-block !important;position: relative;}#sk-container-id-10 div.sk-text-repr-fallback {display: none;}</style><div id=\"sk-container-id-10\" class=\"sk-top-container\"><div class=\"sk-text-repr-fallback\"><pre>RandomForestClassifier(criterion=&#x27;entropy&#x27;, max_depth=10, n_estimators=1000)</pre><b>In a Jupyter environment, please rerun this cell to show the HTML representation or trust the notebook. <br />On GitHub, the HTML representation is unable to render, please try loading this page with nbviewer.org.</b></div><div class=\"sk-container\" hidden><div class=\"sk-item\"><div class=\"sk-estimator sk-toggleable\"><input class=\"sk-toggleable__control sk-hidden--visually\" id=\"sk-estimator-id-10\" type=\"checkbox\" checked><label for=\"sk-estimator-id-10\" class=\"sk-toggleable__label sk-toggleable__label-arrow\">RandomForestClassifier</label><div class=\"sk-toggleable__content\"><pre>RandomForestClassifier(criterion=&#x27;entropy&#x27;, max_depth=10, n_estimators=1000)</pre></div></div></div></div></div>"
      ],
      "text/plain": [
       "RandomForestClassifier(criterion='entropy', max_depth=10, n_estimators=1000)"
      ]
     },
     "execution_count": 118,
     "metadata": {},
     "output_type": "execute_result"
    }
   ],
   "source": [
    "rf_clf.fit(X_train, y_train)"
   ]
  },
  {
   "cell_type": "markdown",
   "id": "3246f001",
   "metadata": {
    "id": "3246f001"
   },
   "source": [
    "## Test Model"
   ]
  },
  {
   "cell_type": "code",
   "execution_count": 119,
   "id": "f1a1d9c4",
   "metadata": {
    "colab": {
     "base_uri": "https://localhost:8080/"
    },
    "executionInfo": {
     "elapsed": 2168,
     "status": "ok",
     "timestamp": 1685243511355,
     "user": {
      "displayName": "Zaky Syihan",
      "userId": "05654158214121247060"
     },
     "user_tz": -420
    },
    "id": "f1a1d9c4",
    "outputId": "171e3224-1ca0-4913-8661-056629b294dd"
   },
   "outputs": [
    {
     "name": "stdout",
     "output_type": "stream",
     "text": [
      "Model Accuracy Training: 0.925\n"
     ]
    }
   ],
   "source": [
    "model_score = rf_clf.score(X_train, y_train)\n",
    "print('Model Accuracy Training:', round(model_score,4))"
   ]
  },
  {
   "cell_type": "code",
   "execution_count": 120,
   "id": "UfQZkIWhVnfx",
   "metadata": {
    "colab": {
     "base_uri": "https://localhost:8080/"
    },
    "executionInfo": {
     "elapsed": 1014,
     "status": "ok",
     "timestamp": 1685243513593,
     "user": {
      "displayName": "Zaky Syihan",
      "userId": "05654158214121247060"
     },
     "user_tz": -420
    },
    "id": "UfQZkIWhVnfx",
    "outputId": "f46a92bf-457b-447c-af23-c3c96431c0fd"
   },
   "outputs": [
    {
     "name": "stdout",
     "output_type": "stream",
     "text": [
      "Model Accuracy Testing: 0.9102\n"
     ]
    }
   ],
   "source": [
    "model_score = rf_clf.score(X_test, y_test)\n",
    "print('Model Accuracy Testing:', round(model_score,4))"
   ]
  },
  {
   "cell_type": "code",
   "execution_count": 121,
   "id": "eee0ce2f",
   "metadata": {
    "colab": {
     "base_uri": "https://localhost:8080/"
    },
    "executionInfo": {
     "elapsed": 2,
     "status": "ok",
     "timestamp": 1685243056966,
     "user": {
      "displayName": "Zaky Syihan",
      "userId": "05654158214121247060"
     },
     "user_tz": -420
    },
    "id": "eee0ce2f",
    "outputId": "c0f3e661-5d5c-40db-e097-7abf0e9f1bc6"
   },
   "outputs": [
    {
     "name": "stdout",
     "output_type": "stream",
     "text": [
      "Model Accuracy: 0.9102\n"
     ]
    }
   ],
   "source": [
    "# default random forest (n_estimators=100, criterion='gini')\n",
    "print('Model Accuracy:', round(model_score,4))"
   ]
  },
  {
   "cell_type": "code",
   "execution_count": 122,
   "id": "BpzTdq9-UTVt",
   "metadata": {
    "colab": {
     "base_uri": "https://localhost:8080/"
    },
    "executionInfo": {
     "elapsed": 348,
     "status": "ok",
     "timestamp": 1685243132535,
     "user": {
      "displayName": "Zaky Syihan",
      "userId": "05654158214121247060"
     },
     "user_tz": -420
    },
    "id": "BpzTdq9-UTVt",
    "outputId": "9c08e3e0-abc2-41eb-fa3c-cde8faa9eafc"
   },
   "outputs": [
    {
     "name": "stdout",
     "output_type": "stream",
     "text": [
      "Model Accuracy: 0.9102\n"
     ]
    }
   ],
   "source": [
    "# n_estimators=100, criterion='entropy'\n",
    "print('Model Accuracy:', round(model_score,4))"
   ]
  },
  {
   "cell_type": "code",
   "execution_count": 123,
   "id": "e6olS4o8UxX0",
   "metadata": {
    "colab": {
     "base_uri": "https://localhost:8080/"
    },
    "executionInfo": {
     "elapsed": 3,
     "status": "ok",
     "timestamp": 1685243292911,
     "user": {
      "displayName": "Zaky Syihan",
      "userId": "05654158214121247060"
     },
     "user_tz": -420
    },
    "id": "e6olS4o8UxX0",
    "outputId": "5759a3ab-f9b1-4200-f67e-86dbcd3bd0d3"
   },
   "outputs": [
    {
     "name": "stdout",
     "output_type": "stream",
     "text": [
      "Model Accuracy: 0.9102\n"
     ]
    }
   ],
   "source": [
    "# n_estimators=500, criterion='entropy', max_depth=10'\n",
    "print('Model Accuracy:', round(model_score,4))"
   ]
  },
  {
   "cell_type": "code",
   "execution_count": 124,
   "id": "koa9PaZ-T00A",
   "metadata": {
    "colab": {
     "base_uri": "https://localhost:8080/"
    },
    "executionInfo": {
     "elapsed": 2,
     "status": "ok",
     "timestamp": 1685243041472,
     "user": {
      "displayName": "Zaky Syihan",
      "userId": "05654158214121247060"
     },
     "user_tz": -420
    },
    "id": "koa9PaZ-T00A",
    "outputId": "b97637db-fbce-4d51-e3b1-968ceef185e7"
   },
   "outputs": [
    {
     "name": "stdout",
     "output_type": "stream",
     "text": [
      "Model Accuracy: 0.9102\n"
     ]
    }
   ],
   "source": [
    "# n_estimators=10\n",
    "print('Model Accuracy:', round(model_score,4))"
   ]
  },
  {
   "cell_type": "markdown",
   "id": "210b3b84",
   "metadata": {
    "id": "210b3b84"
   },
   "source": [
    "## Check Importance Score"
   ]
  },
  {
   "cell_type": "code",
   "execution_count": 125,
   "id": "1523a255",
   "metadata": {
    "colab": {
     "base_uri": "https://localhost:8080/",
     "height": 882
    },
    "executionInfo": {
     "elapsed": 1395,
     "status": "ok",
     "timestamp": 1685242380162,
     "user": {
      "displayName": "Zaky Syihan",
      "userId": "05654158214121247060"
     },
     "user_tz": -420
    },
    "id": "1523a255",
    "outputId": "276fea45-f5d4-4b39-bd70-4f100934ea0c"
   },
   "outputs": [
    {
     "data": {
      "image/png": "[encoded data removed]",
      "text/plain": [
       "<Figure size 1500x1000 with 1 Axes>"
      ]
     },
     "metadata": {},
     "output_type": "display_data"
    }
   ],
   "source": [
    "X_ = np.array(X)\n",
    "importance_scores = rf_clf.feature_importances_\n",
    "indices = np.argsort(importance_scores)\n",
    "\n",
    "plt.figure(figsize=(15, 10))\n",
    "feature_importances = pd.Series(rf_clf.feature_importances_, index=X)\n",
    "feature_importances.nlargest(20).sort_values(ascending=True).plot(kind='barh')\n",
    "plt.title('Feature Importance')\n",
    "plt.show()"
   ]
  },
  {
   "cell_type": "markdown",
   "id": "b189d651",
   "metadata": {
    "id": "b189d651"
   },
   "source": [
    "## Future Improvements"
   ]
  },
  {
   "cell_type": "markdown",
   "id": "c21dff16",
   "metadata": {
    "id": "c21dff16"
   },
   "source": [
    "1. Ask clients to provide more data\n",
    "2. Augment data using oversampling or undersampling technique\n",
    "3. Tune hyper-parameters of Random Forest\n",
    "4. Implement ROC-AUC technique"
   ]
  },
  {
   "cell_type": "markdown",
   "id": "8228381f",
   "metadata": {
    "id": "8228381f"
   },
   "source": [
    "## Display The Tree"
   ]
  },
  {
   "cell_type": "code",
   "execution_count": 126,
   "id": "cc0df486",
   "metadata": {
    "executionInfo": {
     "elapsed": 357,
     "status": "ok",
     "timestamp": 1685242597964,
     "user": {
      "displayName": "Zaky Syihan",
      "userId": "05654158214121247060"
     },
     "user_tz": -420
    },
    "id": "cc0df486"
   },
   "outputs": [],
   "source": [
    "from sklearn.tree import export_graphviz"
   ]
  },
  {
   "cell_type": "code",
   "execution_count": 127,
   "id": "af70c5af",
   "metadata": {
    "executionInfo": {
     "elapsed": 364,
     "status": "ok",
     "timestamp": 1685242621850,
     "user": {
      "displayName": "Zaky Syihan",
      "userId": "05654158214121247060"
     },
     "user_tz": -420
    },
    "id": "af70c5af"
   },
   "outputs": [],
   "source": [
    "estimator = rf_clf.estimators_[0] # choose only 1 decision tree"
   ]
  },
  {
   "cell_type": "code",
   "execution_count": 130,
   "id": "a0a370b0",
   "metadata": {
    "executionInfo": {
     "elapsed": 1052,
     "status": "ok",
     "timestamp": 1685242624581,
     "user": {
      "displayName": "Zaky Syihan",
      "userId": "05654158214121247060"
     },
     "user_tz": -420
    },
    "id": "a0a370b0"
   },
   "outputs": [],
   "source": [
    "export_graphviz(estimator, rounded=True, proportion=False, out_file='tree.dot',\n",
    "                feature_names=X_train.columns, precision=2, filled=True)"
   ]
  },
  {
   "cell_type": "code",
   "execution_count": 131,
   "id": "da4ff991",
   "metadata": {
    "colab": {
     "base_uri": "https://localhost:8080/",
     "height": 1000,
     "output_embedded_package_id": "1F_DI2VyiDFs2sDA_nbWas7ewqFSHRhZB"
    },
    "executionInfo": {
     "elapsed": 31559,
     "status": "ok",
     "timestamp": 1685242796533,
     "user": {
      "displayName": "Zaky Syihan",
      "userId": "05654158214121247060"
     },
     "user_tz": -420
    },
    "id": "da4ff991",
    "outputId": "718ba1f7-fab9-44a0-8337-059b5c2dd2f6"
   },
   "outputs": [
    {
     "ename": "FileNotFoundError",
     "evalue": "[Errno 2] No such file or directory: 'dot'",
     "output_type": "error",
     "traceback": [
      "\u001b[0;31m---------------------------------------------------------------------------\u001b[0m",
      "\u001b[0;31mFileNotFoundError\u001b[0m                         Traceback (most recent call last)",
      "Cell \u001b[0;32mIn[131], line 2\u001b[0m\n\u001b[1;32m      1\u001b[0m \u001b[38;5;28;01mfrom\u001b[39;00m \u001b[38;5;21;01msubprocess\u001b[39;00m \u001b[38;5;28;01mimport\u001b[39;00m call\n\u001b[0;32m----> 2\u001b[0m \u001b[43mcall\u001b[49m\u001b[43m(\u001b[49m\u001b[43m[\u001b[49m\u001b[38;5;124;43m'\u001b[39;49m\u001b[38;5;124;43mdot\u001b[39;49m\u001b[38;5;124;43m'\u001b[39;49m\u001b[43m,\u001b[49m\u001b[43m \u001b[49m\u001b[38;5;124;43m'\u001b[39;49m\u001b[38;5;124;43m-Tpng\u001b[39;49m\u001b[38;5;124;43m'\u001b[39;49m\u001b[43m,\u001b[49m\u001b[43m \u001b[49m\u001b[38;5;124;43m'\u001b[39;49m\u001b[38;5;124;43mtree.dot\u001b[39;49m\u001b[38;5;124;43m'\u001b[39;49m\u001b[43m,\u001b[49m\u001b[43m \u001b[49m\u001b[38;5;124;43m'\u001b[39;49m\u001b[38;5;124;43m-o\u001b[39;49m\u001b[38;5;124;43m'\u001b[39;49m\u001b[43m,\u001b[49m\u001b[43m \u001b[49m\u001b[38;5;124;43m'\u001b[39;49m\u001b[38;5;124;43mtree.png\u001b[39;49m\u001b[38;5;124;43m'\u001b[39;49m\u001b[43m,\u001b[49m\u001b[43m \u001b[49m\u001b[38;5;124;43m'\u001b[39;49m\u001b[38;5;124;43m-Gdpi=1000\u001b[39;49m\u001b[38;5;124;43m'\u001b[39;49m\u001b[43m]\u001b[49m\u001b[43m)\u001b[49m\n\u001b[1;32m      4\u001b[0m \u001b[38;5;28;01mfrom\u001b[39;00m \u001b[38;5;21;01mIPython\u001b[39;00m\u001b[38;5;21;01m.\u001b[39;00m\u001b[38;5;21;01mdisplay\u001b[39;00m \u001b[38;5;28;01mimport\u001b[39;00m Image\n\u001b[1;32m      5\u001b[0m Image(filename \u001b[38;5;241m=\u001b[39m \u001b[38;5;124m'\u001b[39m\u001b[38;5;124mtree.png\u001b[39m\u001b[38;5;124m'\u001b[39m)\n",
      "File \u001b[0;32m/opt/conda/lib/python3.11/subprocess.py:389\u001b[0m, in \u001b[0;36mcall\u001b[0;34m(timeout, *popenargs, **kwargs)\u001b[0m\n\u001b[1;32m    381\u001b[0m \u001b[38;5;28;01mdef\u001b[39;00m \u001b[38;5;21mcall\u001b[39m(\u001b[38;5;241m*\u001b[39mpopenargs, timeout\u001b[38;5;241m=\u001b[39m\u001b[38;5;28;01mNone\u001b[39;00m, \u001b[38;5;241m*\u001b[39m\u001b[38;5;241m*\u001b[39mkwargs):\n\u001b[1;32m    382\u001b[0m \u001b[38;5;250m    \u001b[39m\u001b[38;5;124;03m\"\"\"Run command with arguments.  Wait for command to complete or\u001b[39;00m\n\u001b[1;32m    383\u001b[0m \u001b[38;5;124;03m    timeout, then return the returncode attribute.\u001b[39;00m\n\u001b[1;32m    384\u001b[0m \n\u001b[0;32m   (...)\u001b[0m\n\u001b[1;32m    387\u001b[0m \u001b[38;5;124;03m    retcode = call([\"ls\", \"-l\"])\u001b[39;00m\n\u001b[1;32m    388\u001b[0m \u001b[38;5;124;03m    \"\"\"\u001b[39;00m\n\u001b[0;32m--> 389\u001b[0m     \u001b[38;5;28;01mwith\u001b[39;00m \u001b[43mPopen\u001b[49m\u001b[43m(\u001b[49m\u001b[38;5;241;43m*\u001b[39;49m\u001b[43mpopenargs\u001b[49m\u001b[43m,\u001b[49m\u001b[43m \u001b[49m\u001b[38;5;241;43m*\u001b[39;49m\u001b[38;5;241;43m*\u001b[39;49m\u001b[43mkwargs\u001b[49m\u001b[43m)\u001b[49m \u001b[38;5;28;01mas\u001b[39;00m p:\n\u001b[1;32m    390\u001b[0m         \u001b[38;5;28;01mtry\u001b[39;00m:\n\u001b[1;32m    391\u001b[0m             \u001b[38;5;28;01mreturn\u001b[39;00m p\u001b[38;5;241m.\u001b[39mwait(timeout\u001b[38;5;241m=\u001b[39mtimeout)\n",
      "File \u001b[0;32m/opt/conda/lib/python3.11/subprocess.py:1026\u001b[0m, in \u001b[0;36mPopen.__init__\u001b[0;34m(self, args, bufsize, executable, stdin, stdout, stderr, preexec_fn, close_fds, shell, cwd, env, universal_newlines, startupinfo, creationflags, restore_signals, start_new_session, pass_fds, user, group, extra_groups, encoding, errors, text, umask, pipesize, process_group)\u001b[0m\n\u001b[1;32m   1022\u001b[0m         \u001b[38;5;28;01mif\u001b[39;00m \u001b[38;5;28mself\u001b[39m\u001b[38;5;241m.\u001b[39mtext_mode:\n\u001b[1;32m   1023\u001b[0m             \u001b[38;5;28mself\u001b[39m\u001b[38;5;241m.\u001b[39mstderr \u001b[38;5;241m=\u001b[39m io\u001b[38;5;241m.\u001b[39mTextIOWrapper(\u001b[38;5;28mself\u001b[39m\u001b[38;5;241m.\u001b[39mstderr,\n\u001b[1;32m   1024\u001b[0m                     encoding\u001b[38;5;241m=\u001b[39mencoding, errors\u001b[38;5;241m=\u001b[39merrors)\n\u001b[0;32m-> 1026\u001b[0m     \u001b[38;5;28;43mself\u001b[39;49m\u001b[38;5;241;43m.\u001b[39;49m\u001b[43m_execute_child\u001b[49m\u001b[43m(\u001b[49m\u001b[43margs\u001b[49m\u001b[43m,\u001b[49m\u001b[43m \u001b[49m\u001b[43mexecutable\u001b[49m\u001b[43m,\u001b[49m\u001b[43m \u001b[49m\u001b[43mpreexec_fn\u001b[49m\u001b[43m,\u001b[49m\u001b[43m \u001b[49m\u001b[43mclose_fds\u001b[49m\u001b[43m,\u001b[49m\n\u001b[1;32m   1027\u001b[0m \u001b[43m                        \u001b[49m\u001b[43mpass_fds\u001b[49m\u001b[43m,\u001b[49m\u001b[43m \u001b[49m\u001b[43mcwd\u001b[49m\u001b[43m,\u001b[49m\u001b[43m \u001b[49m\u001b[43menv\u001b[49m\u001b[43m,\u001b[49m\n\u001b[1;32m   1028\u001b[0m \u001b[43m                        \u001b[49m\u001b[43mstartupinfo\u001b[49m\u001b[43m,\u001b[49m\u001b[43m \u001b[49m\u001b[43mcreationflags\u001b[49m\u001b[43m,\u001b[49m\u001b[43m \u001b[49m\u001b[43mshell\u001b[49m\u001b[43m,\u001b[49m\n\u001b[1;32m   1029\u001b[0m \u001b[43m                        \u001b[49m\u001b[43mp2cread\u001b[49m\u001b[43m,\u001b[49m\u001b[43m \u001b[49m\u001b[43mp2cwrite\u001b[49m\u001b[43m,\u001b[49m\n\u001b[1;32m   1030\u001b[0m \u001b[43m                        \u001b[49m\u001b[43mc2pread\u001b[49m\u001b[43m,\u001b[49m\u001b[43m \u001b[49m\u001b[43mc2pwrite\u001b[49m\u001b[43m,\u001b[49m\n\u001b[1;32m   1031\u001b[0m \u001b[43m                        \u001b[49m\u001b[43merrread\u001b[49m\u001b[43m,\u001b[49m\u001b[43m \u001b[49m\u001b[43merrwrite\u001b[49m\u001b[43m,\u001b[49m\n\u001b[1;32m   1032\u001b[0m \u001b[43m                        \u001b[49m\u001b[43mrestore_signals\u001b[49m\u001b[43m,\u001b[49m\n\u001b[1;32m   1033\u001b[0m \u001b[43m                        \u001b[49m\u001b[43mgid\u001b[49m\u001b[43m,\u001b[49m\u001b[43m \u001b[49m\u001b[43mgids\u001b[49m\u001b[43m,\u001b[49m\u001b[43m \u001b[49m\u001b[43muid\u001b[49m\u001b[43m,\u001b[49m\u001b[43m \u001b[49m\u001b[43mumask\u001b[49m\u001b[43m,\u001b[49m\n\u001b[1;32m   1034\u001b[0m \u001b[43m                        \u001b[49m\u001b[43mstart_new_session\u001b[49m\u001b[43m,\u001b[49m\u001b[43m \u001b[49m\u001b[43mprocess_group\u001b[49m\u001b[43m)\u001b[49m\n\u001b[1;32m   1035\u001b[0m \u001b[38;5;28;01mexcept\u001b[39;00m:\n\u001b[1;32m   1036\u001b[0m     \u001b[38;5;66;03m# Cleanup if the child failed starting.\u001b[39;00m\n\u001b[1;32m   1037\u001b[0m     \u001b[38;5;28;01mfor\u001b[39;00m f \u001b[38;5;129;01min\u001b[39;00m \u001b[38;5;28mfilter\u001b[39m(\u001b[38;5;28;01mNone\u001b[39;00m, (\u001b[38;5;28mself\u001b[39m\u001b[38;5;241m.\u001b[39mstdin, \u001b[38;5;28mself\u001b[39m\u001b[38;5;241m.\u001b[39mstdout, \u001b[38;5;28mself\u001b[39m\u001b[38;5;241m.\u001b[39mstderr)):\n",
      "File \u001b[0;32m/opt/conda/lib/python3.11/subprocess.py:1950\u001b[0m, in \u001b[0;36mPopen._execute_child\u001b[0;34m(self, args, executable, preexec_fn, close_fds, pass_fds, cwd, env, startupinfo, creationflags, shell, p2cread, p2cwrite, c2pread, c2pwrite, errread, errwrite, restore_signals, gid, gids, uid, umask, start_new_session, process_group)\u001b[0m\n\u001b[1;32m   1948\u001b[0m     \u001b[38;5;28;01mif\u001b[39;00m errno_num \u001b[38;5;241m!=\u001b[39m \u001b[38;5;241m0\u001b[39m:\n\u001b[1;32m   1949\u001b[0m         err_msg \u001b[38;5;241m=\u001b[39m os\u001b[38;5;241m.\u001b[39mstrerror(errno_num)\n\u001b[0;32m-> 1950\u001b[0m     \u001b[38;5;28;01mraise\u001b[39;00m child_exception_type(errno_num, err_msg, err_filename)\n\u001b[1;32m   1951\u001b[0m \u001b[38;5;28;01mraise\u001b[39;00m child_exception_type(err_msg)\n",
      "\u001b[0;31mFileNotFoundError\u001b[0m: [Errno 2] No such file or directory: 'dot'"
     ]
    }
   ],
   "source": [
    "from subprocess import call\n",
    "call(['dot', '-Tpng', 'tree.dot', '-o', 'tree.png', '-Gdpi=1000'])\n",
    "\n",
    "from IPython.display import Image\n",
    "Image(filename = 'tree.png')"
   ]
  },
  {
   "cell_type": "markdown",
   "id": "0a627a15",
   "metadata": {
    "id": "0a627a15"
   },
   "source": [
    "---"
   ]
  }
 ],
 "metadata": {
  "colab": {
   "provenance": [
    {
     "file_id": "1pNVjmiN7jvt2aXhsnpv2Pctzjyk7wxfd",
     "timestamp": 1685206311455
    }
   ]
  },
  "kernelspec": {
   "display_name": "Python 3 (ipykernel)",
   "language": "python",
   "name": "python3"
  },
  "language_info": {
   "codemirror_mode": {
    "name": "ipython",
    "version": 3
   },
   "file_extension": ".py",
   "mimetype": "text/x-python",
   "name": "python",
   "nbconvert_exporter": "python",
   "pygments_lexer": "ipython3",
   "version": "3.12.1"
  }
 },
 "nbformat": 4,
 "nbformat_minor": 5
}
