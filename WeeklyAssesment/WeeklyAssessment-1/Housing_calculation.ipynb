{
 "cells": [
  {
   "cell_type": "code",
   "execution_count": 1,
   "metadata": {},
   "outputs": [],
   "source": [
    "import numpy as np\n",
    "import pandas as pd\n",
    "import matplotlib.pyplot as plt\n",
    "import seaborn as sns\n",
    "pd.set_option('display.max_columns', None)\n"
   ]
  },
  {
   "cell_type": "markdown",
   "metadata": {},
   "source": []
  },
  {
   "cell_type": "code",
   "execution_count": null,
   "metadata": {},
   "outputs": [],
   "source": [
    "file = pd.read_csv('./train.csv')\n",
    "dfOriginal = pd.DataFrame(file).drop(columns=('Id'))\n",
    "\n",
    "fileTest = pd.read_csv('./test.csv')\n",
    "dfTest = pd.DataFrame(fileTest).drop(columns=('Id'))\n",
    "\n",
    "INDEXES = {\n",
    "  'train': {\n",
    "    'start': 0,\n",
    "    'end': dfOriginal.shape[0] - 1,\n",
    "  },\n",
    "  'test': {\n",
    "    'start': dfOriginal.shape[0],\n",
    "    'end': dfOriginal.shape[0] - 1 + dfTest.shape[0] - 1\n",
    "  }\n",
    "}\n",
    "\n",
    "df = result_df = pd.concat([dfOriginal, dfTest], ignore_index=True)\n",
    "df"
   ]
  },
  {
   "cell_type": "code",
   "execution_count": null,
   "metadata": {},
   "outputs": [],
   "source": [
    "df.head()"
   ]
  },
  {
   "cell_type": "code",
   "execution_count": null,
   "metadata": {},
   "outputs": [],
   "source": [
    "df.tail()"
   ]
  },
  {
   "cell_type": "code",
   "execution_count": null,
   "metadata": {},
   "outputs": [],
   "source": [
    "categoryTypeColumns = list(df.select_dtypes(exclude=['number']).columns)\n",
    "numericalColumns = list(df.select_dtypes(include=['int64', 'float64']))"
   ]
  },
  {
   "cell_type": "code",
   "execution_count": null,
   "metadata": {},
   "outputs": [],
   "source": [
    "# Fill null or N/A to categorical columns\n",
    "df[categoryTypeColumns] = df[categoryTypeColumns].apply(lambda col: col.fillna(col.mode()[0]))"
   ]
  },
  {
   "cell_type": "code",
   "execution_count": null,
   "metadata": {},
   "outputs": [],
   "source": [
    "def convertCategoryColumns(dataFrame, categoryTypeColumns):\n",
    "  # convert categorical to true false\n",
    "  for var in categoryTypeColumns:\n",
    "    cat_list = pd.get_dummies(dataFrame[var], prefix=var)\n",
    "    dataFrame = dataFrame.join(cat_list)\n",
    "\n",
    "  # remove categorical\n",
    "  allColumns = dataFrame.columns.values.tolist()\n",
    "  keepColumns = [i for i in allColumns if i not in categoryTypeColumns]\n",
    "  dataFrame = dataFrame[keepColumns]\n",
    "\n",
    "  return dataFrame"
   ]
  },
  {
   "cell_type": "code",
   "execution_count": null,
   "metadata": {},
   "outputs": [],
   "source": [
    "# convert categorical columns with one-hot-encoding\n",
    "dfConverted = convertCategoryColumns(dataFrame=df, categoryTypeColumns=categoryTypeColumns)"
   ]
  },
  {
   "cell_type": "code",
   "execution_count": null,
   "metadata": {},
   "outputs": [],
   "source": [
    "dfConverted.head()"
   ]
  },
  {
   "cell_type": "code",
   "execution_count": null,
   "metadata": {},
   "outputs": [],
   "source": [
    "dfConverted.tail()"
   ]
  },
  {
   "cell_type": "code",
   "execution_count": null,
   "metadata": {},
   "outputs": [],
   "source": [
    "# fill out N/A value with mean value\n",
    "dfConverted.fillna(dfConverted.mean(numeric_only=True), inplace=True)"
   ]
  },
  {
   "cell_type": "code",
   "execution_count": null,
   "metadata": {},
   "outputs": [],
   "source": [
    "missingData = dfConverted.isnull().sum()\n",
    "dataTypeColumns = dfConverted.dtypes\n",
    "dataTypeColumns\n",
    "pd.set_option('display.max_rows', None)\n",
    "\n",
    "missingDataDf = pd.DataFrame({'Missing Value': missingData, 'Data Type': dataTypeColumns})\n",
    "\n",
    "print(missingDataDf)\n",
    "pd.reset_option('display.max_rows')\n",
    "\n",
    "# Expet missing value / null value is 0"
   ]
  },
  {
   "cell_type": "code",
   "execution_count": null,
   "metadata": {},
   "outputs": [],
   "source": [
    "# separate Train and Test DataFrames\n",
    "dfTrain = dfConverted.loc[:INDEXES['train']['end']]\n",
    "dfTest = dfConverted.loc[INDEXES['test']['start']:INDEXES['test']['end']]\n",
    "\n",
    "# get X and Y train\n",
    "X_train = dfTrain.drop(columns=('SalePrice'), axis=1)\n",
    "y_train = dfTrain['SalePrice']\n",
    "\n",
    "# get X Test\n",
    "X_test = dfTest.drop(columns=('SalePrice'), axis=1)\n",
    "\n",
    "dfTrain"
   ]
  },
  {
   "cell_type": "code",
   "execution_count": null,
   "metadata": {},
   "outputs": [],
   "source": [
    "# Random Forest Regressor\n",
    "from sklearn.ensemble import RandomForestRegressor\n",
    "\n",
    "modelRFRegressor = RandomForestRegressor(n_estimators=1000, random_state=42)\n",
    "modelRFRegressor.fit(X_train, y_train)\n"
   ]
  },
  {
   "cell_type": "code",
   "execution_count": null,
   "metadata": {},
   "outputs": [],
   "source": [
    "scoreRFRegressor = modelRFRegressor.score(X_train,y_train)\n",
    "print(f'Score: {scoreRFRegressor}')\n",
    "\n",
    "predictedSalePricesRFR = modelRFRegressor.predict(X_test)\n",
    "print(predictedSalePricesRFR)"
   ]
  },
  {
   "cell_type": "code",
   "execution_count": null,
   "metadata": {},
   "outputs": [],
   "source": [
    "# Linear Regression\n",
    "from sklearn.linear_model import LinearRegression\n",
    "\n",
    "modelLinearRegression = LinearRegression()\n",
    "modelLinearRegression.fit(X_train, y_train)"
   ]
  },
  {
   "cell_type": "code",
   "execution_count": null,
   "metadata": {},
   "outputs": [],
   "source": [
    "scoreModelLinearRegression = modelLinearRegression.score(X_train, y_train)\n",
    "print(f'Score: {scoreModelLinearRegression}')\n",
    "\n",
    "predictedSalePricesLR = modelLinearRegression.predict(X_test)\n",
    "print(predictedSalePricesLR)"
   ]
  },
  {
   "cell_type": "code",
   "execution_count": null,
   "metadata": {},
   "outputs": [],
   "source": [
    "dataPredictedSales = pd.DataFrame({'RF': predictedSalePricesRFR, 'LR': predictedSalePricesLR})\n",
    "dataPredictedSales"
   ]
  },
  {
   "cell_type": "code",
   "execution_count": null,
   "metadata": {},
   "outputs": [],
   "source": [
    "dfCompare = pd.DataFrame({\n",
    "  'RFR': predictedSalePricesRFR,\n",
    "  'LR': predictedSalePricesLR,\n",
    "})\n",
    "\n",
    "dfCompare['Diff'] = dfCompare['RFR'] - dfCompare['LR']\n",
    "print(dfCompare)\n",
    "print(dfCompare.describe())"
   ]
  }
 ],
 "metadata": {
  "kernelspec": {
   "display_name": "Python 3",
   "language": "python",
   "name": "python3"
  },
  "language_info": {
   "codemirror_mode": {
    "name": "ipython",
    "version": 3
   },
   "file_extension": ".py",
   "mimetype": "text/x-python",
   "name": "python",
   "nbconvert_exporter": "python",
   "pygments_lexer": "ipython3",
   "version": "3.12.1"
  }
 },
 "nbformat": 4,
 "nbformat_minor": 2
}
