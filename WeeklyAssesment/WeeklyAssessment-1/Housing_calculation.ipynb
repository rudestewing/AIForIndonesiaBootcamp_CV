{
 "cells": [
  {
   "cell_type": "markdown",
   "metadata": {},
   "source": [
    "## Goals: \n",
    "\n",
    "Melakukan Prediksi 'Sale Price' dari data yang diberikan "
   ]
  },
  {
   "cell_type": "code",
   "execution_count": null,
   "metadata": {},
   "outputs": [],
   "source": [
    "## Uncomment apabila mau install pacakges\n",
    "# %pip install numpy pandas seaborn matplotlib scikit-learn"
   ]
  },
  {
   "cell_type": "markdown",
   "metadata": {},
   "source": [
    "#### Import Libraries"
   ]
  },
  {
   "cell_type": "code",
   "execution_count": null,
   "metadata": {},
   "outputs": [],
   "source": [
    "import numpy as np\n",
    "import pandas as pd\n",
    "import matplotlib.pyplot as plt\n",
    "\n",
    "\n",
    "# Configurasi pandas untuk display semua kolom\n",
    "pd.set_option('display.max_columns', None)"
   ]
  },
  {
   "cell_type": "markdown",
   "metadata": {},
   "source": [
    "#### Load File \n",
    "\n",
    "load file train & test"
   ]
  },
  {
   "cell_type": "code",
   "execution_count": null,
   "metadata": {},
   "outputs": [],
   "source": [
    "file = pd.read_csv('./train.csv')\n",
    "dfOriginal = pd.DataFrame(file).drop(columns=('Id'))\n",
    "\n",
    "fileTest = pd.read_csv('./test.csv')\n",
    "dfTest = pd.DataFrame(fileTest).drop(columns=('Id'))"
   ]
  },
  {
   "cell_type": "markdown",
   "metadata": {},
   "source": [
    "#### Gabungkan file dan berikan index"
   ]
  },
  {
   "cell_type": "code",
   "execution_count": null,
   "metadata": {},
   "outputs": [],
   "source": [
    "df = result_df = pd.concat([dfOriginal, dfTest], ignore_index=True)\n",
    "\n",
    "INDEXES = {\n",
    "  'train': {\n",
    "    'start': 0,\n",
    "    'end': dfOriginal.shape[0] - 1,\n",
    "  },\n",
    "  'test': {\n",
    "    'start': dfOriginal.shape[0],\n",
    "    'end': dfOriginal.shape[0] - 1 + dfTest.shape[0] - 1\n",
    "  }\n",
    "}\n",
    "\n",
    "df"
   ]
  },
  {
   "cell_type": "markdown",
   "metadata": {},
   "source": [
    "#### Mengecek head & tail\n",
    "memastikan bahwa file yang kita import sudah benar"
   ]
  },
  {
   "cell_type": "code",
   "execution_count": null,
   "metadata": {},
   "outputs": [],
   "source": [
    "df.head()"
   ]
  },
  {
   "cell_type": "code",
   "execution_count": null,
   "metadata": {},
   "outputs": [],
   "source": [
    "df.tail()"
   ]
  },
  {
   "cell_type": "markdown",
   "metadata": {},
   "source": [
    "#### mengambil informasi kolom yang bersifat Kategorikal & Numerikal"
   ]
  },
  {
   "cell_type": "code",
   "execution_count": null,
   "metadata": {},
   "outputs": [],
   "source": [
    "categoryTypeColumns = list(df.select_dtypes(exclude=['number']).columns)\n",
    "numericalColumns = list(df.select_dtypes(include=['int64', 'float64']))"
   ]
  },
  {
   "cell_type": "markdown",
   "metadata": {},
   "source": [
    "#### Memproses data yang kosong \n",
    "\n",
    "Setiap kolom kategorikal, diisi value yang `null` dengan nilai yang sering muncul pada kolom tersebut dengan method `fillna`\n"
   ]
  },
  {
   "cell_type": "code",
   "execution_count": null,
   "metadata": {},
   "outputs": [],
   "source": [
    "# Fill null or N/A to categorical columns\n",
    "df[categoryTypeColumns] = df[categoryTypeColumns].apply(lambda col: col.fillna(col.mode()[0]))"
   ]
  },
  {
   "cell_type": "markdown",
   "metadata": {},
   "source": [
    "#### Deklarasi functions yang diperlukan "
   ]
  },
  {
   "cell_type": "code",
   "execution_count": null,
   "metadata": {},
   "outputs": [],
   "source": [
    "def processCategoricalColumnsWithOneHotEncoding(dataFrame, categoryTypeColumns):\n",
    "  # convert categorical to true false\n",
    "  for var in categoryTypeColumns:\n",
    "    cat_list = pd.get_dummies(dataFrame[var], prefix=var)\n",
    "    dataFrame = dataFrame.join(cat_list)\n",
    "\n",
    "  # remove categorical\n",
    "  allColumns = dataFrame.columns.values.tolist()\n",
    "  keepColumns = [i for i in allColumns if i not in categoryTypeColumns]\n",
    "  dataFrame = dataFrame[keepColumns]\n",
    "\n",
    "  return dataFrame"
   ]
  },
  {
   "cell_type": "markdown",
   "metadata": {},
   "source": [
    "#### Konversi kolom kategorikal dengan one-hot-encoding\n",
    "kolom yang bersifat kategorikal menjadi nilai absolut yang bisa dibaca oleh komputer dengan metode one-hot-encoding\n"
   ]
  },
  {
   "cell_type": "code",
   "execution_count": null,
   "metadata": {},
   "outputs": [],
   "source": [
    "# convert categorical columns with one-hot-encoding\n",
    "dfConverted = processCategoricalColumnsWithOneHotEncoding(dataFrame=df, categoryTypeColumns=categoryTypeColumns)"
   ]
  },
  {
   "cell_type": "markdown",
   "metadata": {},
   "source": [
    "#### Pencekan Head & Tail file\n",
    "memastikan bahwa dataframe berhasil di-convert"
   ]
  },
  {
   "cell_type": "code",
   "execution_count": null,
   "metadata": {},
   "outputs": [],
   "source": [
    "dfConverted.head()"
   ]
  },
  {
   "cell_type": "code",
   "execution_count": null,
   "metadata": {},
   "outputs": [],
   "source": [
    "dfConverted.tail()"
   ]
  },
  {
   "cell_type": "markdown",
   "metadata": {},
   "source": [
    "#### Memproses data yang kosong \n",
    "\n",
    "Setiap kolom numerikal, diisi value yang `null` dengan nilai rata-rata pada kolom tersebut dengan method `fillna`\n"
   ]
  },
  {
   "cell_type": "code",
   "execution_count": null,
   "metadata": {},
   "outputs": [],
   "source": [
    "# fill out N/A value with mean value\n",
    "dfConverted.fillna(dfConverted.mean(numeric_only=True), inplace=True)"
   ]
  },
  {
   "cell_type": "markdown",
   "metadata": {},
   "source": [
    "#### Memastikan bahwa tidak ada nilai `null` pada dataframe"
   ]
  },
  {
   "cell_type": "code",
   "execution_count": null,
   "metadata": {},
   "outputs": [],
   "source": [
    "missingData = dfConverted.isnull().sum()\n",
    "dataTypeColumns = dfConverted.dtypes\n",
    "dataTypeColumns\n",
    "pd.set_option('display.max_rows', None)\n",
    "\n",
    "missingDataDf = pd.DataFrame({'Missing Value': missingData, 'Data Type': dataTypeColumns})\n",
    "\n",
    "print(missingDataDf)\n",
    "pd.reset_option('display.max_rows')\n",
    "\n",
    "# Expet missing value / null value is 0"
   ]
  },
  {
   "cell_type": "markdown",
   "metadata": {},
   "source": [
    "#### Pisahkan dataframe \n",
    "Train & Test yang telah digabungkan dipisahkan berdasarkan nomor index yang sudah didefinisikan diawal"
   ]
  },
  {
   "cell_type": "code",
   "execution_count": null,
   "metadata": {},
   "outputs": [],
   "source": [
    "# separate Train and Test DataFrames\n",
    "dfTrain = dfConverted.loc[:INDEXES['train']['end']]\n",
    "dfTest = dfConverted.loc[INDEXES['test']['start']:INDEXES['test']['end']]\n",
    "\n",
    "# get X and Y train\n",
    "X_train = dfTrain.drop(columns=('SalePrice'), axis=1)\n",
    "y_train = dfTrain['SalePrice']\n",
    "\n",
    "# get X Test\n",
    "X_test = dfTest.drop(columns=('SalePrice'), axis=1)\n",
    "\n",
    "dfTrain"
   ]
  },
  {
   "cell_type": "markdown",
   "metadata": {},
   "source": [
    "#### Modeling dengan Random Forest Regressor"
   ]
  },
  {
   "cell_type": "code",
   "execution_count": 16,
   "metadata": {},
   "outputs": [],
   "source": [
    "# Random Forest Regressor\n",
    "from sklearn.ensemble import RandomForestRegressor\n",
    "\n",
    "modelRFRegressor = RandomForestRegressor(n_estimators=1000, random_state=42)\n",
    "modelRFRegressor.fit(X_train, y_train)\n"
   ]
  },
  {
   "cell_type": "markdown",
   "metadata": {},
   "source": [
    "#### Mengecek score model dengan method `.score()`"
   ]
  },
  {
   "cell_type": "code",
   "execution_count": null,
   "metadata": {},
   "outputs": [],
   "source": [
    "scoreRFRegressor = modelRFRegressor.score(X_train,y_train)\n",
    "print(f'Score: {scoreRFRegressor}')\n",
    "\n",
    "predictedSalePricesRFR = modelRFRegressor.predict(X_test)\n",
    "print(predictedSalePricesRFR)"
   ]
  },
  {
   "cell_type": "markdown",
   "metadata": {},
   "source": [
    "bisa disimpulkan score yang dihasilkan dengan **Random Forest Regressor** \n",
    "\n",
    "n_estimators = `1000`\n",
    "\n",
    "random_state = `42`\n",
    "\n",
    "mendapatkan score `0.98`\n"
   ]
  },
  {
   "cell_type": "markdown",
   "metadata": {},
   "source": [
    "---"
   ]
  },
  {
   "cell_type": "markdown",
   "metadata": {},
   "source": [
    "#### Modeling dengan Linear Regression"
   ]
  },
  {
   "cell_type": "code",
   "execution_count": null,
   "metadata": {},
   "outputs": [],
   "source": [
    "# Linear Regression\n",
    "from sklearn.linear_model import LinearRegression\n",
    "\n",
    "modelLinearRegression = LinearRegression()\n",
    "modelLinearRegression.fit(X_train, y_train)"
   ]
  },
  {
   "cell_type": "markdown",
   "metadata": {},
   "source": [
    "#### Mengecek score model dengan method `.score()`"
   ]
  },
  {
   "cell_type": "code",
   "execution_count": null,
   "metadata": {},
   "outputs": [],
   "source": [
    "scoreModelLinearRegression = modelLinearRegression.score(X_train, y_train)\n",
    "print(f'Score: {scoreModelLinearRegression}')\n",
    "\n",
    "predictedSalePricesLR = modelLinearRegression.predict(X_test)\n",
    "print(predictedSalePricesLR)"
   ]
  },
  {
   "cell_type": "markdown",
   "metadata": {},
   "source": [
    "bisa disimpulkan score yang dihasilkan dengan **Linear Regression** \n",
    "\n",
    "mendapatkan score `0.93`\n",
    "\n",
    "lebih rendah dibandingkan dengan menggunakan **RFR**\n"
   ]
  },
  {
   "cell_type": "markdown",
   "metadata": {},
   "source": []
  },
  {
   "cell_type": "markdown",
   "metadata": {},
   "source": [
    "---\n",
    "\n",
    "Dilihat dari scorenya maka model yang lebih baik digunakan yaitu Random Forest Regressor\n",
    "\n",
    "---\n"
   ]
  },
  {
   "cell_type": "code",
   "execution_count": null,
   "metadata": {},
   "outputs": [],
   "source": [
    "### Mengecek R2 Score dengan cara split dataframe dari Dataframe train\n",
    "from sklearn.model_selection import train_test_split\n",
    "\n",
    "X_train, X_test, y_train, y_test = train_test_split(dfTrain.drop(columns=['SalePrice']), dfTrain['SalePrice'], test_size=0.2)"
   ]
  },
  {
   "cell_type": "code",
   "execution_count": null,
   "metadata": {},
   "outputs": [],
   "source": [
    "modelRFRegressor = RandomForestRegressor(n_estimators=1000, random_state=42)\n",
    "modelRFRegressor.fit(X_train, y_train)\n",
    "y_pred = modelRFRegressor.predict(X_test)\n",
    "\n",
    "# Scatter plot of actual vs. predicted sale prices for Random Forest Regressor Model\n",
    "plt.figure(figsize=(12, 4))  # Adjust size of the plot\n",
    "plt.scatter(y_test, y_pred, color='g', alpha=0.5)\n",
    "plt.plot([y_test.min(), y_test.max()], [y_test.min(), y_test.max()], 'k--', lw=2)  # Plotting the diagonal line\n",
    "plt.xlabel('Actual Sale Prices')\n",
    "plt.ylabel('Prediction')\n",
    "plt.title('Actual vs. Prediction')\n",
    "plt.show()\n"
   ]
  },
  {
   "cell_type": "code",
   "execution_count": null,
   "metadata": {},
   "outputs": [],
   "source": [
    "from sklearn.metrics import mean_squared_error, mean_absolute_error, r2_score\n",
    "print(\"mean squared error: \",mean_squared_error(y_test, y_pred))\n",
    "print(\"mean absolute error test: \",mean_absolute_error(y_test, y_pred))\n",
    "print(\"r2 score test: \",r2_score(y_test, y_pred))\n"
   ]
  },
  {
   "cell_type": "code",
   "execution_count": null,
   "metadata": {},
   "outputs": [],
   "source": [
    "modelLinearRegression = LinearRegression()\n",
    "modelLinearRegression.fit(X_train, y_train)\n",
    "y_pred = modelLinearRegression.predict(X_test)\n",
    "\n",
    "# Scatter plot of actual vs. predicted sale prices for Random Forest Regressor Model\n",
    "plt.figure(figsize=(12, 4))  # Adjust size of the plot\n",
    "plt.scatter(y_test, y_pred, color='g', alpha=0.5)\n",
    "plt.plot([y_test.min(), y_test.max()], [y_test.min(), y_test.max()], 'k--', lw=2)  # Plotting the diagonal line\n",
    "plt.xlabel('Actual Sale Prices')\n",
    "plt.ylabel('Prediction')\n",
    "plt.title('Actual vs. Prediction')\n",
    "plt.show()"
   ]
  },
  {
   "cell_type": "code",
   "execution_count": null,
   "metadata": {},
   "outputs": [],
   "source": [
    "from sklearn.metrics import mean_squared_error, mean_absolute_error, r2_score\n",
    "print(\"mean squared error: \",mean_squared_error(y_test, y_pred))\n",
    "print(\"mean absolute error test: \",mean_absolute_error(y_test, y_pred))\n",
    "print(\"r2 score test: \",r2_score(y_test, y_pred))\n"
   ]
  }
 ],
 "metadata": {
  "kernelspec": {
   "display_name": "Python 3",
   "language": "python",
   "name": "python3"
  },
  "language_info": {
   "codemirror_mode": {
    "name": "ipython",
    "version": 3
   },
   "file_extension": ".py",
   "mimetype": "text/x-python",
   "name": "python",
   "nbconvert_exporter": "python",
   "pygments_lexer": "ipython3",
   "version": "3.12.1"
  }
 },
 "nbformat": 4,
 "nbformat_minor": 2
}
